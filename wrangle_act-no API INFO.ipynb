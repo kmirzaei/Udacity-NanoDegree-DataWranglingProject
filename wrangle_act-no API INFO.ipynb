{
 "cells": [
  {
   "cell_type": "code",
   "execution_count": 432,
   "metadata": {},
   "outputs": [],
   "source": [
    "# importing all the required libraries for this workbook: \n",
    "\n",
    "import numpy as np\n",
    "import pandas as pd\n",
    "import matplotlib.pyplot as plt\n",
    "import requests\n",
    "import json\n",
    "import tweepy\n",
    "from tweepy import OAuthHandler\n",
    "import os\n",
    "import time\n",
    "import datetime\n",
    "from timeit import default_timer as timer\n",
    "import seaborn as sb\n",
    "\n",
    "\n",
    "%matplotlib inline\n",
    "\n",
    "# display full string from a pandas DataFrame\n",
    "pd.options.display.max_rows\n",
    "pd.set_option('display.max_colwidth', -1)"
   ]
  },
  {
   "cell_type": "markdown",
   "metadata": {},
   "source": [
    " [Introduction](#introduction)\n",
    " \n",
    " [Data Gathering Part](#data_gathering)\n",
    " \n",
    " 1. [Enhanced Tweeter Archive](#enhanced_twitter_archive)\n",
    " 2. [Image Prediction](#image_prediction)\n",
    " 3. [Tweet JSON Data](#tweet_json_data)\n",
    " \n",
    "[Assessing Data](#assessing_data)\n",
    "\n",
    " 1. [Twitter Archive Data](#twitter_archive_data)\n",
    " 2. [Image Prediction Data](#image_prediction_data)\n",
    " 3. [JSON Data](#json_data_assessment)\n",
    " \n",
    "[Assessment Summary](#assessment_summary)\n",
    "\n",
    "[Data Clearning](#data_cleaning)\n",
    "\n",
    "[Data Analysis and Vizualization](#data_analysis)"
   ]
  },
  {
   "cell_type": "markdown",
   "metadata": {},
   "source": [
    "By Kathy Mirzaei"
   ]
  },
  {
   "cell_type": "markdown",
   "metadata": {},
   "source": [
    "# Introduction: \n",
    "<a id=\"introduction\"></a>"
   ]
  },
  {
   "cell_type": "markdown",
   "metadata": {},
   "source": [
    "\"We Rate Dogs\" is a Twitter account that rates people's dogs with a humorous comment about the dog. This Twitter archive contains over 5000 tweets, which have been filtered to create the enhanced archive that forms the basis of this analysis. The goal of this project is to wrangle the data; gather, assess, and clean the data into a tidy dataset, and then provide analyses and visualizations."
   ]
  },
  {
   "cell_type": "markdown",
   "metadata": {},
   "source": [
    "# Data Gathering Part:\n",
    "<id a=\"data_gathering_part\"></a>"
   ]
  },
  {
   "cell_type": "markdown",
   "metadata": {},
   "source": [
    "### 1. Enhanced Twitter Archive\n",
    "<a id=\"enhanced_twitter_archive\"></a>"
   ]
  },
  {
   "cell_type": "markdown",
   "metadata": {},
   "source": [
    "\n",
    "The `WeRateDogs Twitter archive` is provided by Udacity"
   ]
  },
  {
   "cell_type": "code",
   "execution_count": 262,
   "metadata": {},
   "outputs": [
    {
     "data": {
      "text/html": [
       "<div>\n",
       "<style scoped>\n",
       "    .dataframe tbody tr th:only-of-type {\n",
       "        vertical-align: middle;\n",
       "    }\n",
       "\n",
       "    .dataframe tbody tr th {\n",
       "        vertical-align: top;\n",
       "    }\n",
       "\n",
       "    .dataframe thead th {\n",
       "        text-align: right;\n",
       "    }\n",
       "</style>\n",
       "<table border=\"1\" class=\"dataframe\">\n",
       "  <thead>\n",
       "    <tr style=\"text-align: right;\">\n",
       "      <th></th>\n",
       "      <th>tweet_id</th>\n",
       "      <th>in_reply_to_status_id</th>\n",
       "      <th>in_reply_to_user_id</th>\n",
       "      <th>timestamp</th>\n",
       "      <th>source</th>\n",
       "      <th>text</th>\n",
       "      <th>retweeted_status_id</th>\n",
       "      <th>retweeted_status_user_id</th>\n",
       "      <th>retweeted_status_timestamp</th>\n",
       "      <th>expanded_urls</th>\n",
       "      <th>rating_numerator</th>\n",
       "      <th>rating_denominator</th>\n",
       "      <th>name</th>\n",
       "      <th>doggo</th>\n",
       "      <th>floofer</th>\n",
       "      <th>pupper</th>\n",
       "      <th>puppo</th>\n",
       "    </tr>\n",
       "  </thead>\n",
       "  <tbody>\n",
       "    <tr>\n",
       "      <th>0</th>\n",
       "      <td>892420643555336193</td>\n",
       "      <td>NaN</td>\n",
       "      <td>NaN</td>\n",
       "      <td>2017-08-01 16:23:56 +0000</td>\n",
       "      <td>&lt;a href=\"http://twitter.com/download/iphone\" rel=\"nofollow\"&gt;Twitter for iPhone&lt;/a&gt;</td>\n",
       "      <td>This is Phineas. He's a mystical boy. Only ever appears in the hole of a donut. 13/10 https://t.co/MgUWQ76dJU</td>\n",
       "      <td>NaN</td>\n",
       "      <td>NaN</td>\n",
       "      <td>NaN</td>\n",
       "      <td>https://twitter.com/dog_rates/status/892420643555336193/photo/1</td>\n",
       "      <td>13</td>\n",
       "      <td>10</td>\n",
       "      <td>Phineas</td>\n",
       "      <td>None</td>\n",
       "      <td>None</td>\n",
       "      <td>None</td>\n",
       "      <td>None</td>\n",
       "    </tr>\n",
       "    <tr>\n",
       "      <th>1</th>\n",
       "      <td>892177421306343426</td>\n",
       "      <td>NaN</td>\n",
       "      <td>NaN</td>\n",
       "      <td>2017-08-01 00:17:27 +0000</td>\n",
       "      <td>&lt;a href=\"http://twitter.com/download/iphone\" rel=\"nofollow\"&gt;Twitter for iPhone&lt;/a&gt;</td>\n",
       "      <td>This is Tilly. She's just checking pup on you. Hopes you're doing ok. If not, she's available for pats, snugs, boops, the whole bit. 13/10 https://t.co/0Xxu71qeIV</td>\n",
       "      <td>NaN</td>\n",
       "      <td>NaN</td>\n",
       "      <td>NaN</td>\n",
       "      <td>https://twitter.com/dog_rates/status/892177421306343426/photo/1</td>\n",
       "      <td>13</td>\n",
       "      <td>10</td>\n",
       "      <td>Tilly</td>\n",
       "      <td>None</td>\n",
       "      <td>None</td>\n",
       "      <td>None</td>\n",
       "      <td>None</td>\n",
       "    </tr>\n",
       "    <tr>\n",
       "      <th>2</th>\n",
       "      <td>891815181378084864</td>\n",
       "      <td>NaN</td>\n",
       "      <td>NaN</td>\n",
       "      <td>2017-07-31 00:18:03 +0000</td>\n",
       "      <td>&lt;a href=\"http://twitter.com/download/iphone\" rel=\"nofollow\"&gt;Twitter for iPhone&lt;/a&gt;</td>\n",
       "      <td>This is Archie. He is a rare Norwegian Pouncing Corgo. Lives in the tall grass. You never know when one may strike. 12/10 https://t.co/wUnZnhtVJB</td>\n",
       "      <td>NaN</td>\n",
       "      <td>NaN</td>\n",
       "      <td>NaN</td>\n",
       "      <td>https://twitter.com/dog_rates/status/891815181378084864/photo/1</td>\n",
       "      <td>12</td>\n",
       "      <td>10</td>\n",
       "      <td>Archie</td>\n",
       "      <td>None</td>\n",
       "      <td>None</td>\n",
       "      <td>None</td>\n",
       "      <td>None</td>\n",
       "    </tr>\n",
       "    <tr>\n",
       "      <th>3</th>\n",
       "      <td>891689557279858688</td>\n",
       "      <td>NaN</td>\n",
       "      <td>NaN</td>\n",
       "      <td>2017-07-30 15:58:51 +0000</td>\n",
       "      <td>&lt;a href=\"http://twitter.com/download/iphone\" rel=\"nofollow\"&gt;Twitter for iPhone&lt;/a&gt;</td>\n",
       "      <td>This is Darla. She commenced a snooze mid meal. 13/10 happens to the best of us https://t.co/tD36da7qLQ</td>\n",
       "      <td>NaN</td>\n",
       "      <td>NaN</td>\n",
       "      <td>NaN</td>\n",
       "      <td>https://twitter.com/dog_rates/status/891689557279858688/photo/1</td>\n",
       "      <td>13</td>\n",
       "      <td>10</td>\n",
       "      <td>Darla</td>\n",
       "      <td>None</td>\n",
       "      <td>None</td>\n",
       "      <td>None</td>\n",
       "      <td>None</td>\n",
       "    </tr>\n",
       "    <tr>\n",
       "      <th>4</th>\n",
       "      <td>891327558926688256</td>\n",
       "      <td>NaN</td>\n",
       "      <td>NaN</td>\n",
       "      <td>2017-07-29 16:00:24 +0000</td>\n",
       "      <td>&lt;a href=\"http://twitter.com/download/iphone\" rel=\"nofollow\"&gt;Twitter for iPhone&lt;/a&gt;</td>\n",
       "      <td>This is Franklin. He would like you to stop calling him \"cute.\" He is a very fierce shark and should be respected as such. 12/10 #BarkWeek https://t.co/AtUZn91f7f</td>\n",
       "      <td>NaN</td>\n",
       "      <td>NaN</td>\n",
       "      <td>NaN</td>\n",
       "      <td>https://twitter.com/dog_rates/status/891327558926688256/photo/1,https://twitter.com/dog_rates/status/891327558926688256/photo/1</td>\n",
       "      <td>12</td>\n",
       "      <td>10</td>\n",
       "      <td>Franklin</td>\n",
       "      <td>None</td>\n",
       "      <td>None</td>\n",
       "      <td>None</td>\n",
       "      <td>None</td>\n",
       "    </tr>\n",
       "  </tbody>\n",
       "</table>\n",
       "</div>"
      ],
      "text/plain": [
       "             tweet_id  in_reply_to_status_id  in_reply_to_user_id  \\\n",
       "0  892420643555336193 NaN                    NaN                    \n",
       "1  892177421306343426 NaN                    NaN                    \n",
       "2  891815181378084864 NaN                    NaN                    \n",
       "3  891689557279858688 NaN                    NaN                    \n",
       "4  891327558926688256 NaN                    NaN                    \n",
       "\n",
       "                   timestamp  \\\n",
       "0  2017-08-01 16:23:56 +0000   \n",
       "1  2017-08-01 00:17:27 +0000   \n",
       "2  2017-07-31 00:18:03 +0000   \n",
       "3  2017-07-30 15:58:51 +0000   \n",
       "4  2017-07-29 16:00:24 +0000   \n",
       "\n",
       "                                                                               source  \\\n",
       "0  <a href=\"http://twitter.com/download/iphone\" rel=\"nofollow\">Twitter for iPhone</a>   \n",
       "1  <a href=\"http://twitter.com/download/iphone\" rel=\"nofollow\">Twitter for iPhone</a>   \n",
       "2  <a href=\"http://twitter.com/download/iphone\" rel=\"nofollow\">Twitter for iPhone</a>   \n",
       "3  <a href=\"http://twitter.com/download/iphone\" rel=\"nofollow\">Twitter for iPhone</a>   \n",
       "4  <a href=\"http://twitter.com/download/iphone\" rel=\"nofollow\">Twitter for iPhone</a>   \n",
       "\n",
       "                                                                                                                                                                 text  \\\n",
       "0  This is Phineas. He's a mystical boy. Only ever appears in the hole of a donut. 13/10 https://t.co/MgUWQ76dJU                                                        \n",
       "1  This is Tilly. She's just checking pup on you. Hopes you're doing ok. If not, she's available for pats, snugs, boops, the whole bit. 13/10 https://t.co/0Xxu71qeIV   \n",
       "2  This is Archie. He is a rare Norwegian Pouncing Corgo. Lives in the tall grass. You never know when one may strike. 12/10 https://t.co/wUnZnhtVJB                    \n",
       "3  This is Darla. She commenced a snooze mid meal. 13/10 happens to the best of us https://t.co/tD36da7qLQ                                                              \n",
       "4  This is Franklin. He would like you to stop calling him \"cute.\" He is a very fierce shark and should be respected as such. 12/10 #BarkWeek https://t.co/AtUZn91f7f   \n",
       "\n",
       "   retweeted_status_id  retweeted_status_user_id retweeted_status_timestamp  \\\n",
       "0 NaN                  NaN                        NaN                         \n",
       "1 NaN                  NaN                        NaN                         \n",
       "2 NaN                  NaN                        NaN                         \n",
       "3 NaN                  NaN                        NaN                         \n",
       "4 NaN                  NaN                        NaN                         \n",
       "\n",
       "                                                                                                                     expanded_urls  \\\n",
       "0  https://twitter.com/dog_rates/status/892420643555336193/photo/1                                                                   \n",
       "1  https://twitter.com/dog_rates/status/892177421306343426/photo/1                                                                   \n",
       "2  https://twitter.com/dog_rates/status/891815181378084864/photo/1                                                                   \n",
       "3  https://twitter.com/dog_rates/status/891689557279858688/photo/1                                                                   \n",
       "4  https://twitter.com/dog_rates/status/891327558926688256/photo/1,https://twitter.com/dog_rates/status/891327558926688256/photo/1   \n",
       "\n",
       "   rating_numerator  rating_denominator      name doggo floofer pupper puppo  \n",
       "0  13                10                  Phineas   None  None    None   None  \n",
       "1  13                10                  Tilly     None  None    None   None  \n",
       "2  12                10                  Archie    None  None    None   None  \n",
       "3  13                10                  Darla     None  None    None   None  \n",
       "4  12                10                  Franklin  None  None    None   None  "
      ]
     },
     "execution_count": 262,
     "metadata": {},
     "output_type": "execute_result"
    }
   ],
   "source": [
    "#Opening the `WeRateDogs Twitter archive`: \n",
    "\n",
    "tweet_archive=pd.read_csv('twitter-archive-enhanced.csv')\n",
    "tweet_archive.head()"
   ]
  },
  {
   "cell_type": "code",
   "execution_count": 263,
   "metadata": {},
   "outputs": [
    {
     "name": "stdout",
     "output_type": "stream",
     "text": [
      "<class 'pandas.core.frame.DataFrame'>\n",
      "RangeIndex: 2356 entries, 0 to 2355\n",
      "Data columns (total 17 columns):\n",
      "tweet_id                      2356 non-null int64\n",
      "in_reply_to_status_id         78 non-null float64\n",
      "in_reply_to_user_id           78 non-null float64\n",
      "timestamp                     2356 non-null object\n",
      "source                        2356 non-null object\n",
      "text                          2356 non-null object\n",
      "retweeted_status_id           181 non-null float64\n",
      "retweeted_status_user_id      181 non-null float64\n",
      "retweeted_status_timestamp    181 non-null object\n",
      "expanded_urls                 2297 non-null object\n",
      "rating_numerator              2356 non-null int64\n",
      "rating_denominator            2356 non-null int64\n",
      "name                          2356 non-null object\n",
      "doggo                         2356 non-null object\n",
      "floofer                       2356 non-null object\n",
      "pupper                        2356 non-null object\n",
      "puppo                         2356 non-null object\n",
      "dtypes: float64(4), int64(3), object(10)\n",
      "memory usage: 313.0+ KB\n"
     ]
    }
   ],
   "source": [
    "tweet_archive.info()"
   ]
  },
  {
   "cell_type": "markdown",
   "metadata": {},
   "source": [
    "`Sample Tweet Data`\n",
    "\n",
    "Below is a sample of one of the tweets I have chosen to display:"
   ]
  },
  {
   "cell_type": "code",
   "execution_count": 133,
   "metadata": {},
   "outputs": [
    {
     "data": {
      "text/plain": [
       "tweet_id                      892177421306343426                                                                                                                                                \n",
       "in_reply_to_status_id         NaN                                                                                                                                                               \n",
       "in_reply_to_user_id           NaN                                                                                                                                                               \n",
       "timestamp                     2017-08-01 00:17:27 +0000                                                                                                                                         \n",
       "source                        <a href=\"http://twitter.com/download/iphone\" rel=\"nofollow\">Twitter for iPhone</a>                                                                                \n",
       "text                          This is Tilly. She's just checking pup on you. Hopes you're doing ok. If not, she's available for pats, snugs, boops, the whole bit. 13/10 https://t.co/0Xxu71qeIV\n",
       "retweeted_status_id           NaN                                                                                                                                                               \n",
       "retweeted_status_user_id      NaN                                                                                                                                                               \n",
       "retweeted_status_timestamp    NaN                                                                                                                                                               \n",
       "expanded_urls                 https://twitter.com/dog_rates/status/892177421306343426/photo/1                                                                                                   \n",
       "rating_numerator              13                                                                                                                                                                \n",
       "rating_denominator            10                                                                                                                                                                \n",
       "name                          Tilly                                                                                                                                                             \n",
       "doggo                         None                                                                                                                                                              \n",
       "floofer                       None                                                                                                                                                              \n",
       "pupper                        None                                                                                                                                                              \n",
       "puppo                         None                                                                                                                                                              \n",
       "Name: 1, dtype: object"
      ]
     },
     "execution_count": 133,
     "metadata": {},
     "output_type": "execute_result"
    }
   ],
   "source": [
    "#lets take a look at one tweet as a sample:\n",
    "sample_tweet = twit_archive.iloc[1]\n",
    "sample_tweet"
   ]
  },
  {
   "cell_type": "code",
   "execution_count": 134,
   "metadata": {},
   "outputs": [
    {
     "data": {
      "text/plain": [
       "\"This is Tilly. She's just checking pup on you. Hopes you're doing ok. If not, she's available for pats, snugs, boops, the whole bit. 13/10 https://t.co/0Xxu71qeIV\""
      ]
     },
     "execution_count": 134,
     "metadata": {},
     "output_type": "execute_result"
    }
   ],
   "source": [
    "sample_tweet.text"
   ]
  },
  {
   "cell_type": "code",
   "execution_count": 135,
   "metadata": {},
   "outputs": [
    {
     "data": {
      "text/plain": [
       "'https://twitter.com/dog_rates/status/892177421306343426/photo/1'"
      ]
     },
     "execution_count": 135,
     "metadata": {},
     "output_type": "execute_result"
    }
   ],
   "source": [
    "sample_tweet.expanded_urls"
   ]
  },
  {
   "cell_type": "markdown",
   "metadata": {},
   "source": [
    "### 2. Image Prediction \n",
    "<a id=\"image_prediction\"></a>"
   ]
  },
  {
   "cell_type": "markdown",
   "metadata": {},
   "source": [
    "File: image_predictions.tsv\n",
    "This file contains the tweet image predictions(e.g. what breed of dog is present in each tweet according to a neural network). This file was downloaded using the Requests library with the following URL mentioned in Project Details: https://d17h27t6h515a5.cloudfront.net/topher/2017/August/599fd2ad_image-predictions/image-predictions.tsv"
   ]
  },
  {
   "cell_type": "code",
   "execution_count": 88,
   "metadata": {},
   "outputs": [
    {
     "data": {
      "text/plain": [
       "<Response [200]>"
      ]
     },
     "execution_count": 88,
     "metadata": {},
     "output_type": "execute_result"
    }
   ],
   "source": [
    "\n",
    "url = 'https://d17h27t6h515a5.cloudfront.net/topher/2017/August/599fd2ad_image-predictions/image-predictions.tsv'\n",
    "r = requests.get(url)\n",
    "response = requests.get(url)\n",
    "response\n"
   ]
  },
  {
   "cell_type": "markdown",
   "metadata": {},
   "source": [
    "response 200 means request has been successful"
   ]
  },
  {
   "cell_type": "code",
   "execution_count": 89,
   "metadata": {},
   "outputs": [
    {
     "data": {
      "text/plain": [
       "335079"
      ]
     },
     "execution_count": 89,
     "metadata": {},
     "output_type": "execute_result"
    }
   ],
   "source": [
    "open('image_predictions.tsv', 'wb').write(r.content)"
   ]
  },
  {
   "cell_type": "code",
   "execution_count": 90,
   "metadata": {},
   "outputs": [],
   "source": [
    "images = url.split('/')[-1]\n",
    "\n",
    "with open(os.path.join('./', images), mode = 'wb') as file:\n",
    "    file.write(response.content)"
   ]
  },
  {
   "cell_type": "code",
   "execution_count": 91,
   "metadata": {},
   "outputs": [
    {
     "name": "stdout",
     "output_type": "stream",
     "text": [
      "<class 'pandas.core.frame.DataFrame'>\n",
      "RangeIndex: 2075 entries, 0 to 2074\n",
      "Data columns (total 12 columns):\n",
      "tweet_id    2075 non-null int64\n",
      "jpg_url     2075 non-null object\n",
      "img_num     2075 non-null int64\n",
      "p1          2075 non-null object\n",
      "p1_conf     2075 non-null float64\n",
      "p1_dog      2075 non-null bool\n",
      "p2          2075 non-null object\n",
      "p2_conf     2075 non-null float64\n",
      "p2_dog      2075 non-null bool\n",
      "p3          2075 non-null object\n",
      "p3_conf     2075 non-null float64\n",
      "p3_dog      2075 non-null bool\n",
      "dtypes: bool(3), float64(3), int64(2), object(4)\n",
      "memory usage: 152.1+ KB\n"
     ]
    },
    {
     "data": {
      "text/html": [
       "<div>\n",
       "<style scoped>\n",
       "    .dataframe tbody tr th:only-of-type {\n",
       "        vertical-align: middle;\n",
       "    }\n",
       "\n",
       "    .dataframe tbody tr th {\n",
       "        vertical-align: top;\n",
       "    }\n",
       "\n",
       "    .dataframe thead th {\n",
       "        text-align: right;\n",
       "    }\n",
       "</style>\n",
       "<table border=\"1\" class=\"dataframe\">\n",
       "  <thead>\n",
       "    <tr style=\"text-align: right;\">\n",
       "      <th></th>\n",
       "      <th>tweet_id</th>\n",
       "      <th>jpg_url</th>\n",
       "      <th>img_num</th>\n",
       "      <th>p1</th>\n",
       "      <th>p1_conf</th>\n",
       "      <th>p1_dog</th>\n",
       "      <th>p2</th>\n",
       "      <th>p2_conf</th>\n",
       "      <th>p2_dog</th>\n",
       "      <th>p3</th>\n",
       "      <th>p3_conf</th>\n",
       "      <th>p3_dog</th>\n",
       "    </tr>\n",
       "  </thead>\n",
       "  <tbody>\n",
       "    <tr>\n",
       "      <th>0</th>\n",
       "      <td>666020888022790149</td>\n",
       "      <td>https://pbs.twimg.com/media/CT4udn0WwAA0aMy.jpg</td>\n",
       "      <td>1</td>\n",
       "      <td>Welsh_springer_spaniel</td>\n",
       "      <td>0.465074</td>\n",
       "      <td>True</td>\n",
       "      <td>collie</td>\n",
       "      <td>0.156665</td>\n",
       "      <td>True</td>\n",
       "      <td>Shetland_sheepdog</td>\n",
       "      <td>0.061428</td>\n",
       "      <td>True</td>\n",
       "    </tr>\n",
       "    <tr>\n",
       "      <th>1</th>\n",
       "      <td>666029285002620928</td>\n",
       "      <td>https://pbs.twimg.com/media/CT42GRgUYAA5iDo.jpg</td>\n",
       "      <td>1</td>\n",
       "      <td>redbone</td>\n",
       "      <td>0.506826</td>\n",
       "      <td>True</td>\n",
       "      <td>miniature_pinscher</td>\n",
       "      <td>0.074192</td>\n",
       "      <td>True</td>\n",
       "      <td>Rhodesian_ridgeback</td>\n",
       "      <td>0.072010</td>\n",
       "      <td>True</td>\n",
       "    </tr>\n",
       "    <tr>\n",
       "      <th>2</th>\n",
       "      <td>666033412701032449</td>\n",
       "      <td>https://pbs.twimg.com/media/CT4521TWwAEvMyu.jpg</td>\n",
       "      <td>1</td>\n",
       "      <td>German_shepherd</td>\n",
       "      <td>0.596461</td>\n",
       "      <td>True</td>\n",
       "      <td>malinois</td>\n",
       "      <td>0.138584</td>\n",
       "      <td>True</td>\n",
       "      <td>bloodhound</td>\n",
       "      <td>0.116197</td>\n",
       "      <td>True</td>\n",
       "    </tr>\n",
       "    <tr>\n",
       "      <th>3</th>\n",
       "      <td>666044226329800704</td>\n",
       "      <td>https://pbs.twimg.com/media/CT5Dr8HUEAA-lEu.jpg</td>\n",
       "      <td>1</td>\n",
       "      <td>Rhodesian_ridgeback</td>\n",
       "      <td>0.408143</td>\n",
       "      <td>True</td>\n",
       "      <td>redbone</td>\n",
       "      <td>0.360687</td>\n",
       "      <td>True</td>\n",
       "      <td>miniature_pinscher</td>\n",
       "      <td>0.222752</td>\n",
       "      <td>True</td>\n",
       "    </tr>\n",
       "    <tr>\n",
       "      <th>4</th>\n",
       "      <td>666049248165822465</td>\n",
       "      <td>https://pbs.twimg.com/media/CT5IQmsXIAAKY4A.jpg</td>\n",
       "      <td>1</td>\n",
       "      <td>miniature_pinscher</td>\n",
       "      <td>0.560311</td>\n",
       "      <td>True</td>\n",
       "      <td>Rottweiler</td>\n",
       "      <td>0.243682</td>\n",
       "      <td>True</td>\n",
       "      <td>Doberman</td>\n",
       "      <td>0.154629</td>\n",
       "      <td>True</td>\n",
       "    </tr>\n",
       "  </tbody>\n",
       "</table>\n",
       "</div>"
      ],
      "text/plain": [
       "             tweet_id                                          jpg_url  \\\n",
       "0  666020888022790149  https://pbs.twimg.com/media/CT4udn0WwAA0aMy.jpg   \n",
       "1  666029285002620928  https://pbs.twimg.com/media/CT42GRgUYAA5iDo.jpg   \n",
       "2  666033412701032449  https://pbs.twimg.com/media/CT4521TWwAEvMyu.jpg   \n",
       "3  666044226329800704  https://pbs.twimg.com/media/CT5Dr8HUEAA-lEu.jpg   \n",
       "4  666049248165822465  https://pbs.twimg.com/media/CT5IQmsXIAAKY4A.jpg   \n",
       "\n",
       "   img_num                      p1   p1_conf  p1_dog                  p2  \\\n",
       "0  1        Welsh_springer_spaniel  0.465074  True    collie               \n",
       "1  1        redbone                 0.506826  True    miniature_pinscher   \n",
       "2  1        German_shepherd         0.596461  True    malinois             \n",
       "3  1        Rhodesian_ridgeback     0.408143  True    redbone              \n",
       "4  1        miniature_pinscher      0.560311  True    Rottweiler           \n",
       "\n",
       "    p2_conf  p2_dog                   p3   p3_conf  p3_dog  \n",
       "0  0.156665  True    Shetland_sheepdog    0.061428  True    \n",
       "1  0.074192  True    Rhodesian_ridgeback  0.072010  True    \n",
       "2  0.138584  True    bloodhound           0.116197  True    \n",
       "3  0.360687  True    miniature_pinscher   0.222752  True    \n",
       "4  0.243682  True    Doberman             0.154629  True    "
      ]
     },
     "execution_count": 91,
     "metadata": {},
     "output_type": "execute_result"
    }
   ],
   "source": [
    "# read image predictions file into a DataFrame\n",
    "df_prd = pd.read_csv(images, sep = '\\\\t', engine = 'python')\n",
    "df_prd.info()\n",
    "df_prd.head()"
   ]
  },
  {
   "cell_type": "code",
   "execution_count": 92,
   "metadata": {},
   "outputs": [
    {
     "data": {
      "text/plain": [
       "tweet_id    666029285002620928                             \n",
       "jpg_url     https://pbs.twimg.com/media/CT42GRgUYAA5iDo.jpg\n",
       "img_num     1                                              \n",
       "p1          redbone                                        \n",
       "p1_conf     0.506826                                       \n",
       "p1_dog      True                                           \n",
       "p2          miniature_pinscher                             \n",
       "p2_conf     0.0741917                                      \n",
       "p2_dog      True                                           \n",
       "p3          Rhodesian_ridgeback                            \n",
       "p3_conf     0.07201                                        \n",
       "p3_dog      True                                           \n",
       "Name: 1, dtype: object"
      ]
     },
     "execution_count": 92,
     "metadata": {},
     "output_type": "execute_result"
    }
   ],
   "source": [
    "#lets check one row of data: \n",
    "sample_prd = df_prd.iloc[1]\n",
    "sample_prd"
   ]
  },
  {
   "cell_type": "markdown",
   "metadata": {},
   "source": [
    "### 3. Tweet_JSON Data\n",
    "<a id=\"tweet_json_data\"></a>"
   ]
  },
  {
   "cell_type": "markdown",
   "metadata": {},
   "source": [
    "Using the tweet IDs in the `WeRateDogs Twitter archive`, query the Twitter API for each tweet's JSON data using Python's Tweepy library and store each tweet's entire set of JSON data in a file called tweet_json.txt file. Each tweet's JSON data should be written to its own line. Then read this .txt file line by line into a pandas DataFrame with (at minimum) tweet ID, retweet count, and favorite count. \n",
    "\n",
    "**Note: do not include your Twitter API keys, secrets, and tokens in your project submission."
   ]
  },
  {
   "cell_type": "code",
   "execution_count": 156,
   "metadata": {},
   "outputs": [],
   "source": [
    "#Twitter API, Secret, and Token [personal]\n",
    "#consumer_key = 'HIDDEN'\n",
    "#consumer_secret = 'HIDDEN'\n",
    "#access_token = 'HIDDEN'\n",
    "#access_secret = 'HIDDEN'\n",
    "\n",
    "consumer_key = 'hidden'\n",
    "consumer_secret = 'hidden'\n",
    "access_token = 'hidden'\n",
    "access_secret = 'hidden'"
   ]
  },
  {
   "cell_type": "code",
   "execution_count": 157,
   "metadata": {},
   "outputs": [],
   "source": [
    "# Creating the Twitter API object and set rate limit params\n",
    "\n",
    "auth = tweepy.OAuthHandler(consumer_key, consumer_secret)\n",
    "auth.set_access_token(access_token, access_secret)\n",
    "\n",
    "api = tweepy.API(auth_handler = auth, \n",
    "                 wait_on_rate_limit = True, \n",
    "                 wait_on_rate_limit_notify = True)"
   ]
  },
  {
   "cell_type": "code",
   "execution_count": 158,
   "metadata": {},
   "outputs": [
    {
     "name": "stdout",
     "output_type": "stream",
     "text": [
      "# of tweet_ids: 2356\n",
      "\n"
     ]
    }
   ],
   "source": [
    "tweet_ids = tweet_archive.tweet_id.values\n",
    "print(\"# of tweet_ids: \" + str(len(tweet_ids)) + \"\\n\")"
   ]
  },
  {
   "cell_type": "markdown",
   "metadata": {},
   "source": [
    "downloading tweets:\n"
   ]
  },
  {
   "cell_type": "code",
   "execution_count": 159,
   "metadata": {},
   "outputs": [
    {
     "name": "stdout",
     "output_type": "stream",
     "text": [
      "# of tweet_ids: 2356\n",
      "\n",
      "TweepError for id:  888202515573088257\n",
      "TweepError for id:  873697596434513921\n",
      "loop # 100\n",
      "TweepError for id:  872668790621863937\n",
      "TweepError for id:  872261713294495745\n",
      "TweepError for id:  869988702071779329\n",
      "TweepError for id:  866816280283807744\n",
      "TweepError for id:  861769973181624320\n",
      "TweepError for id:  856602993587888130\n",
      "loop # 200\n",
      "TweepError for id:  851953902622658560\n",
      "TweepError for id:  845459076796616705\n",
      "TweepError for id:  844704788403113984\n",
      "TweepError for id:  842892208864923648\n",
      "TweepError for id:  837366284874571778\n",
      "TweepError for id:  837012587749474308\n",
      "loop # 300\n",
      "TweepError for id:  829374341691346946\n",
      "TweepError for id:  827228250799742977\n",
      "loop # 400\n",
      "loop # 500\n",
      "TweepError for id:  812747805718642688\n",
      "TweepError for id:  802247111496568832\n",
      "loop # 600\n",
      "loop # 700\n",
      "TweepError for id:  779123168116150273\n",
      "TweepError for id:  775096608509886464\n",
      "loop # 800\n",
      "TweepError for id:  770743923962707968\n"
     ]
    },
    {
     "name": "stderr",
     "output_type": "stream",
     "text": [
      "Rate limit reached. Sleeping for: 783\n"
     ]
    },
    {
     "name": "stdout",
     "output_type": "stream",
     "text": [
      "loop # 900\n",
      "TweepError for id:  754011816964026368\n",
      "loop # 1000\n",
      "loop # 1100\n",
      "loop # 1200\n",
      "loop # 1300\n",
      "loop # 1400\n",
      "loop # 1500\n",
      "loop # 1600\n",
      "loop # 1700\n",
      "TweepError for id:  680055455951884288\n"
     ]
    },
    {
     "name": "stderr",
     "output_type": "stream",
     "text": [
      "Rate limit reached. Sleeping for: 784\n"
     ]
    },
    {
     "name": "stdout",
     "output_type": "stream",
     "text": [
      "loop # 1800\n",
      "loop # 1900\n",
      "loop # 2000\n",
      "loop # 2100\n",
      "loop # 2200\n",
      "loop # 2300\n",
      "\n",
      "Time elapsed (HH:MM:SS):  00:31:22\n",
      "\n",
      "Number of TweepErrors:  23\n",
      "\n",
      "888202515573088257 [{'code': 144, 'message': 'No status found with that ID.'}]\n",
      "873697596434513921 [{'code': 144, 'message': 'No status found with that ID.'}]\n",
      "872668790621863937 [{'code': 144, 'message': 'No status found with that ID.'}]\n",
      "872261713294495745 [{'code': 144, 'message': 'No status found with that ID.'}]\n",
      "869988702071779329 [{'code': 144, 'message': 'No status found with that ID.'}]\n",
      "866816280283807744 [{'code': 144, 'message': 'No status found with that ID.'}]\n",
      "861769973181624320 [{'code': 144, 'message': 'No status found with that ID.'}]\n",
      "856602993587888130 [{'code': 144, 'message': 'No status found with that ID.'}]\n",
      "851953902622658560 [{'code': 144, 'message': 'No status found with that ID.'}]\n",
      "845459076796616705 [{'code': 144, 'message': 'No status found with that ID.'}]\n",
      "844704788403113984 [{'code': 144, 'message': 'No status found with that ID.'}]\n",
      "842892208864923648 [{'code': 144, 'message': 'No status found with that ID.'}]\n",
      "837366284874571778 [{'code': 144, 'message': 'No status found with that ID.'}]\n",
      "837012587749474308 [{'code': 144, 'message': 'No status found with that ID.'}]\n",
      "829374341691346946 [{'code': 144, 'message': 'No status found with that ID.'}]\n",
      "827228250799742977 [{'code': 144, 'message': 'No status found with that ID.'}]\n",
      "812747805718642688 [{'code': 144, 'message': 'No status found with that ID.'}]\n",
      "802247111496568832 [{'code': 144, 'message': 'No status found with that ID.'}]\n",
      "779123168116150273 [{'code': 144, 'message': 'No status found with that ID.'}]\n",
      "775096608509886464 [{'code': 144, 'message': 'No status found with that ID.'}]\n",
      "770743923962707968 [{'code': 144, 'message': 'No status found with that ID.'}]\n",
      "754011816964026368 [{'code': 144, 'message': 'No status found with that ID.'}]\n",
      "680055455951884288 [{'code': 144, 'message': 'No status found with that ID.'}]\n"
     ]
    }
   ],
   "source": [
    "# Lets create a list of tweet_ids from the `WeRateDogs Twitter archive` to use for downloading the Twitter API\n",
    "\n",
    "tweet_ids = tweet_archive.tweet_id.values\n",
    "print(\"# of tweet_ids: \" + str(len(tweet_ids)) + \"\\n\")\n",
    "\n",
    "count = 0\n",
    "tweet_json_list = []\n",
    "fails_dict = {}\n",
    "\n",
    "start_time = time.time()\n",
    "\n",
    "for tweet_id in tweet_ids:\n",
    "    count += 1\n",
    "    try:\n",
    "        # attempt to get the tweet's JSON data and append to the tweet JSON list\n",
    "        tweet = api.get_status(tweet_id, tweet_mode = 'extended')\n",
    "        tweet_json_list.append(tweet._json)\n",
    "    except tweepy.TweepError as err:\n",
    "        # save the error to the fail dictionary for review\n",
    "        print(\"TweepError for id:  \" + str(tweet_id))\n",
    "        fails_dict[tweet_id] = err\n",
    "        pass\n",
    "    # To save space, only print out tweet id for every 100th tweet\n",
    "    if count % 100 == 0:\n",
    "        print(\"loop # \" + str(count))\n",
    "\n",
    "elapsed_time = time.time() - start_time\n",
    "\n",
    "elapsed_time_str = time.strftime(\"%H:%M:%S\", time.gmtime(elapsed_time))\n",
    "print(\"\\nTime elapsed (HH:MM:SS):  \" + elapsed_time_str + \"\\n\")\n",
    "\n",
    "# display list of tweets with errors\n",
    "print(\"Number of TweepErrors:  {}\\n\".format(len(fails_dict)))\n",
    "for tweet_id in fails_dict:\n",
    "    print(tweet_id, fails_dict[tweet_id])"
   ]
  },
  {
   "cell_type": "markdown",
   "metadata": {},
   "source": [
    "#### Saving JSON data to file"
   ]
  },
  {
   "cell_type": "code",
   "execution_count": 166,
   "metadata": {},
   "outputs": [],
   "source": [
    "tweet_json_file = 'tweet_json.txt'"
   ]
  },
  {
   "cell_type": "code",
   "execution_count": 167,
   "metadata": {},
   "outputs": [],
   "source": [
    "\n",
    "# saving the JSON data:\n",
    "with open(tweet_json_file, 'w') as outfile:\n",
    "    for tweet_json in tweet_json_list:\n",
    "        json.dump(tweet_json, outfile)\n",
    "        outfile.write('\\n')\n",
    "\n",
    "        \n"
   ]
  },
  {
   "cell_type": "markdown",
   "metadata": {},
   "source": [
    "#### JSON file info into a dataframe"
   ]
  },
  {
   "cell_type": "markdown",
   "metadata": {},
   "source": [
    "Extracting the fields required from each tweet's JSON data and storing it in a separate file (tweet_data_extract.csv) to be used for the next steps."
   ]
  },
  {
   "cell_type": "code",
   "execution_count": 169,
   "metadata": {},
   "outputs": [
    {
     "data": {
      "text/html": [
       "<div>\n",
       "<style scoped>\n",
       "    .dataframe tbody tr th:only-of-type {\n",
       "        vertical-align: middle;\n",
       "    }\n",
       "\n",
       "    .dataframe tbody tr th {\n",
       "        vertical-align: top;\n",
       "    }\n",
       "\n",
       "    .dataframe thead th {\n",
       "        text-align: right;\n",
       "    }\n",
       "</style>\n",
       "<table border=\"1\" class=\"dataframe\">\n",
       "  <thead>\n",
       "    <tr style=\"text-align: right;\">\n",
       "      <th></th>\n",
       "      <th>tweet_id</th>\n",
       "      <th>retweet_count</th>\n",
       "      <th>favorite_count</th>\n",
       "    </tr>\n",
       "  </thead>\n",
       "  <tbody>\n",
       "    <tr>\n",
       "      <th>0</th>\n",
       "      <td>892420643555336193</td>\n",
       "      <td>7861</td>\n",
       "      <td>36908</td>\n",
       "    </tr>\n",
       "    <tr>\n",
       "      <th>1</th>\n",
       "      <td>892177421306343426</td>\n",
       "      <td>5834</td>\n",
       "      <td>31762</td>\n",
       "    </tr>\n",
       "    <tr>\n",
       "      <th>2</th>\n",
       "      <td>891815181378084864</td>\n",
       "      <td>3853</td>\n",
       "      <td>23932</td>\n",
       "    </tr>\n",
       "    <tr>\n",
       "      <th>3</th>\n",
       "      <td>891689557279858688</td>\n",
       "      <td>8026</td>\n",
       "      <td>40224</td>\n",
       "    </tr>\n",
       "    <tr>\n",
       "      <th>4</th>\n",
       "      <td>891327558926688256</td>\n",
       "      <td>8685</td>\n",
       "      <td>38421</td>\n",
       "    </tr>\n",
       "    <tr>\n",
       "      <th>5</th>\n",
       "      <td>891087950875897856</td>\n",
       "      <td>2891</td>\n",
       "      <td>19333</td>\n",
       "    </tr>\n",
       "    <tr>\n",
       "      <th>6</th>\n",
       "      <td>890971913173991426</td>\n",
       "      <td>1906</td>\n",
       "      <td>11263</td>\n",
       "    </tr>\n",
       "    <tr>\n",
       "      <th>7</th>\n",
       "      <td>890729181411237888</td>\n",
       "      <td>17567</td>\n",
       "      <td>62237</td>\n",
       "    </tr>\n",
       "    <tr>\n",
       "      <th>8</th>\n",
       "      <td>890609185150312448</td>\n",
       "      <td>3988</td>\n",
       "      <td>26602</td>\n",
       "    </tr>\n",
       "    <tr>\n",
       "      <th>9</th>\n",
       "      <td>890240255349198849</td>\n",
       "      <td>6834</td>\n",
       "      <td>30446</td>\n",
       "    </tr>\n",
       "    <tr>\n",
       "      <th>10</th>\n",
       "      <td>890006608113172480</td>\n",
       "      <td>6820</td>\n",
       "      <td>29305</td>\n",
       "    </tr>\n",
       "    <tr>\n",
       "      <th>11</th>\n",
       "      <td>889880896479866881</td>\n",
       "      <td>4643</td>\n",
       "      <td>26610</td>\n",
       "    </tr>\n",
       "    <tr>\n",
       "      <th>12</th>\n",
       "      <td>889665388333682689</td>\n",
       "      <td>9324</td>\n",
       "      <td>45875</td>\n",
       "    </tr>\n",
       "    <tr>\n",
       "      <th>13</th>\n",
       "      <td>889638837579907072</td>\n",
       "      <td>4185</td>\n",
       "      <td>25849</td>\n",
       "    </tr>\n",
       "    <tr>\n",
       "      <th>14</th>\n",
       "      <td>889531135344209921</td>\n",
       "      <td>2102</td>\n",
       "      <td>14441</td>\n",
       "    </tr>\n",
       "    <tr>\n",
       "      <th>15</th>\n",
       "      <td>889278841981685760</td>\n",
       "      <td>4975</td>\n",
       "      <td>24033</td>\n",
       "    </tr>\n",
       "    <tr>\n",
       "      <th>16</th>\n",
       "      <td>888917238123831296</td>\n",
       "      <td>4191</td>\n",
       "      <td>27793</td>\n",
       "    </tr>\n",
       "    <tr>\n",
       "      <th>17</th>\n",
       "      <td>888804989199671297</td>\n",
       "      <td>3962</td>\n",
       "      <td>24410</td>\n",
       "    </tr>\n",
       "    <tr>\n",
       "      <th>18</th>\n",
       "      <td>888554962724278272</td>\n",
       "      <td>3260</td>\n",
       "      <td>18884</td>\n",
       "    </tr>\n",
       "    <tr>\n",
       "      <th>19</th>\n",
       "      <td>888078434458587136</td>\n",
       "      <td>3221</td>\n",
       "      <td>20777</td>\n",
       "    </tr>\n",
       "    <tr>\n",
       "      <th>20</th>\n",
       "      <td>887705289381826560</td>\n",
       "      <td>5006</td>\n",
       "      <td>28846</td>\n",
       "    </tr>\n",
       "    <tr>\n",
       "      <th>21</th>\n",
       "      <td>887517139158093824</td>\n",
       "      <td>10931</td>\n",
       "      <td>44213</td>\n",
       "    </tr>\n",
       "    <tr>\n",
       "      <th>22</th>\n",
       "      <td>887473957103951883</td>\n",
       "      <td>16790</td>\n",
       "      <td>65728</td>\n",
       "    </tr>\n",
       "    <tr>\n",
       "      <th>23</th>\n",
       "      <td>887343217045368832</td>\n",
       "      <td>9733</td>\n",
       "      <td>32149</td>\n",
       "    </tr>\n",
       "    <tr>\n",
       "      <th>24</th>\n",
       "      <td>887101392804085760</td>\n",
       "      <td>5543</td>\n",
       "      <td>29184</td>\n",
       "    </tr>\n",
       "    <tr>\n",
       "      <th>25</th>\n",
       "      <td>886983233522544640</td>\n",
       "      <td>7142</td>\n",
       "      <td>33452</td>\n",
       "    </tr>\n",
       "    <tr>\n",
       "      <th>26</th>\n",
       "      <td>886736880519319552</td>\n",
       "      <td>3007</td>\n",
       "      <td>11472</td>\n",
       "    </tr>\n",
       "    <tr>\n",
       "      <th>27</th>\n",
       "      <td>886680336477933568</td>\n",
       "      <td>4152</td>\n",
       "      <td>21420</td>\n",
       "    </tr>\n",
       "    <tr>\n",
       "      <th>28</th>\n",
       "      <td>886366144734445568</td>\n",
       "      <td>2958</td>\n",
       "      <td>20190</td>\n",
       "    </tr>\n",
       "    <tr>\n",
       "      <th>29</th>\n",
       "      <td>886267009285017600</td>\n",
       "      <td>4</td>\n",
       "      <td>115</td>\n",
       "    </tr>\n",
       "  </tbody>\n",
       "</table>\n",
       "</div>"
      ],
      "text/plain": [
       "              tweet_id  retweet_count  favorite_count\n",
       "0   892420643555336193  7861           36908         \n",
       "1   892177421306343426  5834           31762         \n",
       "2   891815181378084864  3853           23932         \n",
       "3   891689557279858688  8026           40224         \n",
       "4   891327558926688256  8685           38421         \n",
       "5   891087950875897856  2891           19333         \n",
       "6   890971913173991426  1906           11263         \n",
       "7   890729181411237888  17567          62237         \n",
       "8   890609185150312448  3988           26602         \n",
       "9   890240255349198849  6834           30446         \n",
       "10  890006608113172480  6820           29305         \n",
       "11  889880896479866881  4643           26610         \n",
       "12  889665388333682689  9324           45875         \n",
       "13  889638837579907072  4185           25849         \n",
       "14  889531135344209921  2102           14441         \n",
       "15  889278841981685760  4975           24033         \n",
       "16  888917238123831296  4191           27793         \n",
       "17  888804989199671297  3962           24410         \n",
       "18  888554962724278272  3260           18884         \n",
       "19  888078434458587136  3221           20777         \n",
       "20  887705289381826560  5006           28846         \n",
       "21  887517139158093824  10931          44213         \n",
       "22  887473957103951883  16790          65728         \n",
       "23  887343217045368832  9733           32149         \n",
       "24  887101392804085760  5543           29184         \n",
       "25  886983233522544640  7142           33452         \n",
       "26  886736880519319552  3007           11472         \n",
       "27  886680336477933568  4152           21420         \n",
       "28  886366144734445568  2958           20190         \n",
       "29  886267009285017600  4              115           "
      ]
     },
     "execution_count": 169,
     "metadata": {},
     "output_type": "execute_result"
    }
   ],
   "source": [
    "#first read the data into a dataframe:\n",
    "tweet_json_data = []\n",
    "\n",
    "with open(tweet_json_file, 'r') as json_file:\n",
    "    # read the first line to start the loop\n",
    "    line = json_file.readline()\n",
    "    while line:\n",
    "        data = json.loads(line)\n",
    "\n",
    "        # extract variables from the JSON data\n",
    "        data_id = data['id']\n",
    "        data_retweet_count = data['retweet_count']\n",
    "        data_favorite_count = data['favorite_count']\n",
    "        \n",
    "        # create a dictionary with the JSON data, then add to a list\n",
    "        json_data = {'tweet_id': data_id, \n",
    "                     'retweet_count': data_retweet_count, \n",
    "                     'favorite_count': data_favorite_count\n",
    "                    }\n",
    "        tweet_json_data.append(json_data)\n",
    "\n",
    "        # read the next line of JSON data\n",
    "        line = json_file.readline()\n",
    "        # ----- while -----\n",
    "\n",
    "# convert the tweet JSON data dictionary list to a DataFrame\n",
    "df_tweet_data_extract = pd.DataFrame(tweet_json_data, \n",
    "                                   columns = ['tweet_id',\n",
    "                                              'retweet_count',\n",
    "                                              'favorite_count'])\n",
    "\n",
    "df_tweet_data_extract.head(30)"
   ]
  },
  {
   "cell_type": "code",
   "execution_count": 170,
   "metadata": {},
   "outputs": [],
   "source": [
    "\n",
    "df_tweet_data_extract.to_csv('tweet_data_extract.csv', index = False)"
   ]
  },
  {
   "cell_type": "markdown",
   "metadata": {},
   "source": [
    "# Assessing Data\n",
    "<a id=\"assessing_data\"></a>"
   ]
  },
  {
   "cell_type": "markdown",
   "metadata": {},
   "source": [
    "In this section I am going to assess the data that was gathered from different sources, both visually and programmatically for quality and tidiness issues. I will refer to the key points required for this data wrangling mentioned below. \n",
    "\n",
    "The quality of the data is assessed against the 4 dimensions concerning the content: completeness, validity, accuracy and consistency.\n",
    "\n",
    "Tidiness of the data is assessed with regards to the structure of the data (e.g.missing values, duplicates,etc.)"
   ]
  },
  {
   "cell_type": "markdown",
   "metadata": {},
   "source": [
    "\n",
    "*Key points to keep in mind when data wrangling for this project:*\n",
    "\n",
    "-  You only want original ratings (no retweets) that have images. Though there are 5000+ tweets in the dataset, not all are dog ratings and some are retweets.\n",
    "-  Assessing and cleaning the entire dataset completely would require a lot of time, and is not necessary to practice and demonstrate your skills in data wrangling. Therefore, the requirements of this project are only to assess and clean at least 8 quality issues and at least 2 tidiness issues in this dataset.\n",
    "-  Cleaning includes merging individual pieces of data according to the rules of tidy data.\n",
    "-  The fact that the rating numerators are greater than the denominators does not need to be cleaned. This unique rating system is a big part of the popularity of WeRateDogs.\n",
    "-  You do not need to gather the tweets beyond August 1st, 2017. You can, but note that you won't be able to gather the image predictions for these tweets since you don't have access to the algorithm used."
   ]
  },
  {
   "cell_type": "code",
   "execution_count": 201,
   "metadata": {},
   "outputs": [],
   "source": [
    "# First, I am loading all the gathered data in the three sections above as archive, predictions, and json_data: \n",
    "\n",
    "archive = pd.read_csv('twitter-archive-enhanced.csv')\n",
    "predictions = pd.read_csv('image-predictions.tsv', sep = '\\\\t', engine = 'python')\n",
    "json_data= pd.read_csv('tweet_data_extract.csv')"
   ]
  },
  {
   "cell_type": "markdown",
   "metadata": {},
   "source": [
    "### 1) Twitter archive data\n",
    "<a id=\"twitter_archive_data\"></a>"
   ]
  },
  {
   "cell_type": "code",
   "execution_count": 190,
   "metadata": {},
   "outputs": [
    {
     "data": {
      "text/html": [
       "<div>\n",
       "<style scoped>\n",
       "    .dataframe tbody tr th:only-of-type {\n",
       "        vertical-align: middle;\n",
       "    }\n",
       "\n",
       "    .dataframe tbody tr th {\n",
       "        vertical-align: top;\n",
       "    }\n",
       "\n",
       "    .dataframe thead th {\n",
       "        text-align: right;\n",
       "    }\n",
       "</style>\n",
       "<table border=\"1\" class=\"dataframe\">\n",
       "  <thead>\n",
       "    <tr style=\"text-align: right;\">\n",
       "      <th></th>\n",
       "      <th>tweet_id</th>\n",
       "      <th>in_reply_to_status_id</th>\n",
       "      <th>in_reply_to_user_id</th>\n",
       "      <th>timestamp</th>\n",
       "      <th>source</th>\n",
       "      <th>text</th>\n",
       "      <th>retweeted_status_id</th>\n",
       "      <th>retweeted_status_user_id</th>\n",
       "      <th>retweeted_status_timestamp</th>\n",
       "      <th>expanded_urls</th>\n",
       "      <th>rating_numerator</th>\n",
       "      <th>rating_denominator</th>\n",
       "      <th>name</th>\n",
       "      <th>doggo</th>\n",
       "      <th>floofer</th>\n",
       "      <th>pupper</th>\n",
       "      <th>puppo</th>\n",
       "    </tr>\n",
       "  </thead>\n",
       "  <tbody>\n",
       "    <tr>\n",
       "      <th>0</th>\n",
       "      <td>892420643555336193</td>\n",
       "      <td>NaN</td>\n",
       "      <td>NaN</td>\n",
       "      <td>2017-08-01 16:23:56 +0000</td>\n",
       "      <td>&lt;a href=\"http://twitter.com/download/iphone\" rel=\"nofollow\"&gt;Twitter for iPhone&lt;/a&gt;</td>\n",
       "      <td>This is Phineas. He's a mystical boy. Only ever appears in the hole of a donut. 13/10 https://t.co/MgUWQ76dJU</td>\n",
       "      <td>NaN</td>\n",
       "      <td>NaN</td>\n",
       "      <td>NaN</td>\n",
       "      <td>https://twitter.com/dog_rates/status/892420643555336193/photo/1</td>\n",
       "      <td>13</td>\n",
       "      <td>10</td>\n",
       "      <td>Phineas</td>\n",
       "      <td>None</td>\n",
       "      <td>None</td>\n",
       "      <td>None</td>\n",
       "      <td>None</td>\n",
       "    </tr>\n",
       "    <tr>\n",
       "      <th>1</th>\n",
       "      <td>892177421306343426</td>\n",
       "      <td>NaN</td>\n",
       "      <td>NaN</td>\n",
       "      <td>2017-08-01 00:17:27 +0000</td>\n",
       "      <td>&lt;a href=\"http://twitter.com/download/iphone\" rel=\"nofollow\"&gt;Twitter for iPhone&lt;/a&gt;</td>\n",
       "      <td>This is Tilly. She's just checking pup on you. Hopes you're doing ok. If not, she's available for pats, snugs, boops, the whole bit. 13/10 https://t.co/0Xxu71qeIV</td>\n",
       "      <td>NaN</td>\n",
       "      <td>NaN</td>\n",
       "      <td>NaN</td>\n",
       "      <td>https://twitter.com/dog_rates/status/892177421306343426/photo/1</td>\n",
       "      <td>13</td>\n",
       "      <td>10</td>\n",
       "      <td>Tilly</td>\n",
       "      <td>None</td>\n",
       "      <td>None</td>\n",
       "      <td>None</td>\n",
       "      <td>None</td>\n",
       "    </tr>\n",
       "    <tr>\n",
       "      <th>2</th>\n",
       "      <td>891815181378084864</td>\n",
       "      <td>NaN</td>\n",
       "      <td>NaN</td>\n",
       "      <td>2017-07-31 00:18:03 +0000</td>\n",
       "      <td>&lt;a href=\"http://twitter.com/download/iphone\" rel=\"nofollow\"&gt;Twitter for iPhone&lt;/a&gt;</td>\n",
       "      <td>This is Archie. He is a rare Norwegian Pouncing Corgo. Lives in the tall grass. You never know when one may strike. 12/10 https://t.co/wUnZnhtVJB</td>\n",
       "      <td>NaN</td>\n",
       "      <td>NaN</td>\n",
       "      <td>NaN</td>\n",
       "      <td>https://twitter.com/dog_rates/status/891815181378084864/photo/1</td>\n",
       "      <td>12</td>\n",
       "      <td>10</td>\n",
       "      <td>Archie</td>\n",
       "      <td>None</td>\n",
       "      <td>None</td>\n",
       "      <td>None</td>\n",
       "      <td>None</td>\n",
       "    </tr>\n",
       "    <tr>\n",
       "      <th>3</th>\n",
       "      <td>891689557279858688</td>\n",
       "      <td>NaN</td>\n",
       "      <td>NaN</td>\n",
       "      <td>2017-07-30 15:58:51 +0000</td>\n",
       "      <td>&lt;a href=\"http://twitter.com/download/iphone\" rel=\"nofollow\"&gt;Twitter for iPhone&lt;/a&gt;</td>\n",
       "      <td>This is Darla. She commenced a snooze mid meal. 13/10 happens to the best of us https://t.co/tD36da7qLQ</td>\n",
       "      <td>NaN</td>\n",
       "      <td>NaN</td>\n",
       "      <td>NaN</td>\n",
       "      <td>https://twitter.com/dog_rates/status/891689557279858688/photo/1</td>\n",
       "      <td>13</td>\n",
       "      <td>10</td>\n",
       "      <td>Darla</td>\n",
       "      <td>None</td>\n",
       "      <td>None</td>\n",
       "      <td>None</td>\n",
       "      <td>None</td>\n",
       "    </tr>\n",
       "    <tr>\n",
       "      <th>4</th>\n",
       "      <td>891327558926688256</td>\n",
       "      <td>NaN</td>\n",
       "      <td>NaN</td>\n",
       "      <td>2017-07-29 16:00:24 +0000</td>\n",
       "      <td>&lt;a href=\"http://twitter.com/download/iphone\" rel=\"nofollow\"&gt;Twitter for iPhone&lt;/a&gt;</td>\n",
       "      <td>This is Franklin. He would like you to stop calling him \"cute.\" He is a very fierce shark and should be respected as such. 12/10 #BarkWeek https://t.co/AtUZn91f7f</td>\n",
       "      <td>NaN</td>\n",
       "      <td>NaN</td>\n",
       "      <td>NaN</td>\n",
       "      <td>https://twitter.com/dog_rates/status/891327558926688256/photo/1,https://twitter.com/dog_rates/status/891327558926688256/photo/1</td>\n",
       "      <td>12</td>\n",
       "      <td>10</td>\n",
       "      <td>Franklin</td>\n",
       "      <td>None</td>\n",
       "      <td>None</td>\n",
       "      <td>None</td>\n",
       "      <td>None</td>\n",
       "    </tr>\n",
       "  </tbody>\n",
       "</table>\n",
       "</div>"
      ],
      "text/plain": [
       "             tweet_id  in_reply_to_status_id  in_reply_to_user_id  \\\n",
       "0  892420643555336193 NaN                    NaN                    \n",
       "1  892177421306343426 NaN                    NaN                    \n",
       "2  891815181378084864 NaN                    NaN                    \n",
       "3  891689557279858688 NaN                    NaN                    \n",
       "4  891327558926688256 NaN                    NaN                    \n",
       "\n",
       "                   timestamp  \\\n",
       "0  2017-08-01 16:23:56 +0000   \n",
       "1  2017-08-01 00:17:27 +0000   \n",
       "2  2017-07-31 00:18:03 +0000   \n",
       "3  2017-07-30 15:58:51 +0000   \n",
       "4  2017-07-29 16:00:24 +0000   \n",
       "\n",
       "                                                                               source  \\\n",
       "0  <a href=\"http://twitter.com/download/iphone\" rel=\"nofollow\">Twitter for iPhone</a>   \n",
       "1  <a href=\"http://twitter.com/download/iphone\" rel=\"nofollow\">Twitter for iPhone</a>   \n",
       "2  <a href=\"http://twitter.com/download/iphone\" rel=\"nofollow\">Twitter for iPhone</a>   \n",
       "3  <a href=\"http://twitter.com/download/iphone\" rel=\"nofollow\">Twitter for iPhone</a>   \n",
       "4  <a href=\"http://twitter.com/download/iphone\" rel=\"nofollow\">Twitter for iPhone</a>   \n",
       "\n",
       "                                                                                                                                                                 text  \\\n",
       "0  This is Phineas. He's a mystical boy. Only ever appears in the hole of a donut. 13/10 https://t.co/MgUWQ76dJU                                                        \n",
       "1  This is Tilly. She's just checking pup on you. Hopes you're doing ok. If not, she's available for pats, snugs, boops, the whole bit. 13/10 https://t.co/0Xxu71qeIV   \n",
       "2  This is Archie. He is a rare Norwegian Pouncing Corgo. Lives in the tall grass. You never know when one may strike. 12/10 https://t.co/wUnZnhtVJB                    \n",
       "3  This is Darla. She commenced a snooze mid meal. 13/10 happens to the best of us https://t.co/tD36da7qLQ                                                              \n",
       "4  This is Franklin. He would like you to stop calling him \"cute.\" He is a very fierce shark and should be respected as such. 12/10 #BarkWeek https://t.co/AtUZn91f7f   \n",
       "\n",
       "   retweeted_status_id  retweeted_status_user_id retweeted_status_timestamp  \\\n",
       "0 NaN                  NaN                        NaN                         \n",
       "1 NaN                  NaN                        NaN                         \n",
       "2 NaN                  NaN                        NaN                         \n",
       "3 NaN                  NaN                        NaN                         \n",
       "4 NaN                  NaN                        NaN                         \n",
       "\n",
       "                                                                                                                     expanded_urls  \\\n",
       "0  https://twitter.com/dog_rates/status/892420643555336193/photo/1                                                                   \n",
       "1  https://twitter.com/dog_rates/status/892177421306343426/photo/1                                                                   \n",
       "2  https://twitter.com/dog_rates/status/891815181378084864/photo/1                                                                   \n",
       "3  https://twitter.com/dog_rates/status/891689557279858688/photo/1                                                                   \n",
       "4  https://twitter.com/dog_rates/status/891327558926688256/photo/1,https://twitter.com/dog_rates/status/891327558926688256/photo/1   \n",
       "\n",
       "   rating_numerator  rating_denominator      name doggo floofer pupper puppo  \n",
       "0  13                10                  Phineas   None  None    None   None  \n",
       "1  13                10                  Tilly     None  None    None   None  \n",
       "2  12                10                  Archie    None  None    None   None  \n",
       "3  13                10                  Darla     None  None    None   None  \n",
       "4  12                10                  Franklin  None  None    None   None  "
      ]
     },
     "execution_count": 190,
     "metadata": {},
     "output_type": "execute_result"
    }
   ],
   "source": [
    "archive.head(5)"
   ]
  },
  {
   "cell_type": "code",
   "execution_count": 192,
   "metadata": {},
   "outputs": [
    {
     "data": {
      "text/html": [
       "<div>\n",
       "<style scoped>\n",
       "    .dataframe tbody tr th:only-of-type {\n",
       "        vertical-align: middle;\n",
       "    }\n",
       "\n",
       "    .dataframe tbody tr th {\n",
       "        vertical-align: top;\n",
       "    }\n",
       "\n",
       "    .dataframe thead th {\n",
       "        text-align: right;\n",
       "    }\n",
       "</style>\n",
       "<table border=\"1\" class=\"dataframe\">\n",
       "  <thead>\n",
       "    <tr style=\"text-align: right;\">\n",
       "      <th></th>\n",
       "      <th>tweet_id</th>\n",
       "      <th>in_reply_to_status_id</th>\n",
       "      <th>in_reply_to_user_id</th>\n",
       "      <th>timestamp</th>\n",
       "      <th>source</th>\n",
       "      <th>text</th>\n",
       "      <th>retweeted_status_id</th>\n",
       "      <th>retweeted_status_user_id</th>\n",
       "      <th>retweeted_status_timestamp</th>\n",
       "      <th>expanded_urls</th>\n",
       "      <th>rating_numerator</th>\n",
       "      <th>rating_denominator</th>\n",
       "      <th>name</th>\n",
       "      <th>doggo</th>\n",
       "      <th>floofer</th>\n",
       "      <th>pupper</th>\n",
       "      <th>puppo</th>\n",
       "    </tr>\n",
       "  </thead>\n",
       "  <tbody>\n",
       "    <tr>\n",
       "      <th>2351</th>\n",
       "      <td>666049248165822465</td>\n",
       "      <td>NaN</td>\n",
       "      <td>NaN</td>\n",
       "      <td>2015-11-16 00:24:50 +0000</td>\n",
       "      <td>&lt;a href=\"http://twitter.com/download/iphone\" rel=\"nofollow\"&gt;Twitter for iPhone&lt;/a&gt;</td>\n",
       "      <td>Here we have a 1949 1st generation vulpix. Enjoys sweat tea and Fox News. Cannot be phased. 5/10 https://t.co/4B7cOc1EDq</td>\n",
       "      <td>NaN</td>\n",
       "      <td>NaN</td>\n",
       "      <td>NaN</td>\n",
       "      <td>https://twitter.com/dog_rates/status/666049248165822465/photo/1</td>\n",
       "      <td>5</td>\n",
       "      <td>10</td>\n",
       "      <td>None</td>\n",
       "      <td>None</td>\n",
       "      <td>None</td>\n",
       "      <td>None</td>\n",
       "      <td>None</td>\n",
       "    </tr>\n",
       "    <tr>\n",
       "      <th>2352</th>\n",
       "      <td>666044226329800704</td>\n",
       "      <td>NaN</td>\n",
       "      <td>NaN</td>\n",
       "      <td>2015-11-16 00:04:52 +0000</td>\n",
       "      <td>&lt;a href=\"http://twitter.com/download/iphone\" rel=\"nofollow\"&gt;Twitter for iPhone&lt;/a&gt;</td>\n",
       "      <td>This is a purebred Piers Morgan. Loves to Netflix and chill. Always looks like he forgot to unplug the iron. 6/10 https://t.co/DWnyCjf2mx</td>\n",
       "      <td>NaN</td>\n",
       "      <td>NaN</td>\n",
       "      <td>NaN</td>\n",
       "      <td>https://twitter.com/dog_rates/status/666044226329800704/photo/1</td>\n",
       "      <td>6</td>\n",
       "      <td>10</td>\n",
       "      <td>a</td>\n",
       "      <td>None</td>\n",
       "      <td>None</td>\n",
       "      <td>None</td>\n",
       "      <td>None</td>\n",
       "    </tr>\n",
       "    <tr>\n",
       "      <th>2353</th>\n",
       "      <td>666033412701032449</td>\n",
       "      <td>NaN</td>\n",
       "      <td>NaN</td>\n",
       "      <td>2015-11-15 23:21:54 +0000</td>\n",
       "      <td>&lt;a href=\"http://twitter.com/download/iphone\" rel=\"nofollow\"&gt;Twitter for iPhone&lt;/a&gt;</td>\n",
       "      <td>Here is a very happy pup. Big fan of well-maintained decks. Just look at that tongue. 9/10 would cuddle af https://t.co/y671yMhoiR</td>\n",
       "      <td>NaN</td>\n",
       "      <td>NaN</td>\n",
       "      <td>NaN</td>\n",
       "      <td>https://twitter.com/dog_rates/status/666033412701032449/photo/1</td>\n",
       "      <td>9</td>\n",
       "      <td>10</td>\n",
       "      <td>a</td>\n",
       "      <td>None</td>\n",
       "      <td>None</td>\n",
       "      <td>None</td>\n",
       "      <td>None</td>\n",
       "    </tr>\n",
       "    <tr>\n",
       "      <th>2354</th>\n",
       "      <td>666029285002620928</td>\n",
       "      <td>NaN</td>\n",
       "      <td>NaN</td>\n",
       "      <td>2015-11-15 23:05:30 +0000</td>\n",
       "      <td>&lt;a href=\"http://twitter.com/download/iphone\" rel=\"nofollow\"&gt;Twitter for iPhone&lt;/a&gt;</td>\n",
       "      <td>This is a western brown Mitsubishi terrier. Upset about leaf. Actually 2 dogs here. 7/10 would walk the shit out of https://t.co/r7mOb2m0UI</td>\n",
       "      <td>NaN</td>\n",
       "      <td>NaN</td>\n",
       "      <td>NaN</td>\n",
       "      <td>https://twitter.com/dog_rates/status/666029285002620928/photo/1</td>\n",
       "      <td>7</td>\n",
       "      <td>10</td>\n",
       "      <td>a</td>\n",
       "      <td>None</td>\n",
       "      <td>None</td>\n",
       "      <td>None</td>\n",
       "      <td>None</td>\n",
       "    </tr>\n",
       "    <tr>\n",
       "      <th>2355</th>\n",
       "      <td>666020888022790149</td>\n",
       "      <td>NaN</td>\n",
       "      <td>NaN</td>\n",
       "      <td>2015-11-15 22:32:08 +0000</td>\n",
       "      <td>&lt;a href=\"http://twitter.com/download/iphone\" rel=\"nofollow\"&gt;Twitter for iPhone&lt;/a&gt;</td>\n",
       "      <td>Here we have a Japanese Irish Setter. Lost eye in Vietnam (?). Big fan of relaxing on stair. 8/10 would pet https://t.co/BLDqew2Ijj</td>\n",
       "      <td>NaN</td>\n",
       "      <td>NaN</td>\n",
       "      <td>NaN</td>\n",
       "      <td>https://twitter.com/dog_rates/status/666020888022790149/photo/1</td>\n",
       "      <td>8</td>\n",
       "      <td>10</td>\n",
       "      <td>None</td>\n",
       "      <td>None</td>\n",
       "      <td>None</td>\n",
       "      <td>None</td>\n",
       "      <td>None</td>\n",
       "    </tr>\n",
       "  </tbody>\n",
       "</table>\n",
       "</div>"
      ],
      "text/plain": [
       "                tweet_id  in_reply_to_status_id  in_reply_to_user_id  \\\n",
       "2351  666049248165822465 NaN                    NaN                    \n",
       "2352  666044226329800704 NaN                    NaN                    \n",
       "2353  666033412701032449 NaN                    NaN                    \n",
       "2354  666029285002620928 NaN                    NaN                    \n",
       "2355  666020888022790149 NaN                    NaN                    \n",
       "\n",
       "                      timestamp  \\\n",
       "2351  2015-11-16 00:24:50 +0000   \n",
       "2352  2015-11-16 00:04:52 +0000   \n",
       "2353  2015-11-15 23:21:54 +0000   \n",
       "2354  2015-11-15 23:05:30 +0000   \n",
       "2355  2015-11-15 22:32:08 +0000   \n",
       "\n",
       "                                                                                  source  \\\n",
       "2351  <a href=\"http://twitter.com/download/iphone\" rel=\"nofollow\">Twitter for iPhone</a>   \n",
       "2352  <a href=\"http://twitter.com/download/iphone\" rel=\"nofollow\">Twitter for iPhone</a>   \n",
       "2353  <a href=\"http://twitter.com/download/iphone\" rel=\"nofollow\">Twitter for iPhone</a>   \n",
       "2354  <a href=\"http://twitter.com/download/iphone\" rel=\"nofollow\">Twitter for iPhone</a>   \n",
       "2355  <a href=\"http://twitter.com/download/iphone\" rel=\"nofollow\">Twitter for iPhone</a>   \n",
       "\n",
       "                                                                                                                                             text  \\\n",
       "2351  Here we have a 1949 1st generation vulpix. Enjoys sweat tea and Fox News. Cannot be phased. 5/10 https://t.co/4B7cOc1EDq                      \n",
       "2352  This is a purebred Piers Morgan. Loves to Netflix and chill. Always looks like he forgot to unplug the iron. 6/10 https://t.co/DWnyCjf2mx     \n",
       "2353  Here is a very happy pup. Big fan of well-maintained decks. Just look at that tongue. 9/10 would cuddle af https://t.co/y671yMhoiR            \n",
       "2354  This is a western brown Mitsubishi terrier. Upset about leaf. Actually 2 dogs here. 7/10 would walk the shit out of https://t.co/r7mOb2m0UI   \n",
       "2355  Here we have a Japanese Irish Setter. Lost eye in Vietnam (?). Big fan of relaxing on stair. 8/10 would pet https://t.co/BLDqew2Ijj           \n",
       "\n",
       "      retweeted_status_id  retweeted_status_user_id  \\\n",
       "2351 NaN                  NaN                         \n",
       "2352 NaN                  NaN                         \n",
       "2353 NaN                  NaN                         \n",
       "2354 NaN                  NaN                         \n",
       "2355 NaN                  NaN                         \n",
       "\n",
       "     retweeted_status_timestamp  \\\n",
       "2351  NaN                         \n",
       "2352  NaN                         \n",
       "2353  NaN                         \n",
       "2354  NaN                         \n",
       "2355  NaN                         \n",
       "\n",
       "                                                        expanded_urls  \\\n",
       "2351  https://twitter.com/dog_rates/status/666049248165822465/photo/1   \n",
       "2352  https://twitter.com/dog_rates/status/666044226329800704/photo/1   \n",
       "2353  https://twitter.com/dog_rates/status/666033412701032449/photo/1   \n",
       "2354  https://twitter.com/dog_rates/status/666029285002620928/photo/1   \n",
       "2355  https://twitter.com/dog_rates/status/666020888022790149/photo/1   \n",
       "\n",
       "      rating_numerator  rating_denominator  name doggo floofer pupper puppo  \n",
       "2351  5                 10                  None  None  None    None   None  \n",
       "2352  6                 10                  a     None  None    None   None  \n",
       "2353  9                 10                  a     None  None    None   None  \n",
       "2354  7                 10                  a     None  None    None   None  \n",
       "2355  8                 10                  None  None  None    None   None  "
      ]
     },
     "execution_count": 192,
     "metadata": {},
     "output_type": "execute_result"
    }
   ],
   "source": [
    "archive.tail(5)"
   ]
  },
  {
   "cell_type": "code",
   "execution_count": 193,
   "metadata": {},
   "outputs": [
    {
     "data": {
      "text/plain": [
       "None        745\n",
       "a           55 \n",
       "Charlie     12 \n",
       "Cooper      11 \n",
       "Lucy        11 \n",
       "Oliver      11 \n",
       "Tucker      10 \n",
       "Lola        10 \n",
       "Penny       10 \n",
       "Bo          9  \n",
       "Winston     9  \n",
       "the         8  \n",
       "Sadie       8  \n",
       "an          7  \n",
       "Bailey      7  \n",
       "Daisy       7  \n",
       "Buddy       7  \n",
       "Toby        7  \n",
       "Bella       6  \n",
       "Dave        6  \n",
       "Jax         6  \n",
       "Leo         6  \n",
       "Milo        6  \n",
       "Jack        6  \n",
       "Scout       6  \n",
       "Stanley     6  \n",
       "Koda        6  \n",
       "Rusty       6  \n",
       "Oscar       6  \n",
       "Alfie       5  \n",
       "Louis       5  \n",
       "Oakley      5  \n",
       "Bentley     5  \n",
       "Finn        5  \n",
       "Larry       5  \n",
       "Phil        5  \n",
       "Sunny       5  \n",
       "Chester     5  \n",
       "very        5  \n",
       "Gus         5  \n",
       "George      5  \n",
       "Sammy       5  \n",
       "Maggie      4  \n",
       "Shadow      4  \n",
       "Brody       4  \n",
       "quite       4  \n",
       "Reginald    4  \n",
       "Moose       4  \n",
       "Clark       4  \n",
       "Jerry       4  \n",
       "Name: name, dtype: int64"
      ]
     },
     "execution_count": 193,
     "metadata": {},
     "output_type": "execute_result"
    }
   ],
   "source": [
    "# curious to see the value count for the \"a\" names or if there are any other inlvalid strings in the name column:\n",
    "archive.name.value_counts().head(50)"
   ]
  },
  {
   "cell_type": "markdown",
   "metadata": {},
   "source": [
    "We see \"a\", \"the\", and \"and\" are the only names that starts with a lower case. They are not really dog names, are they?"
   ]
  },
  {
   "cell_type": "markdown",
   "metadata": {},
   "source": [
    ">Observations from head/tail fucntion:\n",
    "\n",
    "*Quality:*\n",
    "\n",
    "- The timestamp column has dates in string form.\n",
    "- Some of the rows from the tail() output above have invalid strings in the name column, e.g. \"a\". \n",
    "- Values of \"None\" in the name column.\n",
    "\n",
    "*Tidiness:*\n",
    "\n",
    "- All the numerical values are located at the end of the table, and all long strings are at the beginning or left of the table. This makes it very difficult to quickly see the data and find relations. I see this as a structural or tidiness issue. \n"
   ]
  },
  {
   "cell_type": "code",
   "execution_count": 195,
   "metadata": {},
   "outputs": [
    {
     "data": {
      "text/plain": [
       "a               55\n",
       "actually        2 \n",
       "all             1 \n",
       "an              7 \n",
       "by              1 \n",
       "getting         2 \n",
       "his             1 \n",
       "incredibly      1 \n",
       "infuriating     1 \n",
       "just            4 \n",
       "life            1 \n",
       "light           1 \n",
       "mad             2 \n",
       "my              1 \n",
       "not             2 \n",
       "officially      1 \n",
       "old             1 \n",
       "one             4 \n",
       "quite           4 \n",
       "space           1 \n",
       "such            1 \n",
       "the             8 \n",
       "this            1 \n",
       "unacceptable    1 \n",
       "very            5 \n",
       "Name: name, dtype: int64"
      ]
     },
     "execution_count": 195,
     "metadata": {},
     "output_type": "execute_result"
    }
   ],
   "source": [
    "# list all names that are NOT capitalized\n",
    "err_names = archive.name.str.contains('^[a-z]', regex = True)\n",
    "archive[err_names].name.value_counts().sort_index()"
   ]
  },
  {
   "cell_type": "code",
   "execution_count": 197,
   "metadata": {},
   "outputs": [
    {
     "data": {
      "text/plain": [
       "109"
      ]
     },
     "execution_count": 197,
     "metadata": {},
     "output_type": "execute_result"
    }
   ],
   "source": [
    "# strings that starts with a lower case in the dataset archive: or len(archive[err_names])\n",
    "archive.name.str.islower().sum()"
   ]
  },
  {
   "cell_type": "code",
   "execution_count": null,
   "metadata": {},
   "outputs": [],
   "source": []
  },
  {
   "cell_type": "code",
   "execution_count": 172,
   "metadata": {},
   "outputs": [
    {
     "name": "stdout",
     "output_type": "stream",
     "text": [
      "<class 'pandas.core.frame.DataFrame'>\n",
      "RangeIndex: 2356 entries, 0 to 2355\n",
      "Data columns (total 17 columns):\n",
      "tweet_id                      2356 non-null int64\n",
      "in_reply_to_status_id         78 non-null float64\n",
      "in_reply_to_user_id           78 non-null float64\n",
      "timestamp                     2356 non-null object\n",
      "source                        2356 non-null object\n",
      "text                          2356 non-null object\n",
      "retweeted_status_id           181 non-null float64\n",
      "retweeted_status_user_id      181 non-null float64\n",
      "retweeted_status_timestamp    181 non-null object\n",
      "expanded_urls                 2297 non-null object\n",
      "rating_numerator              2356 non-null int64\n",
      "rating_denominator            2356 non-null int64\n",
      "name                          2356 non-null object\n",
      "doggo                         2356 non-null object\n",
      "floofer                       2356 non-null object\n",
      "pupper                        2356 non-null object\n",
      "puppo                         2356 non-null object\n",
      "dtypes: float64(4), int64(3), object(10)\n",
      "memory usage: 313.0+ KB\n"
     ]
    }
   ],
   "source": [
    "archive.info()"
   ]
  },
  {
   "cell_type": "markdown",
   "metadata": {},
   "source": [
    "> Observations:\n",
    "\n",
    "The info() method reveals several quality and tidiness issues in the archive file:\n",
    "\n",
    "- There are 181 retweets (retweeted_status_id, retweeted_status_user_id, retweeted_status_timestamp)\n",
    "- There are 78 replies (in_reply_to_status_id, in_reply_to_user_id)\n",
    "- There are 2297 tweets with expanded_urls (links to images) indicating 59 (2297-2356) tweets with missing data\n",
    "- The timestamp field is in string format (object)\n",
    "- There are 4 columns for dog stages (doggo, floofer, pupper, puppo)\n",
    "- The columns related to retweets are not applicable for original tweets\n",
    "- The columns related to replies are not applicable for original tweets"
   ]
  },
  {
   "cell_type": "code",
   "execution_count": 182,
   "metadata": {},
   "outputs": [
    {
     "data": {
      "text/plain": [
       "tweet_id                      0   \n",
       "in_reply_to_status_id         2278\n",
       "in_reply_to_user_id           2278\n",
       "timestamp                     0   \n",
       "source                        0   \n",
       "text                          0   \n",
       "retweeted_status_id           2175\n",
       "retweeted_status_user_id      2175\n",
       "retweeted_status_timestamp    2175\n",
       "expanded_urls                 59  \n",
       "rating_numerator              0   \n",
       "rating_denominator            0   \n",
       "name                          0   \n",
       "doggo                         0   \n",
       "floofer                       0   \n",
       "pupper                        0   \n",
       "puppo                         0   \n",
       "dtype: int64"
      ]
     },
     "execution_count": 182,
     "metadata": {},
     "output_type": "execute_result"
    }
   ],
   "source": [
    "#total missing values in each variable listed in the archive file:\n",
    "\n",
    "archive.isnull().sum()"
   ]
  },
  {
   "cell_type": "code",
   "execution_count": 186,
   "metadata": {},
   "outputs": [
    {
     "name": "stdout",
     "output_type": "stream",
     "text": [
      "Duplicated:  0\n"
     ]
    }
   ],
   "source": [
    "#number of duplicates within the archive dataset:\n",
    "archive.duplicated().sum()\n",
    "print(\"Duplicated:  {}\".format(sum(archive.duplicated())))"
   ]
  },
  {
   "cell_type": "code",
   "execution_count": 204,
   "metadata": {},
   "outputs": [
    {
     "data": {
      "text/plain": [
       "<a href=\"http://twitter.com/download/iphone\" rel=\"nofollow\">Twitter for iPhone</a>     2221\n",
       "<a href=\"http://vine.co\" rel=\"nofollow\">Vine - Make a Scene</a>                        91  \n",
       "<a href=\"http://twitter.com\" rel=\"nofollow\">Twitter Web Client</a>                     33  \n",
       "<a href=\"https://about.twitter.com/products/tweetdeck\" rel=\"nofollow\">TweetDeck</a>    11  \n",
       "Name: source, dtype: int64"
      ]
     },
     "execution_count": 204,
     "metadata": {},
     "output_type": "execute_result"
    }
   ],
   "source": [
    "# I am curious to see the main source counts for the tweets:\n",
    "archive.source.value_counts()\n"
   ]
  },
  {
   "cell_type": "markdown",
   "metadata": {},
   "source": [
    ">There are only 4 types of sources:\n",
    "\n",
    "- Twitter for iPhone\n",
    "- Vine - Make a Scene\n",
    "- Twitter Web Client\n",
    "- TweetDeck"
   ]
  },
  {
   "cell_type": "markdown",
   "metadata": {},
   "source": [
    "#### Dog types: doggo, floofer, pupper, and puppo"
   ]
  },
  {
   "cell_type": "code",
   "execution_count": 205,
   "metadata": {},
   "outputs": [
    {
     "data": {
      "text/plain": [
       "None     2259\n",
       "doggo    97  \n",
       "Name: doggo, dtype: int64"
      ]
     },
     "execution_count": 205,
     "metadata": {},
     "output_type": "execute_result"
    }
   ],
   "source": [
    "archive.doggo.value_counts()"
   ]
  },
  {
   "cell_type": "code",
   "execution_count": 206,
   "metadata": {},
   "outputs": [
    {
     "data": {
      "text/plain": [
       "None       2346\n",
       "floofer    10  \n",
       "Name: floofer, dtype: int64"
      ]
     },
     "execution_count": 206,
     "metadata": {},
     "output_type": "execute_result"
    }
   ],
   "source": [
    "archive.floofer.value_counts()"
   ]
  },
  {
   "cell_type": "code",
   "execution_count": 207,
   "metadata": {},
   "outputs": [
    {
     "data": {
      "text/plain": [
       "None      2099\n",
       "pupper    257 \n",
       "Name: pupper, dtype: int64"
      ]
     },
     "execution_count": 207,
     "metadata": {},
     "output_type": "execute_result"
    }
   ],
   "source": [
    "archive.pupper.value_counts()"
   ]
  },
  {
   "cell_type": "code",
   "execution_count": 208,
   "metadata": {},
   "outputs": [
    {
     "data": {
      "text/plain": [
       "None     2326\n",
       "puppo    30  \n",
       "Name: puppo, dtype: int64"
      ]
     },
     "execution_count": 208,
     "metadata": {},
     "output_type": "execute_result"
    }
   ],
   "source": [
    "archive.puppo.value_counts()"
   ]
  },
  {
   "cell_type": "code",
   "execution_count": 210,
   "metadata": {},
   "outputs": [
    {
     "data": {
      "text/plain": [
       "29      This is Roscoe. Another pupper fallen victim to spontaneous tongue ejections. Get the BlepiPen immediate. 12/10 deep breaths Roscoe https://t.co/RGE08MIJox           \n",
       "49      This is Gus. He's quite the cheeky pupper. Already perfected the disinterested wink. 12/10 would let steal my girl https://t.co/D43I96SlVu                            \n",
       "56      Here is a pupper approaching maximum borkdrive. Zooming at never before seen speeds. 14/10 paw-inspiring af \\n(IG: puffie_the_chow) https://t.co/ghXBIIeQZF           \n",
       "78      RT @rachel2195: @dog_rates the boyfriend and his soaking wet pupper h*cking love his new hat 14/10 https://t.co/dJx4Gzc50G                                            \n",
       "82      This is Ginger. She's having a ruff Monday. Too many pupper things going on. H*ckin exhausting. 12/10 would snug passionately https://t.co/j211oCDRs6                 \n",
       "92      This is Jed. He may be the fanciest pupper in the game right now. Knows it too. 13/10 would sign modeling contract https://t.co/0YplNnSMEm                            \n",
       "97      RT @dog_rates: This is Sierra. She's one precious pupper. Absolute 12/10. Been in and out of ICU her whole life. Help Sierra below\\n\\nhttps:/…                        \n",
       "98      This is Sierra. She's one precious pupper. Absolute 12/10. Been in and out of ICU her whole life. Help Sierra below\\n\\nhttps://t.co/Xp01EU3qyD https://t.co/V5lkvrGLdQ\n",
       "107     This is Rover. As part of pupper protocol he had to at least attempt to eat the plant. Confirmed not tasty. Needs peanut butter. 12/10 https://t.co/AiVljI6QCg        \n",
       "132     RT @dog_rates: This is Jamesy. He gives a kiss to every other pupper he sees on his walk. 13/10 such passion, much tender https://t.co/wk7T…                          \n",
       "135     This is Jamesy. He gives a kiss to every other pupper he sees on his walk. 13/10 such passion, much tender https://t.co/wk7TfysWHr                                    \n",
       "137     RT @dog_rates: Here's a pupper before and after being asked \"who's a good girl?\" Unsure as h*ck. 12/10 hint hint it's you https://t.co/ORiK…                          \n",
       "199     Sometimes you guys remind me just how impactful a pupper can be. Cooper will be remembered as a good boy by so many. 14/10 rest easy friend https://t.co/oBL7LEJEzR   \n",
       "220     Say hello to Boomer. He's a sandy pupper. Having a h*ckin blast. 12/10 would pet passionately https://t.co/ecb3LvExde                                                 \n",
       "222     RT @dog_rates: This is Gidget. She's a spy pupper. Stealthy as h*ck. Must've slipped pup and got caught. 12/10 would forgive then pet https…                          \n",
       "249     This is Pickles. She's a silly pupper. Thinks she's a dish. 12/10 would dry https://t.co/7mPCF4ZwEk                                                                   \n",
       "281     RT @alexmartindawg: THE DRINK IS DR. PUPPER 10/10 good pun @matt___nelson @GoodDogsGame https://t.co/act3duiqbL                                                       \n",
       "293     Here's a pupper before and after being asked \"who's a good girl?\" Unsure as h*ck. 12/10 hint hint it's you https://t.co/ORiK6jlgdH                                    \n",
       "297     This is Clark. He passed pupper training today. Round of appaws for Clark. 13/10 https://t.co/7pUjwe8X6B                                                              \n",
       "304     This is Ava. She just blasted off. Streamline af. Aerodynamic as h*ck. One small step for pupper, one giant leap for pupkind. 12/10 https://t.co/W4KffrdX3Q           \n",
       "330     This is Gidget. She's a spy pupper. Stealthy as h*ck. Must've slipped pup and got caught. 12/10 would forgive then pet https://t.co/zD97KYFaFa                        \n",
       "352     I couldn't make it to the #WKCDogShow BUT I have people there on the ground relaying me the finest pupper pics possible. 13/10 for all https://t.co/jd6lYhfdH4        \n",
       "378     This is Kona. Yesterday she stopped by the department to see what it takes to be a police pupper. 12/10 vest was only a smidge too big https://t.co/j8D3PQJvpJ        \n",
       "402     Retweet the h*ck out of this 13/10 pupper #BellLetsTalk https://t.co/wBmc7OaGvS                                                                                       \n",
       "418     This is Gabe. He was the unequivocal embodiment of a dream meme, but also one h*ck of a pupper. You will be missed by so many. 14/10 RIP https://t.co/M3hZGadUuO      \n",
       "444     Some happy pupper news to share. 10/10 for everyone involved \\nhttps://t.co/MefMAZX2uv                                                                                \n",
       "453     RT @dog_rates: This is Chelsea. She forgot how to dog. 11/10 get it together pupper https://t.co/nBJ5RE4yHb                                                           \n",
       "460     This is Dido. She's playing the lead role in \"Pupper Stops to Catch Snow Before Resuming Shadow Box with Dried Apple.\" 13/10 (IG: didodoggo) https://t.co/m7isZrOBX7  \n",
       "462     RT @dog_rates: Meet Herschel. He's slightly bigger than ur average pupper. Looks lonely. Could probably ride 7/10 would totally pet https:/…                          \n",
       "465     RT @dog_rates: Here's a pupper with squeaky hiccups. Please enjoy. 13/10 https://t.co/MiMKtsLN6k                                                                      \n",
       "                                                      ...                                                                                                                     \n",
       "1875    Meet Zuzu. He just graduated college. Astute pupper. Needs 2 leashes to contain him. Wasn't ready for the pic. 10/10 https://t.co/2H5SKmk0k7                          \n",
       "1880    Say hello to Mollie. This pic was taken after she bet all her toys on Ronda Rousey. 10/10 hang in there pupper https://t.co/QMmAqA9VqO                                \n",
       "1889    This is Superpup. His head isn't proportional to his body. Has yet to serve any justice. 11/10 maybe one day pupper https://t.co/gxIFgg8ktm                           \n",
       "1897    Meet Rufio. He is unaware of the pink legless pupper wrapped around him. Might want to get that checked 10/10 &amp; 4/10 https://t.co/KNfLnYPmYh                      \n",
       "1903    This pupper is fed up with being tickled. 12/10 I'm currently working on an elaborate heist to steal this dog https://t.co/F33n1hy3LL                                 \n",
       "1907    This pupper just wants a belly rub. This pupper has nothing to do w the tree being sideways now. 10/10 good pupper https://t.co/AyJ7Ohk71f                            \n",
       "1915    This is Lennon. He's in quite the predicament. 8/10 hang in there pupper https://t.co/7mf8XXPAZv                                                                      \n",
       "1921    This is Gus. He's super stoked about being an elephant. Couldn't be happier. 9/10 for elephant pupper https://t.co/gJS1qU0jP7                                         \n",
       "1930    This is Kaiya. She's an aspiring shoe model. 12/10 follow your dreams pupper https://t.co/nX8FiGRHvk                                                                  \n",
       "1936    This is one esteemed pupper. Just graduated college. 10/10 what a champ https://t.co/nyReCVRiyd                                                                       \n",
       "1937    This is Obie. He is on guard watching for evildoers from the comfort of his pumpkin. Very brave pupper. 11/10 https://t.co/cdwPTsGEAb                                 \n",
       "1945    This is Raymond. He's absolutely terrified of floating tennis ball. 10/10 it'll be ok pupper https://t.co/QyH1CaY3SM                                                  \n",
       "1948    This is Pickles. She's a tiny pointy pupper. Average walker. Very skeptical of wet leaf. 8/10 https://t.co/lepRCaGcgw                                                 \n",
       "1954    This is Albert AKA King Banana Peel. He's a kind ruler of the kitchen. Very jubilant pupper. 10/10 overall great dog https://t.co/PN8hxgZ9We                          \n",
       "1956    This is Jeffri. He's a speckled ice pupper. Very lazy. Enjoys the occasional swim. Rather majestic really. 7/10 https://t.co/0iyItbtkr8                               \n",
       "1960    This little pupper can't wait for Christmas. He's pretending to be a present. S'cute. 11/10 twenty more days 🎁🎄🐶 https://t.co/m8r9rbcgX4                              \n",
       "1967    This is Django. He's a skilled assassin pupper. 10/10 https://t.co/w0YTuiRd1a                                                                                         \n",
       "1970    Meet Eve. She's a raging alcoholic 8/10 (would b 11/10 but pupper alcoholism is a tragic issue that I can't condone) https://t.co/U36HYQIijg                          \n",
       "1974    This is Fletcher. He's had a ruff night. No more Fireball for Fletcher. 8/10 it'll be over soon pupper https://t.co/tA4WpkI2cw                                        \n",
       "1977    This is Schnozz. He's had a blurred tail since birth. Hasn't let that stop him. 10/10 inspirational pupper https://t.co/a3zYMcvbXG                                    \n",
       "1980    This is Chuckles. He is one skeptical pupper. 10/10 stay woke Chuckles https://t.co/ZlcF0TIRW1                                                                        \n",
       "1981    This is Chet. He's having a hard time. Really struggling. 7/10 hang in there pupper https://t.co/eb4ta0xtnd                                                           \n",
       "1985    This is Cheryl AKA Queen Pupper of the Skies. Experienced fighter pilot. Much skill. True hero. 11/10 https://t.co/i4XJEWwdsp                                         \n",
       "1991    This lil pupper is sad because we haven't found Kony yet. RT to spread awareness. 12/10 would pet firmly https://t.co/Cv7dRdcMvQ                                      \n",
       "1992    This is Norman. Doesn't bark much. Very docile pup. Up to date on current events. Overall nifty pupper. 6/10 https://t.co/ntxsR98f3U                                  \n",
       "1995    Meet Scott. Just trying to catch his train to work. Doesn't need everybody staring. 9/10 ignore the haters pupper https://t.co/jyXbZ35MYz                             \n",
       "2002    Say hello to Jazz. She should be on the cover of Vogue. 12/10 gorgeous pupper https://t.co/mVCMemhXAP                                                                 \n",
       "2009    This is Rolf. He's having the time of his life. 11/10 good pupper https://t.co/OO6MqEbqG3                                                                             \n",
       "2015    This is Opal. He's a Royal John Coctostan. Ready for transport. Basically indestructible. 9/10 good pupper https://t.co/yRBQF9OS7D                                    \n",
       "2017    This is Bubba. He's a Titted Peebles Aorta. Evolutionary masterpiece. Comfortable with his body. 8/10 great pupper https://t.co/aNkkl5nH3W                            \n",
       "Name: text, Length: 257, dtype: object"
      ]
     },
     "execution_count": 210,
     "metadata": {},
     "output_type": "execute_result"
    }
   ],
   "source": [
    "# lets take a look at one type in the text:\n",
    "\n",
    "archive[archive.pupper == 'pupper'].text\n"
   ]
  },
  {
   "cell_type": "markdown",
   "metadata": {},
   "source": [
    "It is worth to mention that there is variation in the spelling of the dog type. e.g. pupper, PUPPER, Popper... this may exists in the text for all other types."
   ]
  },
  {
   "cell_type": "markdown",
   "metadata": {},
   "source": [
    "##### rating_numerator, and rating_denominator features:"
   ]
  },
  {
   "cell_type": "code",
   "execution_count": 213,
   "metadata": {},
   "outputs": [
    {
     "data": {
      "text/html": [
       "<div>\n",
       "<style scoped>\n",
       "    .dataframe tbody tr th:only-of-type {\n",
       "        vertical-align: middle;\n",
       "    }\n",
       "\n",
       "    .dataframe tbody tr th {\n",
       "        vertical-align: top;\n",
       "    }\n",
       "\n",
       "    .dataframe thead th {\n",
       "        text-align: right;\n",
       "    }\n",
       "</style>\n",
       "<table border=\"1\" class=\"dataframe\">\n",
       "  <thead>\n",
       "    <tr style=\"text-align: right;\">\n",
       "      <th></th>\n",
       "      <th>rating_numerator</th>\n",
       "      <th>rating_denominator</th>\n",
       "    </tr>\n",
       "  </thead>\n",
       "  <tbody>\n",
       "    <tr>\n",
       "      <th>count</th>\n",
       "      <td>2356.000000</td>\n",
       "      <td>2356.000000</td>\n",
       "    </tr>\n",
       "    <tr>\n",
       "      <th>mean</th>\n",
       "      <td>13.126486</td>\n",
       "      <td>10.455433</td>\n",
       "    </tr>\n",
       "    <tr>\n",
       "      <th>std</th>\n",
       "      <td>45.876648</td>\n",
       "      <td>6.745237</td>\n",
       "    </tr>\n",
       "    <tr>\n",
       "      <th>min</th>\n",
       "      <td>0.000000</td>\n",
       "      <td>0.000000</td>\n",
       "    </tr>\n",
       "    <tr>\n",
       "      <th>25%</th>\n",
       "      <td>10.000000</td>\n",
       "      <td>10.000000</td>\n",
       "    </tr>\n",
       "    <tr>\n",
       "      <th>50%</th>\n",
       "      <td>11.000000</td>\n",
       "      <td>10.000000</td>\n",
       "    </tr>\n",
       "    <tr>\n",
       "      <th>75%</th>\n",
       "      <td>12.000000</td>\n",
       "      <td>10.000000</td>\n",
       "    </tr>\n",
       "    <tr>\n",
       "      <th>max</th>\n",
       "      <td>1776.000000</td>\n",
       "      <td>170.000000</td>\n",
       "    </tr>\n",
       "  </tbody>\n",
       "</table>\n",
       "</div>"
      ],
      "text/plain": [
       "       rating_numerator  rating_denominator\n",
       "count  2356.000000       2356.000000       \n",
       "mean   13.126486         10.455433         \n",
       "std    45.876648         6.745237          \n",
       "min    0.000000          0.000000          \n",
       "25%    10.000000         10.000000         \n",
       "50%    11.000000         10.000000         \n",
       "75%    12.000000         10.000000         \n",
       "max    1776.000000       170.000000        "
      ]
     },
     "execution_count": 213,
     "metadata": {},
     "output_type": "execute_result"
    }
   ],
   "source": [
    "archive[['rating_numerator', 'rating_denominator']].describe()\n"
   ]
  },
  {
   "cell_type": "markdown",
   "metadata": {},
   "source": [
    "*Observation:*\n",
    "** For rating_numerator and rating_denominator, the describe() method shows us some quality issues:\n",
    "\n",
    "- The minimum is 0 for both.\n",
    "- The maximum values are very huge"
   ]
  },
  {
   "cell_type": "code",
   "execution_count": 214,
   "metadata": {},
   "outputs": [
    {
     "data": {
      "text/plain": [
       "1776    1  \n",
       "960     1  \n",
       "666     1  \n",
       "420     2  \n",
       "204     1  \n",
       "182     1  \n",
       "165     1  \n",
       "144     1  \n",
       "143     1  \n",
       "121     1  \n",
       "99      1  \n",
       "88      1  \n",
       "84      1  \n",
       "80      1  \n",
       "75      2  \n",
       "60      1  \n",
       "50      1  \n",
       "45      1  \n",
       "44      1  \n",
       "27      1  \n",
       "26      1  \n",
       "24      1  \n",
       "20      1  \n",
       "17      1  \n",
       "15      2  \n",
       "14      54 \n",
       "13      351\n",
       "12      558\n",
       "11      464\n",
       "10      461\n",
       "9       158\n",
       "8       102\n",
       "7       55 \n",
       "6       32 \n",
       "5       37 \n",
       "4       17 \n",
       "3       19 \n",
       "2       9  \n",
       "1       9  \n",
       "0       2  \n",
       "Name: rating_numerator, dtype: int64"
      ]
     },
     "execution_count": 214,
     "metadata": {},
     "output_type": "execute_result"
    }
   ],
   "source": [
    "# looking at the count of rating_numerators:\n",
    "archive.rating_numerator.value_counts().sort_index(ascending = False)"
   ]
  },
  {
   "cell_type": "code",
   "execution_count": 218,
   "metadata": {},
   "outputs": [
    {
     "data": {
      "text/plain": [
       "28"
      ]
     },
     "execution_count": 218,
     "metadata": {},
     "output_type": "execute_result"
    }
   ],
   "source": [
    "# count of numerators >= 15:\n",
    "sum(archive.rating_numerator >= 15)"
   ]
  },
  {
   "cell_type": "code",
   "execution_count": 219,
   "metadata": {},
   "outputs": [
    {
     "data": {
      "text/plain": [
       "170    1   \n",
       "150    1   \n",
       "130    1   \n",
       "120    1   \n",
       "110    1   \n",
       "90     1   \n",
       "80     2   \n",
       "70     1   \n",
       "50     3   \n",
       "40     1   \n",
       "20     2   \n",
       "16     1   \n",
       "15     1   \n",
       "11     3   \n",
       "10     2333\n",
       "7      1   \n",
       "2      1   \n",
       "0      1   \n",
       "Name: rating_denominator, dtype: int64"
      ]
     },
     "execution_count": 219,
     "metadata": {},
     "output_type": "execute_result"
    }
   ],
   "source": [
    "archive.rating_denominator.value_counts().sort_index(ascending = False)"
   ]
  },
  {
   "cell_type": "code",
   "execution_count": 223,
   "metadata": {},
   "outputs": [
    {
     "data": {
      "text/plain": [
       "23"
      ]
     },
     "execution_count": 223,
     "metadata": {},
     "output_type": "execute_result"
    }
   ],
   "source": [
    "# count of numerators >= 15:\n",
    "sum(archive.rating_denominator != 10)"
   ]
  },
  {
   "cell_type": "code",
   "execution_count": null,
   "metadata": {},
   "outputs": [],
   "source": []
  },
  {
   "cell_type": "markdown",
   "metadata": {},
   "source": [
    "The output above shows ALL the rating_numerator and rating_denominator values, showing a count of 28 tweets with numerator >= 15. Next, I am going to look at those ratings with denominators = 10:"
   ]
  },
  {
   "cell_type": "code",
   "execution_count": 224,
   "metadata": {},
   "outputs": [
    {
     "data": {
      "text/html": [
       "<div>\n",
       "<style scoped>\n",
       "    .dataframe tbody tr th:only-of-type {\n",
       "        vertical-align: middle;\n",
       "    }\n",
       "\n",
       "    .dataframe tbody tr th {\n",
       "        vertical-align: top;\n",
       "    }\n",
       "\n",
       "    .dataframe thead th {\n",
       "        text-align: right;\n",
       "    }\n",
       "</style>\n",
       "<table border=\"1\" class=\"dataframe\">\n",
       "  <thead>\n",
       "    <tr style=\"text-align: right;\">\n",
       "      <th></th>\n",
       "      <th>text</th>\n",
       "      <th>tweet_id</th>\n",
       "      <th>rating_numerator</th>\n",
       "      <th>rating_denominator</th>\n",
       "    </tr>\n",
       "  </thead>\n",
       "  <tbody>\n",
       "    <tr>\n",
       "      <th>695</th>\n",
       "      <td>This is Logan, the Chow who lived. He solemnly swears he's up to lots of good. H*ckin magical af 9.75/10 https://t.co/yBO5wuqaPS</td>\n",
       "      <td>786709082849828864</td>\n",
       "      <td>75</td>\n",
       "      <td>10</td>\n",
       "    </tr>\n",
       "    <tr>\n",
       "      <th>763</th>\n",
       "      <td>This is Sophie. She's a Jubilant Bush Pupper. Super h*ckin rare. Appears at random just to smile at the locals. 11.27/10 would smile back https://t.co/QFaUiIHxHq</td>\n",
       "      <td>778027034220126208</td>\n",
       "      <td>27</td>\n",
       "      <td>10</td>\n",
       "    </tr>\n",
       "    <tr>\n",
       "      <th>979</th>\n",
       "      <td>This is Atticus. He's quite simply America af. 1776/10 https://t.co/GRXwMxLBkh</td>\n",
       "      <td>749981277374128128</td>\n",
       "      <td>1776</td>\n",
       "      <td>10</td>\n",
       "    </tr>\n",
       "    <tr>\n",
       "      <th>1712</th>\n",
       "      <td>Here we have uncovered an entire battalion of holiday puppers. Average of 11.26/10 https://t.co/eNm2S6p9BD</td>\n",
       "      <td>680494726643068929</td>\n",
       "      <td>26</td>\n",
       "      <td>10</td>\n",
       "    </tr>\n",
       "    <tr>\n",
       "      <th>2074</th>\n",
       "      <td>After so many requests... here you go.\\n\\nGood dogg. 420/10 https://t.co/yfAAo1gdeY</td>\n",
       "      <td>670842764863651840</td>\n",
       "      <td>420</td>\n",
       "      <td>10</td>\n",
       "    </tr>\n",
       "  </tbody>\n",
       "</table>\n",
       "</div>"
      ],
      "text/plain": [
       "                                                                                                                                                                   text  \\\n",
       "695   This is Logan, the Chow who lived. He solemnly swears he's up to lots of good. H*ckin magical af 9.75/10 https://t.co/yBO5wuqaPS                                    \n",
       "763   This is Sophie. She's a Jubilant Bush Pupper. Super h*ckin rare. Appears at random just to smile at the locals. 11.27/10 would smile back https://t.co/QFaUiIHxHq   \n",
       "979   This is Atticus. He's quite simply America af. 1776/10 https://t.co/GRXwMxLBkh                                                                                      \n",
       "1712  Here we have uncovered an entire battalion of holiday puppers. Average of 11.26/10 https://t.co/eNm2S6p9BD                                                          \n",
       "2074  After so many requests... here you go.\\n\\nGood dogg. 420/10 https://t.co/yfAAo1gdeY                                                                                 \n",
       "\n",
       "                tweet_id  rating_numerator  rating_denominator  \n",
       "695   786709082849828864  75                10                  \n",
       "763   778027034220126208  27                10                  \n",
       "979   749981277374128128  1776              10                  \n",
       "1712  680494726643068929  26                10                  \n",
       "2074  670842764863651840  420               10                  "
      ]
     },
     "execution_count": 224,
     "metadata": {},
     "output_type": "execute_result"
    }
   ],
   "source": [
    "# display tweets with numerator >= 15 that DO have denominator of 10, and are not part of the reply or re-tweets:\n",
    "mask_tweets = (archive.rating_denominator == 10) & \\\n",
    "            (archive.rating_numerator >= 15) & \\\n",
    "            archive.in_reply_to_status_id.isna() & \\\n",
    "            archive.retweeted_status_id.isna()\n",
    "\n",
    "mask_columns = ['text', 'tweet_id', 'rating_numerator', 'rating_denominator']\n",
    "archive[mask_tweets][mask_columns]"
   ]
  },
  {
   "cell_type": "markdown",
   "metadata": {},
   "source": [
    "The result is 5 tweets. Looking at the text column we see ratings with decimals or very big numbers. There are not many of these, so we should not include them in the data.\n",
    "\n",
    "Below is also 1 tweet that has a rating_numerator of 0. This should also be dropped.\n"
   ]
  },
  {
   "cell_type": "code",
   "execution_count": 226,
   "metadata": {},
   "outputs": [
    {
     "data": {
      "text/html": [
       "<div>\n",
       "<style scoped>\n",
       "    .dataframe tbody tr th:only-of-type {\n",
       "        vertical-align: middle;\n",
       "    }\n",
       "\n",
       "    .dataframe tbody tr th {\n",
       "        vertical-align: top;\n",
       "    }\n",
       "\n",
       "    .dataframe thead th {\n",
       "        text-align: right;\n",
       "    }\n",
       "</style>\n",
       "<table border=\"1\" class=\"dataframe\">\n",
       "  <thead>\n",
       "    <tr style=\"text-align: right;\">\n",
       "      <th></th>\n",
       "      <th>text</th>\n",
       "      <th>tweet_id</th>\n",
       "      <th>rating_numerator</th>\n",
       "      <th>rating_denominator</th>\n",
       "    </tr>\n",
       "  </thead>\n",
       "  <tbody>\n",
       "    <tr>\n",
       "      <th>315</th>\n",
       "      <td>When you're so blinded by your systematic plagiarism that you forget what day it is. 0/10 https://t.co/YbEJPkg4Ag</td>\n",
       "      <td>835152434251116546</td>\n",
       "      <td>0</td>\n",
       "      <td>10</td>\n",
       "    </tr>\n",
       "  </tbody>\n",
       "</table>\n",
       "</div>"
      ],
      "text/plain": [
       "                                                                                                                  text  \\\n",
       "315  When you're so blinded by your systematic plagiarism that you forget what day it is. 0/10 https://t.co/YbEJPkg4Ag   \n",
       "\n",
       "               tweet_id  rating_numerator  rating_denominator  \n",
       "315  835152434251116546  0                 10                  "
      ]
     },
     "execution_count": 226,
     "metadata": {},
     "output_type": "execute_result"
    }
   ],
   "source": [
    "# display tweets with numerator = 0 that DO have denominator of 10, and are NOT replies and are NOT retweets\n",
    "mask_tweets = (archive.rating_denominator == 10) & \\\n",
    "            (archive.rating_numerator == 0) & \\\n",
    "            archive.in_reply_to_status_id.isna() & \\\n",
    "            archive.retweeted_status_id.isna()\n",
    "\n",
    "mask_columns = ['text', 'tweet_id', 'rating_numerator', 'rating_denominator']\n",
    "archive[mask_tweets][mask_columns]"
   ]
  },
  {
   "cell_type": "code",
   "execution_count": 228,
   "metadata": {},
   "outputs": [
    {
     "data": {
      "text/html": [
       "<div>\n",
       "<style scoped>\n",
       "    .dataframe tbody tr th:only-of-type {\n",
       "        vertical-align: middle;\n",
       "    }\n",
       "\n",
       "    .dataframe tbody tr th {\n",
       "        vertical-align: top;\n",
       "    }\n",
       "\n",
       "    .dataframe thead th {\n",
       "        text-align: right;\n",
       "    }\n",
       "</style>\n",
       "<table border=\"1\" class=\"dataframe\">\n",
       "  <thead>\n",
       "    <tr style=\"text-align: right;\">\n",
       "      <th></th>\n",
       "      <th>text</th>\n",
       "      <th>tweet_id</th>\n",
       "      <th>rating_numerator</th>\n",
       "      <th>rating_denominator</th>\n",
       "    </tr>\n",
       "  </thead>\n",
       "  <tbody>\n",
       "    <tr>\n",
       "      <th>433</th>\n",
       "      <td>The floofs have been released I repeat the floofs have been released. 84/70 https://t.co/NIYC820tmd</td>\n",
       "      <td>820690176645140481</td>\n",
       "      <td>84</td>\n",
       "      <td>70</td>\n",
       "    </tr>\n",
       "    <tr>\n",
       "      <th>516</th>\n",
       "      <td>Meet Sam. She smiles 24/7 &amp;amp; secretly aspires to be a reindeer. \\nKeep Sam smiling by clicking and sharing this link:\\nhttps://t.co/98tB8y7y7t https://t.co/LouL5vdvxx</td>\n",
       "      <td>810984652412424192</td>\n",
       "      <td>24</td>\n",
       "      <td>7</td>\n",
       "    </tr>\n",
       "    <tr>\n",
       "      <th>902</th>\n",
       "      <td>Why does this never happen at my front door... 165/150 https://t.co/HmwrdfEfUE</td>\n",
       "      <td>758467244762497024</td>\n",
       "      <td>165</td>\n",
       "      <td>150</td>\n",
       "    </tr>\n",
       "    <tr>\n",
       "      <th>1068</th>\n",
       "      <td>After so many requests, this is Bretagne. She was the last surviving 9/11 search dog, and our second ever 14/10. RIP https://t.co/XAVDNDaVgQ</td>\n",
       "      <td>740373189193256964</td>\n",
       "      <td>9</td>\n",
       "      <td>11</td>\n",
       "    </tr>\n",
       "    <tr>\n",
       "      <th>1120</th>\n",
       "      <td>Say hello to this unbelievably well behaved squad of doggos. 204/170 would try to pet all at once https://t.co/yGQI3He3xv</td>\n",
       "      <td>731156023742988288</td>\n",
       "      <td>204</td>\n",
       "      <td>170</td>\n",
       "    </tr>\n",
       "    <tr>\n",
       "      <th>1165</th>\n",
       "      <td>Happy 4/20 from the squad! 13/10 for all https://t.co/eV1diwds8a</td>\n",
       "      <td>722974582966214656</td>\n",
       "      <td>4</td>\n",
       "      <td>20</td>\n",
       "    </tr>\n",
       "    <tr>\n",
       "      <th>1202</th>\n",
       "      <td>This is Bluebert. He just saw that both #FinalFur match ups are split 50/50. Amazed af. 11/10 https://t.co/Kky1DPG4iq</td>\n",
       "      <td>716439118184652801</td>\n",
       "      <td>50</td>\n",
       "      <td>50</td>\n",
       "    </tr>\n",
       "    <tr>\n",
       "      <th>1228</th>\n",
       "      <td>Happy Saturday here's 9 puppers on a bench. 99/90 good work everybody https://t.co/mpvaVxKmc1</td>\n",
       "      <td>713900603437621249</td>\n",
       "      <td>99</td>\n",
       "      <td>90</td>\n",
       "    </tr>\n",
       "    <tr>\n",
       "      <th>1254</th>\n",
       "      <td>Here's a brigade of puppers. All look very prepared for whatever happens next. 80/80 https://t.co/0eb7R1Om12</td>\n",
       "      <td>710658690886586372</td>\n",
       "      <td>80</td>\n",
       "      <td>80</td>\n",
       "    </tr>\n",
       "    <tr>\n",
       "      <th>1274</th>\n",
       "      <td>From left to right:\\nCletus, Jerome, Alejandro, Burp, &amp;amp; Titson\\nNone know where camera is. 45/50 would hug all at once https://t.co/sedre1ivTK</td>\n",
       "      <td>709198395643068416</td>\n",
       "      <td>45</td>\n",
       "      <td>50</td>\n",
       "    </tr>\n",
       "    <tr>\n",
       "      <th>1351</th>\n",
       "      <td>Here is a whole flock of puppers.  60/50 I'll take the lot https://t.co/9dpcw6MdWa</td>\n",
       "      <td>704054845121142784</td>\n",
       "      <td>60</td>\n",
       "      <td>50</td>\n",
       "    </tr>\n",
       "    <tr>\n",
       "      <th>1433</th>\n",
       "      <td>Happy Wednesday here's a bucket of pups. 44/40 would pet all at once https://t.co/HppvrYuamZ</td>\n",
       "      <td>697463031882764288</td>\n",
       "      <td>44</td>\n",
       "      <td>40</td>\n",
       "    </tr>\n",
       "    <tr>\n",
       "      <th>1635</th>\n",
       "      <td>Someone help the girl is being mugged. Several are distracting her while two steal her shoes. Clever puppers 121/110 https://t.co/1zfnTJLt55</td>\n",
       "      <td>684222868335505415</td>\n",
       "      <td>121</td>\n",
       "      <td>110</td>\n",
       "    </tr>\n",
       "    <tr>\n",
       "      <th>1662</th>\n",
       "      <td>This is Darrel. He just robbed a 7/11 and is in a high speed police chase. Was just spotted by the helicopter 10/10 https://t.co/7EsP8LmSp5</td>\n",
       "      <td>682962037429899265</td>\n",
       "      <td>7</td>\n",
       "      <td>11</td>\n",
       "    </tr>\n",
       "    <tr>\n",
       "      <th>1779</th>\n",
       "      <td>IT'S PUPPERGEDDON. Total of 144/120 ...I think https://t.co/ZanVtAtvIq</td>\n",
       "      <td>677716515794329600</td>\n",
       "      <td>144</td>\n",
       "      <td>120</td>\n",
       "    </tr>\n",
       "    <tr>\n",
       "      <th>1843</th>\n",
       "      <td>Here we have an entire platoon of puppers. Total score: 88/80 would pet all at once https://t.co/y93p6FLvVw</td>\n",
       "      <td>675853064436391936</td>\n",
       "      <td>88</td>\n",
       "      <td>80</td>\n",
       "    </tr>\n",
       "    <tr>\n",
       "      <th>2335</th>\n",
       "      <td>This is an Albanian 3 1/2 legged  Episcopalian. Loves well-polished hardwood flooring. Penis on the collar. 9/10 https://t.co/d9NcXFKwLv</td>\n",
       "      <td>666287406224695296</td>\n",
       "      <td>1</td>\n",
       "      <td>2</td>\n",
       "    </tr>\n",
       "  </tbody>\n",
       "</table>\n",
       "</div>"
      ],
      "text/plain": [
       "                                                                                                                                                                           text  \\\n",
       "433   The floofs have been released I repeat the floofs have been released. 84/70 https://t.co/NIYC820tmd                                                                         \n",
       "516   Meet Sam. She smiles 24/7 &amp; secretly aspires to be a reindeer. \\nKeep Sam smiling by clicking and sharing this link:\\nhttps://t.co/98tB8y7y7t https://t.co/LouL5vdvxx   \n",
       "902   Why does this never happen at my front door... 165/150 https://t.co/HmwrdfEfUE                                                                                              \n",
       "1068  After so many requests, this is Bretagne. She was the last surviving 9/11 search dog, and our second ever 14/10. RIP https://t.co/XAVDNDaVgQ                                \n",
       "1120  Say hello to this unbelievably well behaved squad of doggos. 204/170 would try to pet all at once https://t.co/yGQI3He3xv                                                   \n",
       "1165  Happy 4/20 from the squad! 13/10 for all https://t.co/eV1diwds8a                                                                                                            \n",
       "1202  This is Bluebert. He just saw that both #FinalFur match ups are split 50/50. Amazed af. 11/10 https://t.co/Kky1DPG4iq                                                       \n",
       "1228  Happy Saturday here's 9 puppers on a bench. 99/90 good work everybody https://t.co/mpvaVxKmc1                                                                               \n",
       "1254  Here's a brigade of puppers. All look very prepared for whatever happens next. 80/80 https://t.co/0eb7R1Om12                                                                \n",
       "1274  From left to right:\\nCletus, Jerome, Alejandro, Burp, &amp; Titson\\nNone know where camera is. 45/50 would hug all at once https://t.co/sedre1ivTK                          \n",
       "1351  Here is a whole flock of puppers.  60/50 I'll take the lot https://t.co/9dpcw6MdWa                                                                                          \n",
       "1433  Happy Wednesday here's a bucket of pups. 44/40 would pet all at once https://t.co/HppvrYuamZ                                                                                \n",
       "1635  Someone help the girl is being mugged. Several are distracting her while two steal her shoes. Clever puppers 121/110 https://t.co/1zfnTJLt55                                \n",
       "1662  This is Darrel. He just robbed a 7/11 and is in a high speed police chase. Was just spotted by the helicopter 10/10 https://t.co/7EsP8LmSp5                                 \n",
       "1779  IT'S PUPPERGEDDON. Total of 144/120 ...I think https://t.co/ZanVtAtvIq                                                                                                      \n",
       "1843  Here we have an entire platoon of puppers. Total score: 88/80 would pet all at once https://t.co/y93p6FLvVw                                                                 \n",
       "2335  This is an Albanian 3 1/2 legged  Episcopalian. Loves well-polished hardwood flooring. Penis on the collar. 9/10 https://t.co/d9NcXFKwLv                                    \n",
       "\n",
       "                tweet_id  rating_numerator  rating_denominator  \n",
       "433   820690176645140481  84                70                  \n",
       "516   810984652412424192  24                7                   \n",
       "902   758467244762497024  165               150                 \n",
       "1068  740373189193256964  9                 11                  \n",
       "1120  731156023742988288  204               170                 \n",
       "1165  722974582966214656  4                 20                  \n",
       "1202  716439118184652801  50                50                  \n",
       "1228  713900603437621249  99                90                  \n",
       "1254  710658690886586372  80                80                  \n",
       "1274  709198395643068416  45                50                  \n",
       "1351  704054845121142784  60                50                  \n",
       "1433  697463031882764288  44                40                  \n",
       "1635  684222868335505415  121               110                 \n",
       "1662  682962037429899265  7                 11                  \n",
       "1779  677716515794329600  144               120                 \n",
       "1843  675853064436391936  88                80                  \n",
       "2335  666287406224695296  1                 2                   "
      ]
     },
     "execution_count": 228,
     "metadata": {},
     "output_type": "execute_result"
    }
   ],
   "source": [
    "# displaying tweets that do NOT have denominator of 10,and are NOT replies and are NOT retweets\n",
    "mask_tweets = (archive.rating_denominator != 10) & \\\n",
    "            archive.in_reply_to_status_id.isna() & \\\n",
    "            archive.retweeted_status_id.isna()\n",
    "\n",
    "mask_columns = ['text', 'tweet_id', 'rating_numerator', 'rating_denominator']\n",
    "archive[mask_tweets][mask_columns]"
   ]
  },
  {
   "cell_type": "code",
   "execution_count": 229,
   "metadata": {},
   "outputs": [
    {
     "data": {
      "text/plain": [
       "17"
      ]
     },
     "execution_count": 229,
     "metadata": {},
     "output_type": "execute_result"
    }
   ],
   "source": [
    "\n",
    "sum(mask_tweets)"
   ]
  },
  {
   "cell_type": "markdown",
   "metadata": {},
   "source": [
    "> Observataion: Ignoring replies and retweets, there are 17 tweets with denominators that!=10."
   ]
  },
  {
   "cell_type": "code",
   "execution_count": null,
   "metadata": {},
   "outputs": [],
   "source": []
  },
  {
   "cell_type": "markdown",
   "metadata": {},
   "source": [
    "> My approach to finding these data issues was to first find basic information about the data set. Then using the info() function I did a quick analysis at specific columns of the data and found issues such as: missing values, bad data types, bad data within the entries and smaller issues such as dog stages in 4 different columns which can be fit into one.\n",
    "\n"
   ]
  },
  {
   "cell_type": "markdown",
   "metadata": {},
   "source": [
    "\n",
    "### 2) Image Prediction Data\n",
    "<a id=\"image_prediction_data\"></a>"
   ]
  },
  {
   "cell_type": "code",
   "execution_count": 264,
   "metadata": {},
   "outputs": [
    {
     "name": "stdout",
     "output_type": "stream",
     "text": [
      "<class 'pandas.core.frame.DataFrame'>\n",
      "RangeIndex: 2075 entries, 0 to 2074\n",
      "Data columns (total 12 columns):\n",
      "tweet_id    2075 non-null int64\n",
      "jpg_url     2075 non-null object\n",
      "img_num     2075 non-null int64\n",
      "p1          2075 non-null object\n",
      "p1_conf     2075 non-null float64\n",
      "p1_dog      2075 non-null bool\n",
      "p2          2075 non-null object\n",
      "p2_conf     2075 non-null float64\n",
      "p2_dog      2075 non-null bool\n",
      "p3          2075 non-null object\n",
      "p3_conf     2075 non-null float64\n",
      "p3_dog      2075 non-null bool\n",
      "dtypes: bool(3), float64(3), int64(2), object(4)\n",
      "memory usage: 152.1+ KB\n"
     ]
    }
   ],
   "source": [
    "predictions.info()"
   ]
  },
  {
   "cell_type": "markdown",
   "metadata": {},
   "source": [
    "> There are 2075 image predictions, 281 less than the number of tweets in the archive, which shows the number of \"missing data\"."
   ]
  },
  {
   "cell_type": "code",
   "execution_count": 234,
   "metadata": {},
   "outputs": [
    {
     "data": {
      "text/html": [
       "<div>\n",
       "<style scoped>\n",
       "    .dataframe tbody tr th:only-of-type {\n",
       "        vertical-align: middle;\n",
       "    }\n",
       "\n",
       "    .dataframe tbody tr th {\n",
       "        vertical-align: top;\n",
       "    }\n",
       "\n",
       "    .dataframe thead th {\n",
       "        text-align: right;\n",
       "    }\n",
       "</style>\n",
       "<table border=\"1\" class=\"dataframe\">\n",
       "  <thead>\n",
       "    <tr style=\"text-align: right;\">\n",
       "      <th></th>\n",
       "      <th>tweet_id</th>\n",
       "      <th>jpg_url</th>\n",
       "      <th>img_num</th>\n",
       "      <th>p1</th>\n",
       "      <th>p1_conf</th>\n",
       "      <th>p1_dog</th>\n",
       "      <th>p2</th>\n",
       "      <th>p2_conf</th>\n",
       "      <th>p2_dog</th>\n",
       "      <th>p3</th>\n",
       "      <th>p3_conf</th>\n",
       "      <th>p3_dog</th>\n",
       "    </tr>\n",
       "  </thead>\n",
       "  <tbody>\n",
       "    <tr>\n",
       "      <th>0</th>\n",
       "      <td>666020888022790149</td>\n",
       "      <td>https://pbs.twimg.com/media/CT4udn0WwAA0aMy.jpg</td>\n",
       "      <td>1</td>\n",
       "      <td>Welsh_springer_spaniel</td>\n",
       "      <td>0.465074</td>\n",
       "      <td>True</td>\n",
       "      <td>collie</td>\n",
       "      <td>0.156665</td>\n",
       "      <td>True</td>\n",
       "      <td>Shetland_sheepdog</td>\n",
       "      <td>0.061428</td>\n",
       "      <td>True</td>\n",
       "    </tr>\n",
       "    <tr>\n",
       "      <th>1</th>\n",
       "      <td>666029285002620928</td>\n",
       "      <td>https://pbs.twimg.com/media/CT42GRgUYAA5iDo.jpg</td>\n",
       "      <td>1</td>\n",
       "      <td>redbone</td>\n",
       "      <td>0.506826</td>\n",
       "      <td>True</td>\n",
       "      <td>miniature_pinscher</td>\n",
       "      <td>0.074192</td>\n",
       "      <td>True</td>\n",
       "      <td>Rhodesian_ridgeback</td>\n",
       "      <td>0.072010</td>\n",
       "      <td>True</td>\n",
       "    </tr>\n",
       "    <tr>\n",
       "      <th>2</th>\n",
       "      <td>666033412701032449</td>\n",
       "      <td>https://pbs.twimg.com/media/CT4521TWwAEvMyu.jpg</td>\n",
       "      <td>1</td>\n",
       "      <td>German_shepherd</td>\n",
       "      <td>0.596461</td>\n",
       "      <td>True</td>\n",
       "      <td>malinois</td>\n",
       "      <td>0.138584</td>\n",
       "      <td>True</td>\n",
       "      <td>bloodhound</td>\n",
       "      <td>0.116197</td>\n",
       "      <td>True</td>\n",
       "    </tr>\n",
       "    <tr>\n",
       "      <th>3</th>\n",
       "      <td>666044226329800704</td>\n",
       "      <td>https://pbs.twimg.com/media/CT5Dr8HUEAA-lEu.jpg</td>\n",
       "      <td>1</td>\n",
       "      <td>Rhodesian_ridgeback</td>\n",
       "      <td>0.408143</td>\n",
       "      <td>True</td>\n",
       "      <td>redbone</td>\n",
       "      <td>0.360687</td>\n",
       "      <td>True</td>\n",
       "      <td>miniature_pinscher</td>\n",
       "      <td>0.222752</td>\n",
       "      <td>True</td>\n",
       "    </tr>\n",
       "    <tr>\n",
       "      <th>4</th>\n",
       "      <td>666049248165822465</td>\n",
       "      <td>https://pbs.twimg.com/media/CT5IQmsXIAAKY4A.jpg</td>\n",
       "      <td>1</td>\n",
       "      <td>miniature_pinscher</td>\n",
       "      <td>0.560311</td>\n",
       "      <td>True</td>\n",
       "      <td>Rottweiler</td>\n",
       "      <td>0.243682</td>\n",
       "      <td>True</td>\n",
       "      <td>Doberman</td>\n",
       "      <td>0.154629</td>\n",
       "      <td>True</td>\n",
       "    </tr>\n",
       "  </tbody>\n",
       "</table>\n",
       "</div>"
      ],
      "text/plain": [
       "             tweet_id                                          jpg_url  \\\n",
       "0  666020888022790149  https://pbs.twimg.com/media/CT4udn0WwAA0aMy.jpg   \n",
       "1  666029285002620928  https://pbs.twimg.com/media/CT42GRgUYAA5iDo.jpg   \n",
       "2  666033412701032449  https://pbs.twimg.com/media/CT4521TWwAEvMyu.jpg   \n",
       "3  666044226329800704  https://pbs.twimg.com/media/CT5Dr8HUEAA-lEu.jpg   \n",
       "4  666049248165822465  https://pbs.twimg.com/media/CT5IQmsXIAAKY4A.jpg   \n",
       "\n",
       "   img_num                      p1   p1_conf  p1_dog                  p2  \\\n",
       "0  1        Welsh_springer_spaniel  0.465074  True    collie               \n",
       "1  1        redbone                 0.506826  True    miniature_pinscher   \n",
       "2  1        German_shepherd         0.596461  True    malinois             \n",
       "3  1        Rhodesian_ridgeback     0.408143  True    redbone              \n",
       "4  1        miniature_pinscher      0.560311  True    Rottweiler           \n",
       "\n",
       "    p2_conf  p2_dog                   p3   p3_conf  p3_dog  \n",
       "0  0.156665  True    Shetland_sheepdog    0.061428  True    \n",
       "1  0.074192  True    Rhodesian_ridgeback  0.072010  True    \n",
       "2  0.138584  True    bloodhound           0.116197  True    \n",
       "3  0.360687  True    miniature_pinscher   0.222752  True    \n",
       "4  0.243682  True    Doberman             0.154629  True    "
      ]
     },
     "execution_count": 234,
     "metadata": {},
     "output_type": "execute_result"
    }
   ],
   "source": [
    "predictions.head()"
   ]
  },
  {
   "cell_type": "code",
   "execution_count": 240,
   "metadata": {},
   "outputs": [
    {
     "data": {
      "text/html": [
       "<div>\n",
       "<style scoped>\n",
       "    .dataframe tbody tr th:only-of-type {\n",
       "        vertical-align: middle;\n",
       "    }\n",
       "\n",
       "    .dataframe tbody tr th {\n",
       "        vertical-align: top;\n",
       "    }\n",
       "\n",
       "    .dataframe thead th {\n",
       "        text-align: right;\n",
       "    }\n",
       "</style>\n",
       "<table border=\"1\" class=\"dataframe\">\n",
       "  <thead>\n",
       "    <tr style=\"text-align: right;\">\n",
       "      <th></th>\n",
       "      <th>tweet_id</th>\n",
       "      <th>jpg_url</th>\n",
       "      <th>img_num</th>\n",
       "      <th>p1</th>\n",
       "      <th>p1_conf</th>\n",
       "      <th>p1_dog</th>\n",
       "      <th>p2</th>\n",
       "      <th>p2_conf</th>\n",
       "      <th>p2_dog</th>\n",
       "      <th>p3</th>\n",
       "      <th>p3_conf</th>\n",
       "      <th>p3_dog</th>\n",
       "    </tr>\n",
       "  </thead>\n",
       "  <tbody>\n",
       "    <tr>\n",
       "      <th>2070</th>\n",
       "      <td>891327558926688256</td>\n",
       "      <td>https://pbs.twimg.com/media/DF6hr6BUMAAzZgT.jpg</td>\n",
       "      <td>2</td>\n",
       "      <td>basset</td>\n",
       "      <td>0.555712</td>\n",
       "      <td>True</td>\n",
       "      <td>English_springer</td>\n",
       "      <td>0.225770</td>\n",
       "      <td>True</td>\n",
       "      <td>German_short-haired_pointer</td>\n",
       "      <td>0.175219</td>\n",
       "      <td>True</td>\n",
       "    </tr>\n",
       "    <tr>\n",
       "      <th>2071</th>\n",
       "      <td>891689557279858688</td>\n",
       "      <td>https://pbs.twimg.com/media/DF_q7IAWsAEuuN8.jpg</td>\n",
       "      <td>1</td>\n",
       "      <td>paper_towel</td>\n",
       "      <td>0.170278</td>\n",
       "      <td>False</td>\n",
       "      <td>Labrador_retriever</td>\n",
       "      <td>0.168086</td>\n",
       "      <td>True</td>\n",
       "      <td>spatula</td>\n",
       "      <td>0.040836</td>\n",
       "      <td>False</td>\n",
       "    </tr>\n",
       "    <tr>\n",
       "      <th>2072</th>\n",
       "      <td>891815181378084864</td>\n",
       "      <td>https://pbs.twimg.com/media/DGBdLU1WsAANxJ9.jpg</td>\n",
       "      <td>1</td>\n",
       "      <td>Chihuahua</td>\n",
       "      <td>0.716012</td>\n",
       "      <td>True</td>\n",
       "      <td>malamute</td>\n",
       "      <td>0.078253</td>\n",
       "      <td>True</td>\n",
       "      <td>kelpie</td>\n",
       "      <td>0.031379</td>\n",
       "      <td>True</td>\n",
       "    </tr>\n",
       "    <tr>\n",
       "      <th>2073</th>\n",
       "      <td>892177421306343426</td>\n",
       "      <td>https://pbs.twimg.com/media/DGGmoV4XsAAUL6n.jpg</td>\n",
       "      <td>1</td>\n",
       "      <td>Chihuahua</td>\n",
       "      <td>0.323581</td>\n",
       "      <td>True</td>\n",
       "      <td>Pekinese</td>\n",
       "      <td>0.090647</td>\n",
       "      <td>True</td>\n",
       "      <td>papillon</td>\n",
       "      <td>0.068957</td>\n",
       "      <td>True</td>\n",
       "    </tr>\n",
       "    <tr>\n",
       "      <th>2074</th>\n",
       "      <td>892420643555336193</td>\n",
       "      <td>https://pbs.twimg.com/media/DGKD1-bXoAAIAUK.jpg</td>\n",
       "      <td>1</td>\n",
       "      <td>orange</td>\n",
       "      <td>0.097049</td>\n",
       "      <td>False</td>\n",
       "      <td>bagel</td>\n",
       "      <td>0.085851</td>\n",
       "      <td>False</td>\n",
       "      <td>banana</td>\n",
       "      <td>0.076110</td>\n",
       "      <td>False</td>\n",
       "    </tr>\n",
       "  </tbody>\n",
       "</table>\n",
       "</div>"
      ],
      "text/plain": [
       "                tweet_id                                          jpg_url  \\\n",
       "2070  891327558926688256  https://pbs.twimg.com/media/DF6hr6BUMAAzZgT.jpg   \n",
       "2071  891689557279858688  https://pbs.twimg.com/media/DF_q7IAWsAEuuN8.jpg   \n",
       "2072  891815181378084864  https://pbs.twimg.com/media/DGBdLU1WsAANxJ9.jpg   \n",
       "2073  892177421306343426  https://pbs.twimg.com/media/DGGmoV4XsAAUL6n.jpg   \n",
       "2074  892420643555336193  https://pbs.twimg.com/media/DGKD1-bXoAAIAUK.jpg   \n",
       "\n",
       "      img_num           p1   p1_conf  p1_dog                  p2   p2_conf  \\\n",
       "2070  2        basset       0.555712  True    English_springer    0.225770   \n",
       "2071  1        paper_towel  0.170278  False   Labrador_retriever  0.168086   \n",
       "2072  1        Chihuahua    0.716012  True    malamute            0.078253   \n",
       "2073  1        Chihuahua    0.323581  True    Pekinese            0.090647   \n",
       "2074  1        orange       0.097049  False   bagel               0.085851   \n",
       "\n",
       "      p2_dog                           p3   p3_conf  p3_dog  \n",
       "2070  True    German_short-haired_pointer  0.175219  True    \n",
       "2071  True    spatula                      0.040836  False   \n",
       "2072  True    kelpie                       0.031379  True    \n",
       "2073  True    papillon                     0.068957  True    \n",
       "2074  False   banana                       0.076110  False   "
      ]
     },
     "execution_count": 240,
     "metadata": {},
     "output_type": "execute_result"
    }
   ],
   "source": [
    "predictions.tail()"
   ]
  },
  {
   "cell_type": "code",
   "execution_count": 246,
   "metadata": {},
   "outputs": [
    {
     "data": {
      "text/plain": [
       "True     1532\n",
       "False    543 \n",
       "Name: p1_dog, dtype: int64"
      ]
     },
     "execution_count": 246,
     "metadata": {},
     "output_type": "execute_result"
    }
   ],
   "source": [
    "\n",
    "predictions.p1_dog.value_counts()"
   ]
  },
  {
   "cell_type": "code",
   "execution_count": 247,
   "metadata": {},
   "outputs": [
    {
     "data": {
      "text/plain": [
       "True     1553\n",
       "False    522 \n",
       "Name: p2_dog, dtype: int64"
      ]
     },
     "execution_count": 247,
     "metadata": {},
     "output_type": "execute_result"
    }
   ],
   "source": [
    "\n",
    "predictions.p2_dog.value_counts()"
   ]
  },
  {
   "cell_type": "code",
   "execution_count": 249,
   "metadata": {},
   "outputs": [
    {
     "data": {
      "text/plain": [
       "True     1553\n",
       "False    522 \n",
       "Name: p2_dog, dtype: int64"
      ]
     },
     "execution_count": 249,
     "metadata": {},
     "output_type": "execute_result"
    }
   ],
   "source": [
    "predictions.p2_dog.value_counts()"
   ]
  },
  {
   "cell_type": "code",
   "execution_count": 250,
   "metadata": {},
   "outputs": [
    {
     "data": {
      "text/plain": [
       "True     1499\n",
       "False    576 \n",
       "Name: p3_dog, dtype: int64"
      ]
     },
     "execution_count": 250,
     "metadata": {},
     "output_type": "execute_result"
    }
   ],
   "source": [
    "\n",
    "predictions.p3_dog.value_counts()"
   ]
  },
  {
   "cell_type": "code",
   "execution_count": 252,
   "metadata": {},
   "outputs": [
    {
     "data": {
      "text/html": [
       "<div>\n",
       "<style scoped>\n",
       "    .dataframe tbody tr th:only-of-type {\n",
       "        vertical-align: middle;\n",
       "    }\n",
       "\n",
       "    .dataframe tbody tr th {\n",
       "        vertical-align: top;\n",
       "    }\n",
       "\n",
       "    .dataframe thead th {\n",
       "        text-align: right;\n",
       "    }\n",
       "</style>\n",
       "<table border=\"1\" class=\"dataframe\">\n",
       "  <thead>\n",
       "    <tr style=\"text-align: right;\">\n",
       "      <th></th>\n",
       "      <th>tweet_id</th>\n",
       "      <th>p1</th>\n",
       "      <th>p1_dog</th>\n",
       "      <th>p2</th>\n",
       "      <th>p2_dog</th>\n",
       "      <th>p3</th>\n",
       "      <th>p3_dog</th>\n",
       "    </tr>\n",
       "  </thead>\n",
       "  <tbody>\n",
       "    <tr>\n",
       "      <th>6</th>\n",
       "      <td>666051853826850816</td>\n",
       "      <td>box_turtle</td>\n",
       "      <td>False</td>\n",
       "      <td>mud_turtle</td>\n",
       "      <td>False</td>\n",
       "      <td>terrapin</td>\n",
       "      <td>False</td>\n",
       "    </tr>\n",
       "    <tr>\n",
       "      <th>17</th>\n",
       "      <td>666104133288665088</td>\n",
       "      <td>hen</td>\n",
       "      <td>False</td>\n",
       "      <td>cock</td>\n",
       "      <td>False</td>\n",
       "      <td>partridge</td>\n",
       "      <td>False</td>\n",
       "    </tr>\n",
       "    <tr>\n",
       "      <th>18</th>\n",
       "      <td>666268910803644416</td>\n",
       "      <td>desktop_computer</td>\n",
       "      <td>False</td>\n",
       "      <td>desk</td>\n",
       "      <td>False</td>\n",
       "      <td>bookcase</td>\n",
       "      <td>False</td>\n",
       "    </tr>\n",
       "    <tr>\n",
       "      <th>21</th>\n",
       "      <td>666293911632134144</td>\n",
       "      <td>three-toed_sloth</td>\n",
       "      <td>False</td>\n",
       "      <td>otter</td>\n",
       "      <td>False</td>\n",
       "      <td>great_grey_owl</td>\n",
       "      <td>False</td>\n",
       "    </tr>\n",
       "    <tr>\n",
       "      <th>25</th>\n",
       "      <td>666362758909284353</td>\n",
       "      <td>guinea_pig</td>\n",
       "      <td>False</td>\n",
       "      <td>skunk</td>\n",
       "      <td>False</td>\n",
       "      <td>hamster</td>\n",
       "      <td>False</td>\n",
       "    </tr>\n",
       "  </tbody>\n",
       "</table>\n",
       "</div>"
      ],
      "text/plain": [
       "              tweet_id                p1  p1_dog          p2  p2_dog  \\\n",
       "6   666051853826850816  box_turtle        False   mud_turtle  False    \n",
       "17  666104133288665088  hen               False   cock        False    \n",
       "18  666268910803644416  desktop_computer  False   desk        False    \n",
       "21  666293911632134144  three-toed_sloth  False   otter       False    \n",
       "25  666362758909284353  guinea_pig        False   skunk       False    \n",
       "\n",
       "                p3  p3_dog  \n",
       "6   terrapin        False   \n",
       "17  partridge       False   \n",
       "18  bookcase        False   \n",
       "21  great_grey_owl  False   \n",
       "25  hamster         False   "
      ]
     },
     "execution_count": 252,
     "metadata": {},
     "output_type": "execute_result"
    }
   ],
   "source": [
    "\n",
    "# check out 20 of the entries that don't predict dogs\n",
    "predictions[~predictions.p1_dog & \\\n",
    "               ~predictions.p2_dog & \\\n",
    "               ~predictions.p3_dog][['tweet_id', 'p1', 'p1_dog',\n",
    "                                        'p2', 'p2_dog', 'p3', 'p3_dog']].head(5)"
   ]
  },
  {
   "cell_type": "code",
   "execution_count": 239,
   "metadata": {},
   "outputs": [
    {
     "data": {
      "text/plain": [
       "324"
      ]
     },
     "execution_count": 239,
     "metadata": {},
     "output_type": "execute_result"
    }
   ],
   "source": [
    "sum(~predictions.p1_dog & \\\n",
    "    ~predictions.p2_dog & \\\n",
    "    ~predictions.p3_dog)"
   ]
  },
  {
   "cell_type": "markdown",
   "metadata": {},
   "source": [
    "There are 324 cases where there is no valid dog breed from any of the three predictions. Perhaps a good prediction for dog breeds could be combined with the tweet_archive table."
   ]
  },
  {
   "cell_type": "markdown",
   "metadata": {},
   "source": [
    "### JSON_Data\n",
    "<a id=\"json_data_assessment\"></a> "
   ]
  },
  {
   "cell_type": "code",
   "execution_count": 265,
   "metadata": {},
   "outputs": [
    {
     "name": "stdout",
     "output_type": "stream",
     "text": [
      "<class 'pandas.core.frame.DataFrame'>\n",
      "RangeIndex: 2333 entries, 0 to 2332\n",
      "Data columns (total 3 columns):\n",
      "tweet_id          2333 non-null int64\n",
      "retweet_count     2333 non-null int64\n",
      "favorite_count    2333 non-null int64\n",
      "dtypes: int64(3)\n",
      "memory usage: 54.8 KB\n"
     ]
    }
   ],
   "source": [
    "json_data.info()"
   ]
  },
  {
   "cell_type": "markdown",
   "metadata": {},
   "source": [
    "Some tweets from the original archive table is deleted since the archive was created and errors were reported."
   ]
  },
  {
   "cell_type": "code",
   "execution_count": 255,
   "metadata": {},
   "outputs": [
    {
     "data": {
      "text/html": [
       "<div>\n",
       "<style scoped>\n",
       "    .dataframe tbody tr th:only-of-type {\n",
       "        vertical-align: middle;\n",
       "    }\n",
       "\n",
       "    .dataframe tbody tr th {\n",
       "        vertical-align: top;\n",
       "    }\n",
       "\n",
       "    .dataframe thead th {\n",
       "        text-align: right;\n",
       "    }\n",
       "</style>\n",
       "<table border=\"1\" class=\"dataframe\">\n",
       "  <thead>\n",
       "    <tr style=\"text-align: right;\">\n",
       "      <th></th>\n",
       "      <th>tweet_id</th>\n",
       "      <th>retweet_count</th>\n",
       "      <th>favorite_count</th>\n",
       "    </tr>\n",
       "  </thead>\n",
       "  <tbody>\n",
       "    <tr>\n",
       "      <th>0</th>\n",
       "      <td>892420643555336193</td>\n",
       "      <td>7861</td>\n",
       "      <td>36908</td>\n",
       "    </tr>\n",
       "    <tr>\n",
       "      <th>1</th>\n",
       "      <td>892177421306343426</td>\n",
       "      <td>5834</td>\n",
       "      <td>31762</td>\n",
       "    </tr>\n",
       "    <tr>\n",
       "      <th>2</th>\n",
       "      <td>891815181378084864</td>\n",
       "      <td>3853</td>\n",
       "      <td>23932</td>\n",
       "    </tr>\n",
       "    <tr>\n",
       "      <th>3</th>\n",
       "      <td>891689557279858688</td>\n",
       "      <td>8026</td>\n",
       "      <td>40224</td>\n",
       "    </tr>\n",
       "    <tr>\n",
       "      <th>4</th>\n",
       "      <td>891327558926688256</td>\n",
       "      <td>8685</td>\n",
       "      <td>38421</td>\n",
       "    </tr>\n",
       "  </tbody>\n",
       "</table>\n",
       "</div>"
      ],
      "text/plain": [
       "             tweet_id  retweet_count  favorite_count\n",
       "0  892420643555336193  7861           36908         \n",
       "1  892177421306343426  5834           31762         \n",
       "2  891815181378084864  3853           23932         \n",
       "3  891689557279858688  8026           40224         \n",
       "4  891327558926688256  8685           38421         "
      ]
     },
     "execution_count": 255,
     "metadata": {},
     "output_type": "execute_result"
    }
   ],
   "source": [
    "json_data.head()"
   ]
  },
  {
   "cell_type": "code",
   "execution_count": 256,
   "metadata": {},
   "outputs": [
    {
     "data": {
      "text/html": [
       "<div>\n",
       "<style scoped>\n",
       "    .dataframe tbody tr th:only-of-type {\n",
       "        vertical-align: middle;\n",
       "    }\n",
       "\n",
       "    .dataframe tbody tr th {\n",
       "        vertical-align: top;\n",
       "    }\n",
       "\n",
       "    .dataframe thead th {\n",
       "        text-align: right;\n",
       "    }\n",
       "</style>\n",
       "<table border=\"1\" class=\"dataframe\">\n",
       "  <thead>\n",
       "    <tr style=\"text-align: right;\">\n",
       "      <th></th>\n",
       "      <th>tweet_id</th>\n",
       "      <th>retweet_count</th>\n",
       "      <th>favorite_count</th>\n",
       "    </tr>\n",
       "  </thead>\n",
       "  <tbody>\n",
       "    <tr>\n",
       "      <th>2328</th>\n",
       "      <td>666049248165822465</td>\n",
       "      <td>41</td>\n",
       "      <td>99</td>\n",
       "    </tr>\n",
       "    <tr>\n",
       "      <th>2329</th>\n",
       "      <td>666044226329800704</td>\n",
       "      <td>134</td>\n",
       "      <td>279</td>\n",
       "    </tr>\n",
       "    <tr>\n",
       "      <th>2330</th>\n",
       "      <td>666033412701032449</td>\n",
       "      <td>43</td>\n",
       "      <td>118</td>\n",
       "    </tr>\n",
       "    <tr>\n",
       "      <th>2331</th>\n",
       "      <td>666029285002620928</td>\n",
       "      <td>44</td>\n",
       "      <td>121</td>\n",
       "    </tr>\n",
       "    <tr>\n",
       "      <th>2332</th>\n",
       "      <td>666020888022790149</td>\n",
       "      <td>474</td>\n",
       "      <td>2467</td>\n",
       "    </tr>\n",
       "  </tbody>\n",
       "</table>\n",
       "</div>"
      ],
      "text/plain": [
       "                tweet_id  retweet_count  favorite_count\n",
       "2328  666049248165822465  41             99            \n",
       "2329  666044226329800704  134            279           \n",
       "2330  666033412701032449  43             118           \n",
       "2331  666029285002620928  44             121           \n",
       "2332  666020888022790149  474            2467          "
      ]
     },
     "execution_count": 256,
     "metadata": {},
     "output_type": "execute_result"
    }
   ],
   "source": [
    "json_data.tail()"
   ]
  },
  {
   "cell_type": "code",
   "execution_count": 257,
   "metadata": {},
   "outputs": [
    {
     "data": {
      "text/html": [
       "<div>\n",
       "<style scoped>\n",
       "    .dataframe tbody tr th:only-of-type {\n",
       "        vertical-align: middle;\n",
       "    }\n",
       "\n",
       "    .dataframe tbody tr th {\n",
       "        vertical-align: top;\n",
       "    }\n",
       "\n",
       "    .dataframe thead th {\n",
       "        text-align: right;\n",
       "    }\n",
       "</style>\n",
       "<table border=\"1\" class=\"dataframe\">\n",
       "  <thead>\n",
       "    <tr style=\"text-align: right;\">\n",
       "      <th></th>\n",
       "      <th>tweet_id</th>\n",
       "      <th>retweet_count</th>\n",
       "      <th>favorite_count</th>\n",
       "    </tr>\n",
       "  </thead>\n",
       "  <tbody>\n",
       "    <tr>\n",
       "      <th>count</th>\n",
       "      <td>2.333000e+03</td>\n",
       "      <td>2333.000000</td>\n",
       "      <td>2333.000000</td>\n",
       "    </tr>\n",
       "    <tr>\n",
       "      <th>mean</th>\n",
       "      <td>7.419279e+17</td>\n",
       "      <td>2770.192885</td>\n",
       "      <td>7698.506644</td>\n",
       "    </tr>\n",
       "    <tr>\n",
       "      <th>std</th>\n",
       "      <td>6.820607e+16</td>\n",
       "      <td>4688.842621</td>\n",
       "      <td>11949.056897</td>\n",
       "    </tr>\n",
       "    <tr>\n",
       "      <th>min</th>\n",
       "      <td>6.660209e+17</td>\n",
       "      <td>1.000000</td>\n",
       "      <td>0.000000</td>\n",
       "    </tr>\n",
       "    <tr>\n",
       "      <th>25%</th>\n",
       "      <td>6.782786e+17</td>\n",
       "      <td>557.000000</td>\n",
       "      <td>1336.000000</td>\n",
       "    </tr>\n",
       "    <tr>\n",
       "      <th>50%</th>\n",
       "      <td>7.184547e+17</td>\n",
       "      <td>1299.000000</td>\n",
       "      <td>3351.000000</td>\n",
       "    </tr>\n",
       "    <tr>\n",
       "      <th>75%</th>\n",
       "      <td>7.986654e+17</td>\n",
       "      <td>3221.000000</td>\n",
       "      <td>9456.000000</td>\n",
       "    </tr>\n",
       "    <tr>\n",
       "      <th>max</th>\n",
       "      <td>8.924206e+17</td>\n",
       "      <td>79577.000000</td>\n",
       "      <td>159486.000000</td>\n",
       "    </tr>\n",
       "  </tbody>\n",
       "</table>\n",
       "</div>"
      ],
      "text/plain": [
       "           tweet_id  retweet_count  favorite_count\n",
       "count  2.333000e+03  2333.000000    2333.000000   \n",
       "mean   7.419279e+17  2770.192885    7698.506644   \n",
       "std    6.820607e+16  4688.842621    11949.056897  \n",
       "min    6.660209e+17  1.000000       0.000000      \n",
       "25%    6.782786e+17  557.000000     1336.000000   \n",
       "50%    7.184547e+17  1299.000000    3351.000000   \n",
       "75%    7.986654e+17  3221.000000    9456.000000   \n",
       "max    8.924206e+17  79577.000000   159486.000000 "
      ]
     },
     "execution_count": 257,
     "metadata": {},
     "output_type": "execute_result"
    }
   ],
   "source": [
    "json_data.describe()"
   ]
  },
  {
   "cell_type": "markdown",
   "metadata": {},
   "source": [
    "# Assessment Summary \n",
    "<a id=\"assessment_summary\"></a>"
   ]
  },
  {
   "cell_type": "markdown",
   "metadata": {},
   "source": [
    "Quality Issues Identified: \n",
    "\n",
    "*Archive data*\n",
    "- There are 181 retweets (retweeted_status_id, retweeted_status_user_id, retweeted_status_timestamp).\n",
    "\n",
    "- There are 78 reply tweets (in_reply_to_status_id, in_reply_to_user_id).\n",
    "\n",
    "- There are 2297 tweets with expanded_urls (links to the tweet), indicating 59 tweets with missing data.56 of these tweets are replies or retweets.The remaining 3 tweets have not got the url within the text column. They are NOT in the predictions table, but even though they ARE in the json_data, there was NO image url in the JSON data.\n",
    "\n",
    "- Timestamp column is in `string` format.\n",
    "\n",
    "- All valid `names` start with an uppercase letter. There are 109 tweets with regular words that are in lowercase in and are not a valid name.\n",
    "\n",
    "- There are some tweets with rating_denominator !=10 which rated multiple dogs or not a valid rating.\n",
    "\n",
    "- 13 tweets are about multiple dogs/pups, and can be dropped.\n",
    "- 28 tweets have rating_numerator >= 15. The max value is very high, which does not make sense. Then when we only look at tweets with rating_denominator of 10, there are 12 tweets with rating_numerator >= 15. Ignoring the 7 retweets and replies (as specified in the Key Points) we will end up with 5 tweets with a rating_numerator >= 15.\n",
    "\n",
    "- There are 4 types of values in the source column, but they are demonstrated in the full format. will replace it to show only this part:\n",
    "\n",
    "*Twitter for iPhone\n",
    "*Vine - Make a Scene\n",
    "*Twitter Web Client\n",
    "*TweetDeck\n",
    "- Dog names are frequently wrong with \"a\" \"the\"\n",
    "\n",
    "- Some dog names are not capitalized\n",
    "\n",
    "*predictions data*\n",
    "- There are 2075 image predictions, 281 less than the number of tweets in the archive, which shows the number of \"missing data\".\n",
    "\n",
    "*json_data*\n",
    "- Several tweets (16 during this run) from the original archive table have been deleted since the archive was created (TweepErrors were reported).\n",
    "\n",
    "*Identified Tidiness Issues*\n",
    "*archive_data*\n",
    "- Columns with numerical data are located to the far right of the table, which makes it difficult to readily see the data that will be used for analyses and the longer data is stored on the far left of the table which requires scrolling to get to the numerical data at the far right.\n",
    "\n",
    "- 4 columns(doggo, floofer, pupper, puppo)for dog stages are used. The 4 columns for one variable doesn't conform to rules of `tidy data`.\n",
    "\n",
    "- The Key Points indicates that we’re only interested in “original tweets”, no “retweets”; this data is stored in the columns retweeted_status_id, retweeted_status_user_id, retweeted_status_timestamp.\n",
    "\n",
    "- Reply tweets are also not “original tweets” either; this data is stored in the columns in_reply_to_status_id, in_reply_to_user_id.\n",
    "\n",
    "- Rating_denominators can be excluded when all the rating_denominators are the same (10).\n",
    "\n",
    "\n",
    "\n",
    "*predictions data*\n",
    "- The table does not follow the rules of `Tidy Data` because the columns p1, p2 and p3 all contain the same type of data; predictions. The columns p1_conf, p2_conf and p3_conf all contain values for confidence level, and columns p1_dog, p2_dog and p3_dog all contain Boolean values indicating whether the prediction is in fact a type of dog. Not sure if I will clean all these data or merge them, or decide based on the confidence level which to keep.\n",
    "\n",
    "- The dog breed prediction with the highest confidence level can be combined with the archive table as the twitter table contains information that is all about the dog in the tweet.\n",
    "\n",
    "*json data*\n",
    "- The json_data table should be combined with the archive table to have a better usage as it stands separately. "
   ]
  },
  {
   "cell_type": "markdown",
   "metadata": {},
   "source": [
    "# Data Cleaning\n",
    "<a id=\"data_cleaning\"></a>"
   ]
  },
  {
   "cell_type": "markdown",
   "metadata": {},
   "source": [
    "In this step of data wrangling, using the selected identified points above, quality and tidiness issues will be fixed. According to the requirements we should only detect and document eight (8) quality issues and two (2) tidiness issues in your wrangle_act.ipynb Jupyter Notebook. "
   ]
  },
  {
   "cell_type": "code",
   "execution_count": 303,
   "metadata": {},
   "outputs": [],
   "source": [
    "# create copies and backing up the original files for cleaning the data:\n",
    "archive_clean = archive.copy()\n",
    "predictions_clean = predictions.copy()\n",
    "json_data_clean = json_data.copy()"
   ]
  },
  {
   "cell_type": "code",
   "execution_count": 304,
   "metadata": {},
   "outputs": [
    {
     "data": {
      "text/plain": [
       "2356"
      ]
     },
     "execution_count": 304,
     "metadata": {},
     "output_type": "execute_result"
    }
   ],
   "source": [
    "# keeping in mind the number of rows in the archive data:\n",
    "len_archive = archive_clean.shape[0] \n",
    "len_archive"
   ]
  },
  {
   "cell_type": "markdown",
   "metadata": {},
   "source": [
    "#### Quality archive:"
   ]
  },
  {
   "cell_type": "markdown",
   "metadata": {},
   "source": [
    "\n",
    "> Issue 1: There are 181 retweets, and we’re only interested in “original tweets”.\n",
    "\n",
    "> Cleaning plan:\n",
    "Dropping all non_null rows containing retweets: retweeted_status_id, retweeted_status_user_id and retweeted_status_timestamp"
   ]
  },
  {
   "cell_type": "code",
   "execution_count": 305,
   "metadata": {},
   "outputs": [],
   "source": [
    "archive_clean = archive_clean[archive_clean.retweeted_status_id.isna()]\n"
   ]
  },
  {
   "cell_type": "code",
   "execution_count": 306,
   "metadata": {},
   "outputs": [
    {
     "name": "stdout",
     "output_type": "stream",
     "text": [
      "# of rows dropped:  181\n"
     ]
    }
   ],
   "source": [
    "# test the 181 rows are dropped:\n",
    "\n",
    "print(\"# of rows dropped:  {}\".format(len_archive - archive_clean.shape[0]))\n",
    "# reset the variable for length of the archive\n",
    "len_archive = archive_clean.shape[0]"
   ]
  },
  {
   "cell_type": "markdown",
   "metadata": {},
   "source": [
    ">Issue 2: There are 78 reply tweets; we only want the “original tweets”.\n",
    "\n",
    ">Cleaning Plan: Dropping all non-null values in rows that are replies in columns: in_reply_to_status_id and in_reply_to_user_id.\n",
    "\n"
   ]
  },
  {
   "cell_type": "code",
   "execution_count": 307,
   "metadata": {},
   "outputs": [
    {
     "name": "stdout",
     "output_type": "stream",
     "text": [
      "# of replies:  78\n"
     ]
    }
   ],
   "source": [
    "print(\"# of replies:  {}\".format(sum(archive_clean.in_reply_to_status_id.notnull())))"
   ]
  },
  {
   "cell_type": "code",
   "execution_count": 308,
   "metadata": {},
   "outputs": [],
   "source": [
    "archive_clean = archive_clean[archive_clean.in_reply_to_status_id.isna()]"
   ]
  },
  {
   "cell_type": "code",
   "execution_count": 309,
   "metadata": {},
   "outputs": [
    {
     "name": "stdout",
     "output_type": "stream",
     "text": [
      "# of rows dropped:  78\n"
     ]
    }
   ],
   "source": [
    "# testing the rows are dropped; compare with previous table length\n",
    "print(\"# of rows dropped:  {}\".format(len_archive - archive_clean.shape[0]))\n",
    "# reset the variable for length of the archive\n",
    "len_archive = archive_clean.shape[0]"
   ]
  },
  {
   "cell_type": "markdown",
   "metadata": {},
   "source": [
    ">Issue 3: timestamp in archive data is in a string format.\n",
    "\n",
    ">Cleaning Plan: converting timestamp from string to datetime"
   ]
  },
  {
   "cell_type": "code",
   "execution_count": 310,
   "metadata": {},
   "outputs": [],
   "source": [
    "archive_clean['timestamp'] = pd.to_datetime(archive_clean.timestamp)\n",
    "archive_clean['timestamp'] = archive_clean.timestamp.dt.floor('s')"
   ]
  },
  {
   "cell_type": "code",
   "execution_count": 330,
   "metadata": {},
   "outputs": [
    {
     "name": "stdout",
     "output_type": "stream",
     "text": [
      "<class 'pandas.core.frame.DataFrame'>\n",
      "Int64Index: 2072 entries, 0 to 2355\n",
      "Data columns (total 17 columns):\n",
      "tweet_id                      2072 non-null int64\n",
      "in_reply_to_status_id         0 non-null float64\n",
      "in_reply_to_user_id           0 non-null float64\n",
      "timestamp                     2072 non-null datetime64[ns]\n",
      "source                        2072 non-null object\n",
      "text                          2072 non-null object\n",
      "retweeted_status_id           0 non-null float64\n",
      "retweeted_status_user_id      0 non-null float64\n",
      "retweeted_status_timestamp    0 non-null object\n",
      "expanded_urls                 2072 non-null object\n",
      "rating_numerator              2072 non-null int64\n",
      "rating_denominator            2072 non-null int64\n",
      "name                          2072 non-null object\n",
      "doggo                         2072 non-null object\n",
      "floofer                       2072 non-null object\n",
      "pupper                        2072 non-null object\n",
      "puppo                         2072 non-null object\n",
      "dtypes: datetime64[ns](1), float64(4), int64(3), object(9)\n",
      "memory usage: 291.4+ KB\n"
     ]
    }
   ],
   "source": [
    "#test to see if the conversion is reflected:\n",
    "archive_clean.info()"
   ]
  },
  {
   "cell_type": "markdown",
   "metadata": {},
   "source": [
    ">Issue 4: The source column can be simplified by extracting and replacing with it's display string.\n",
    "\n",
    ">Cleaning plan: Replacing the source string with only the display portion by extracting the string between \n",
    "< info=\"\"> and </a>.\n",
    "\n"
   ]
  },
  {
   "cell_type": "code",
   "execution_count": 331,
   "metadata": {},
   "outputs": [
    {
     "data": {
      "text/plain": [
       "Twitter for iPhone     1941\n",
       "Vine - Make a Scene    91  \n",
       "Twitter Web Client     30  \n",
       "TweetDeck              10  \n",
       "Name: source, dtype: int64"
      ]
     },
     "execution_count": 331,
     "metadata": {},
     "output_type": "execute_result"
    }
   ],
   "source": [
    "archive_clean.source.value_counts()\n"
   ]
  },
  {
   "cell_type": "code",
   "execution_count": 332,
   "metadata": {},
   "outputs": [],
   "source": [
    "# source:https://pandas.pydata.org/pandas-docs/stable/reference/api/pandas.Series.str.extract.html\n",
    "archive_clean['source'] = archive_clean['source'].str.extract('^<a.+>(.+)</a>$')"
   ]
  },
  {
   "cell_type": "code",
   "execution_count": 333,
   "metadata": {},
   "outputs": [
    {
     "data": {
      "text/plain": [
       "Series([], Name: source, dtype: int64)"
      ]
     },
     "execution_count": 333,
     "metadata": {},
     "output_type": "execute_result"
    }
   ],
   "source": [
    "archive_clean.source.value_counts()"
   ]
  },
  {
   "cell_type": "markdown",
   "metadata": {},
   "source": [
    "> Issue 5: There are some tweets with rating_denominator !=10 which rated multiple dogs or not a valid rating.\n",
    "\n",
    "> cleaning plan: Drop the remaining tweets with rating_denominator values that are NOT equal to 10.\n",
    "\n"
   ]
  },
  {
   "cell_type": "code",
   "execution_count": 334,
   "metadata": {},
   "outputs": [
    {
     "data": {
      "text/plain": [
       "10    2072\n",
       "Name: rating_denominator, dtype: int64"
      ]
     },
     "execution_count": 334,
     "metadata": {},
     "output_type": "execute_result"
    }
   ],
   "source": [
    "# displaying denominators\n",
    "archive_clean.rating_denominator.value_counts().sort_index(ascending = False)"
   ]
  },
  {
   "cell_type": "code",
   "execution_count": 335,
   "metadata": {},
   "outputs": [
    {
     "data": {
      "text/plain": [
       "10    2072\n",
       "Name: rating_denominator, dtype: int64"
      ]
     },
     "execution_count": 335,
     "metadata": {},
     "output_type": "execute_result"
    }
   ],
   "source": [
    "archive_clean = archive_clean[archive_clean.rating_denominator == 10]\n",
    "\n",
    "# check the values in the column - expect it to only be \"10\"\n",
    "archive_clean.rating_denominator.value_counts().sort_index(ascending = False)"
   ]
  },
  {
   "cell_type": "markdown",
   "metadata": {},
   "source": [
    "> Issue 6: We have identified 5 tweets with rating_numerator >= 15, which needs to be eliminated because they either \n",
    "don't make sense or are very big.\n",
    "\n",
    "> Clearning plan: Dropping tweets that have rating_numerator >= 15.\n",
    "\n",
    "\n"
   ]
  },
  {
   "cell_type": "code",
   "execution_count": 336,
   "metadata": {},
   "outputs": [
    {
     "data": {
      "text/plain": [
       "Series([], Name: rating_numerator, dtype: int64)"
      ]
     },
     "execution_count": 336,
     "metadata": {},
     "output_type": "execute_result"
    }
   ],
   "source": [
    "# displaying numerators greater than 15\n",
    "mask = archive_clean.rating_numerator >= 15\n",
    "archive_clean[mask].rating_numerator.value_counts().sort_index(ascending = False)"
   ]
  },
  {
   "cell_type": "code",
   "execution_count": 337,
   "metadata": {},
   "outputs": [],
   "source": [
    "archive_clean = archive_clean[archive_clean.rating_numerator < 15]"
   ]
  },
  {
   "cell_type": "code",
   "execution_count": 338,
   "metadata": {},
   "outputs": [
    {
     "data": {
      "text/plain": [
       "12    485\n",
       "10    434\n",
       "11    413\n",
       "13    287\n",
       "9     152\n",
       "8     98 \n",
       "7     51 \n",
       "14    38 \n",
       "5     34 \n",
       "6     32 \n",
       "3     19 \n",
       "4     15 \n",
       "2     9  \n",
       "1     4  \n",
       "0     1  \n",
       "Name: rating_numerator, dtype: int64"
      ]
     },
     "execution_count": 338,
     "metadata": {},
     "output_type": "execute_result"
    }
   ],
   "source": [
    "#test to see if we only have rating_numerators that are >= 15\n",
    "archive_clean.rating_numerator.value_counts()"
   ]
  },
  {
   "cell_type": "markdown",
   "metadata": {},
   "source": [
    "> Issue 7:Tweets with missing data in expanded_urls/links to the tweet.\n",
    "\n",
    "> Cleaning Plan: Dropping tweets with missing data in the expanded_urls."
   ]
  },
  {
   "cell_type": "code",
   "execution_count": 342,
   "metadata": {},
   "outputs": [],
   "source": [
    "#previous info shows 2286 for expanded_urls:"
   ]
  },
  {
   "cell_type": "code",
   "execution_count": 343,
   "metadata": {},
   "outputs": [],
   "source": [
    "archive_clean = archive_clean[archive_clean.expanded_urls.notnull()]"
   ]
  },
  {
   "cell_type": "code",
   "execution_count": 344,
   "metadata": {},
   "outputs": [
    {
     "name": "stdout",
     "output_type": "stream",
     "text": [
      "<class 'pandas.core.frame.DataFrame'>\n",
      "Int64Index: 2072 entries, 0 to 2355\n",
      "Data columns (total 17 columns):\n",
      "tweet_id                      2072 non-null int64\n",
      "in_reply_to_status_id         0 non-null float64\n",
      "in_reply_to_user_id           0 non-null float64\n",
      "timestamp                     2072 non-null datetime64[ns]\n",
      "source                        0 non-null object\n",
      "text                          2072 non-null object\n",
      "retweeted_status_id           0 non-null float64\n",
      "retweeted_status_user_id      0 non-null float64\n",
      "retweeted_status_timestamp    0 non-null object\n",
      "expanded_urls                 2072 non-null object\n",
      "rating_numerator              2072 non-null int64\n",
      "rating_denominator            2072 non-null int64\n",
      "name                          2072 non-null object\n",
      "doggo                         2072 non-null object\n",
      "floofer                       2072 non-null object\n",
      "pupper                        2072 non-null object\n",
      "puppo                         2072 non-null object\n",
      "dtypes: datetime64[ns](1), float64(4), int64(3), object(9)\n",
      "memory usage: 291.4+ KB\n"
     ]
    }
   ],
   "source": [
    "archive_clean.info()"
   ]
  },
  {
   "cell_type": "markdown",
   "metadata": {},
   "source": [
    "> Issue 7: There are incorrect dog names in the name column\n",
    "\n",
    "> cleaning plan: Change the incorrect dog names to None\n",
    "\n"
   ]
  },
  {
   "cell_type": "code",
   "execution_count": 348,
   "metadata": {},
   "outputs": [
    {
     "data": {
      "text/plain": [
       "None       587\n",
       "a          54 \n",
       "Charlie    11 \n",
       "Lucy       11 \n",
       "Cooper     10 \n",
       "Oliver     10 \n",
       "Penny      9  \n",
       "Tucker     9  \n",
       "the        8  \n",
       "Sadie      8  \n",
       "Name: name, dtype: int64"
      ]
     },
     "execution_count": 348,
     "metadata": {},
     "output_type": "execute_result"
    }
   ],
   "source": [
    "archive_clean['name'].value_counts().head(10)\n",
    "# demonstration of a type of a wrong name \"a\", \"the\":"
   ]
  },
  {
   "cell_type": "code",
   "execution_count": 349,
   "metadata": {},
   "outputs": [],
   "source": [
    "# choose the most frequent incorrect dog names and set them as None\n",
    "not_name_list = ['a','the','an']\n",
    "for i in not_name_list:\n",
    "       archive_clean['name'].replace(i, 'None', inplace=True)"
   ]
  },
  {
   "cell_type": "code",
   "execution_count": 357,
   "metadata": {},
   "outputs": [
    {
     "data": {
      "text/plain": [
       "None       654\n",
       "Lucy       11 \n",
       "Charlie    11 \n",
       "Cooper     10 \n",
       "Oliver     10 \n",
       "Tucker     9  \n",
       "Penny      9  \n",
       "Lola       8  \n",
       "Sadie      8  \n",
       "Winston    8  \n",
       "Name: name, dtype: int64"
      ]
     },
     "execution_count": 357,
     "metadata": {},
     "output_type": "execute_result"
    }
   ],
   "source": [
    "archive_clean['name'].value_counts().head(10)"
   ]
  },
  {
   "cell_type": "markdown",
   "metadata": {},
   "source": [
    "> Issue 8: There are dog names in the name column that are not capitalized\n",
    "\n",
    "> cleaning plan: Change the lowercase to uppercase in field dog names\n"
   ]
  },
  {
   "cell_type": "code",
   "execution_count": 352,
   "metadata": {},
   "outputs": [
    {
     "data": {
      "text/plain": [
       "34"
      ]
     },
     "execution_count": 352,
     "metadata": {},
     "output_type": "execute_result"
    }
   ],
   "source": [
    "#number of dog names that are not capitalized\n",
    "archive_clean['name'].str.islower().sum()"
   ]
  },
  {
   "cell_type": "code",
   "execution_count": 354,
   "metadata": {},
   "outputs": [],
   "source": [
    "archive_clean['name'] = archive_clean.name.str.capitalize()"
   ]
  },
  {
   "cell_type": "code",
   "execution_count": 356,
   "metadata": {},
   "outputs": [
    {
     "data": {
      "text/plain": [
       "0"
      ]
     },
     "execution_count": 356,
     "metadata": {},
     "output_type": "execute_result"
    }
   ],
   "source": [
    "#test to see if we fixed the issue; expect to see 0\n",
    "archive_clean['name'].str.islower().sum()"
   ]
  },
  {
   "cell_type": "markdown",
   "metadata": {},
   "source": [
    "#### Tidiness:"
   ]
  },
  {
   "cell_type": "markdown",
   "metadata": {},
   "source": [
    "> Tidiness Issue 1: json_data should not stand alone and should be a part of the archive dataset\n",
    "\n",
    "> Cleaning plan: merging json_data and archive data, first we need to drop tweets with missing json_data, then change the data type for the retweet count and favorite count to be an intiger, then merge"
   ]
  },
  {
   "cell_type": "code",
   "execution_count": 363,
   "metadata": {},
   "outputs": [
    {
     "name": "stdout",
     "output_type": "stream",
     "text": [
      "<class 'pandas.core.frame.DataFrame'>\n",
      "RangeIndex: 2333 entries, 0 to 2332\n",
      "Data columns (total 3 columns):\n",
      "tweet_id          2333 non-null int64\n",
      "retweet_count     2333 non-null int64\n",
      "favorite_count    2333 non-null int64\n",
      "dtypes: int64(3)\n",
      "memory usage: 54.8 KB\n"
     ]
    }
   ],
   "source": [
    "json_data_clean.info()"
   ]
  },
  {
   "cell_type": "code",
   "execution_count": 364,
   "metadata": {},
   "outputs": [],
   "source": [
    "#merging json_data into archive_clean:\n",
    "archive_clean = pd.merge(archive_clean, json_data_clean, \n",
    "                         on = 'tweet_id', how = 'left')"
   ]
  },
  {
   "cell_type": "code",
   "execution_count": 365,
   "metadata": {},
   "outputs": [
    {
     "data": {
      "text/html": [
       "<div>\n",
       "<style scoped>\n",
       "    .dataframe tbody tr th:only-of-type {\n",
       "        vertical-align: middle;\n",
       "    }\n",
       "\n",
       "    .dataframe tbody tr th {\n",
       "        vertical-align: top;\n",
       "    }\n",
       "\n",
       "    .dataframe thead th {\n",
       "        text-align: right;\n",
       "    }\n",
       "</style>\n",
       "<table border=\"1\" class=\"dataframe\">\n",
       "  <thead>\n",
       "    <tr style=\"text-align: right;\">\n",
       "      <th></th>\n",
       "      <th>tweet_id</th>\n",
       "      <th>retweet_count</th>\n",
       "      <th>favorite_count</th>\n",
       "    </tr>\n",
       "  </thead>\n",
       "  <tbody>\n",
       "    <tr>\n",
       "      <th>90</th>\n",
       "      <td>872261713294495745</td>\n",
       "      <td>NaN</td>\n",
       "      <td>NaN</td>\n",
       "    </tr>\n",
       "    <tr>\n",
       "      <th>202</th>\n",
       "      <td>844704788403113984</td>\n",
       "      <td>NaN</td>\n",
       "      <td>NaN</td>\n",
       "    </tr>\n",
       "    <tr>\n",
       "      <th>234</th>\n",
       "      <td>837366284874571778</td>\n",
       "      <td>NaN</td>\n",
       "      <td>NaN</td>\n",
       "    </tr>\n",
       "    <tr>\n",
       "      <th>284</th>\n",
       "      <td>829374341691346946</td>\n",
       "      <td>NaN</td>\n",
       "      <td>NaN</td>\n",
       "    </tr>\n",
       "    <tr>\n",
       "      <th>570</th>\n",
       "      <td>779123168116150273</td>\n",
       "      <td>NaN</td>\n",
       "      <td>NaN</td>\n",
       "    </tr>\n",
       "    <tr>\n",
       "      <th>720</th>\n",
       "      <td>754011816964026368</td>\n",
       "      <td>NaN</td>\n",
       "      <td>NaN</td>\n",
       "    </tr>\n",
       "    <tr>\n",
       "      <th>1467</th>\n",
       "      <td>680055455951884288</td>\n",
       "      <td>NaN</td>\n",
       "      <td>NaN</td>\n",
       "    </tr>\n",
       "  </tbody>\n",
       "</table>\n",
       "</div>"
      ],
      "text/plain": [
       "                tweet_id  retweet_count  favorite_count\n",
       "90    872261713294495745 NaN            NaN            \n",
       "202   844704788403113984 NaN            NaN            \n",
       "234   837366284874571778 NaN            NaN            \n",
       "284   829374341691346946 NaN            NaN            \n",
       "570   779123168116150273 NaN            NaN            \n",
       "720   754011816964026368 NaN            NaN            \n",
       "1467  680055455951884288 NaN            NaN            "
      ]
     },
     "execution_count": 365,
     "metadata": {},
     "output_type": "execute_result"
    }
   ],
   "source": [
    "mask_cols = ['tweet_id', 'retweet_count', 'favorite_count']\n",
    "archive_clean[archive_clean.retweet_count.isna() | archive_clean.favorite_count.isna()][mask_cols]"
   ]
  },
  {
   "cell_type": "code",
   "execution_count": 366,
   "metadata": {},
   "outputs": [],
   "source": [
    "archive_clean = archive_clean[~(archive_clean.retweet_count.isna() | archive_clean.favorite_count.isna())]\n",
    "\n",
    "# recast the count columns to int type\n",
    "archive_clean.retweet_count = archive_clean.retweet_count.astype(int)\n",
    "archive_clean.favorite_count = archive_clean.favorite_count.astype(int)"
   ]
  },
  {
   "cell_type": "code",
   "execution_count": 367,
   "metadata": {},
   "outputs": [
    {
     "name": "stdout",
     "output_type": "stream",
     "text": [
      "<class 'pandas.core.frame.DataFrame'>\n",
      "Int64Index: 2065 entries, 0 to 2071\n",
      "Data columns (total 19 columns):\n",
      "tweet_id                      2065 non-null int64\n",
      "in_reply_to_status_id         0 non-null float64\n",
      "in_reply_to_user_id           0 non-null float64\n",
      "timestamp                     2065 non-null datetime64[ns]\n",
      "source                        0 non-null object\n",
      "text                          2065 non-null object\n",
      "retweeted_status_id           0 non-null float64\n",
      "retweeted_status_user_id      0 non-null float64\n",
      "retweeted_status_timestamp    0 non-null object\n",
      "expanded_urls                 2065 non-null object\n",
      "rating_numerator              2065 non-null int64\n",
      "rating_denominator            2065 non-null int64\n",
      "name                          2065 non-null object\n",
      "doggo                         2065 non-null object\n",
      "floofer                       2065 non-null object\n",
      "pupper                        2065 non-null object\n",
      "puppo                         2065 non-null object\n",
      "retweet_count                 2065 non-null int64\n",
      "favorite_count                2065 non-null int64\n",
      "dtypes: datetime64[ns](1), float64(4), int64(5), object(9)\n",
      "memory usage: 322.7+ KB\n"
     ]
    }
   ],
   "source": [
    "#test\n",
    "archive_clean.info()"
   ]
  },
  {
   "cell_type": "markdown",
   "metadata": {},
   "source": [
    "> Tidiness Issue 2: There are 4 columns for dog stages: doggo, floofer, pupper, puppo.\n",
    "\n",
    "> Clearning plan: Have all columns in 1 and call it stage\n",
    "\n",
    "\n",
    "* store the None values\n",
    "* create a new column `stage` and place the 4 types of doggo, floofer, pupper, puppo and the None values in there\n",
    "* drop the 4 original dog stage columns, and \n",
    "* drop the temporary none column\n"
   ]
  },
  {
   "cell_type": "code",
   "execution_count": 368,
   "metadata": {},
   "outputs": [
    {
     "data": {
      "text/html": [
       "<div>\n",
       "<style scoped>\n",
       "    .dataframe tbody tr th:only-of-type {\n",
       "        vertical-align: middle;\n",
       "    }\n",
       "\n",
       "    .dataframe tbody tr th {\n",
       "        vertical-align: top;\n",
       "    }\n",
       "\n",
       "    .dataframe thead th {\n",
       "        text-align: right;\n",
       "    }\n",
       "</style>\n",
       "<table border=\"1\" class=\"dataframe\">\n",
       "  <thead>\n",
       "    <tr style=\"text-align: right;\">\n",
       "      <th></th>\n",
       "      <th>doggo</th>\n",
       "      <th>floofer</th>\n",
       "      <th>pupper</th>\n",
       "      <th>puppo</th>\n",
       "    </tr>\n",
       "  </thead>\n",
       "  <tbody>\n",
       "    <tr>\n",
       "      <th>count</th>\n",
       "      <td>2065</td>\n",
       "      <td>2065</td>\n",
       "      <td>2065</td>\n",
       "      <td>2065</td>\n",
       "    </tr>\n",
       "    <tr>\n",
       "      <th>unique</th>\n",
       "      <td>2</td>\n",
       "      <td>2</td>\n",
       "      <td>2</td>\n",
       "      <td>2</td>\n",
       "    </tr>\n",
       "    <tr>\n",
       "      <th>top</th>\n",
       "      <td>None</td>\n",
       "      <td>None</td>\n",
       "      <td>None</td>\n",
       "      <td>None</td>\n",
       "    </tr>\n",
       "    <tr>\n",
       "      <th>freq</th>\n",
       "      <td>1983</td>\n",
       "      <td>2055</td>\n",
       "      <td>1837</td>\n",
       "      <td>2041</td>\n",
       "    </tr>\n",
       "  </tbody>\n",
       "</table>\n",
       "</div>"
      ],
      "text/plain": [
       "       doggo floofer pupper puppo\n",
       "count   2065  2065    2065   2065\n",
       "unique  2     2       2      2   \n",
       "top     None  None    None   None\n",
       "freq    1983  2055    1837   2041"
      ]
     },
     "execution_count": 368,
     "metadata": {},
     "output_type": "execute_result"
    }
   ],
   "source": [
    "archive_clean[['doggo', 'floofer', 'pupper', 'puppo']].describe()"
   ]
  },
  {
   "cell_type": "code",
   "execution_count": 369,
   "metadata": {},
   "outputs": [
    {
     "data": {
      "text/plain": [
       "0    1732\n",
       "1    322 \n",
       "2    11  \n",
       "Name: none, dtype: int64"
      ]
     },
     "execution_count": 369,
     "metadata": {},
     "output_type": "execute_result"
    }
   ],
   "source": [
    "# replace the stage name with 1, and 'None' with 0, like a dummy variable\n",
    "make_dummy = lambda x: 0 if x == 'None' else 1\n",
    "\n",
    "archive_clean.doggo = archive_clean.doggo.apply(make_dummy)\n",
    "archive_clean.floofer = archive_clean.floofer.apply(make_dummy)\n",
    "archive_clean.pupper = archive_clean.pupper.apply(make_dummy)\n",
    "archive_clean.puppo = archive_clean.puppo.apply(make_dummy)\n",
    "\n",
    "# by adding the stage columns, we can see how many are 'none' and how many stages are set\n",
    "archive_clean['none'] = archive_clean['doggo'] + archive_clean['floofer'] + \\\n",
    "                        archive_clean['pupper'] + archive_clean['puppo']\n",
    "\n",
    "# have a look at what we have before we continue...\n",
    "archive_clean['none'].value_counts()"
   ]
  },
  {
   "cell_type": "code",
   "execution_count": 370,
   "metadata": {},
   "outputs": [],
   "source": [
    "\n",
    "# if there are NO stages specified then set 'None' to 1\n",
    "stage_none = lambda x: 1 if x == 0 else 0\n",
    "\n",
    "# reset values in 'none' \n",
    "archive_clean['none'] = archive_clean['none'].apply(stage_none)\n",
    "\n",
    "# Order the stages in increasing count order: floofer, puppo, doggo and pupper\n",
    "# set the choice order for dog stage based on count order\n",
    "stage = ['floofer', 'puppo', 'doggo', 'pupper', 'none']\n",
    "\n",
    "# set the conditions for selecting the dog stage based on count order\n",
    "conditions = [\n",
    "    (archive_clean[stage[0]] == 1),\n",
    "    (archive_clean[stage[1]] == 1),\n",
    "    (archive_clean[stage[2]] == 1),\n",
    "    (archive_clean[stage[3]] == 1),\n",
    "    (archive_clean[stage[4]] == 1)]\n",
    "\n",
    "# select the dog stage based on the first successful condition; stage[4] is 'None'\n",
    "archive_clean['stage'] = np.select(conditions, stage, default = stage[4])\n",
    "\n",
    "# now we can drop the original 4 dog stage columns, AND the temporary 'None'\n",
    "archive_clean.drop(stage, axis = 1, inplace = True)\n",
    "\n",
    "# set the 'stage' column data type to category\n",
    "archive_clean['stage'] = archive_clean.stage.astype('category')\n",
    "\n",
    "# Source for algorithm:    https://code.i-harness.com/en/q/19c9fbc"
   ]
  },
  {
   "cell_type": "code",
   "execution_count": 371,
   "metadata": {},
   "outputs": [
    {
     "data": {
      "text/plain": [
       "none       1732\n",
       "pupper     219 \n",
       "doggo      80  \n",
       "puppo      24  \n",
       "floofer    10  \n",
       "Name: stage, dtype: int64"
      ]
     },
     "execution_count": 371,
     "metadata": {},
     "output_type": "execute_result"
    }
   ],
   "source": [
    "\n",
    "archive_clean.stage.value_counts()\n"
   ]
  },
  {
   "cell_type": "code",
   "execution_count": 379,
   "metadata": {},
   "outputs": [
    {
     "name": "stdout",
     "output_type": "stream",
     "text": [
      "<class 'pandas.core.frame.DataFrame'>\n",
      "Int64Index: 2065 entries, 0 to 2071\n",
      "Data columns (total 16 columns):\n",
      "tweet_id                      2065 non-null int64\n",
      "in_reply_to_status_id         0 non-null float64\n",
      "in_reply_to_user_id           0 non-null float64\n",
      "timestamp                     2065 non-null datetime64[ns]\n",
      "source                        0 non-null object\n",
      "text                          2065 non-null object\n",
      "retweeted_status_id           0 non-null float64\n",
      "retweeted_status_user_id      0 non-null float64\n",
      "retweeted_status_timestamp    0 non-null object\n",
      "expanded_urls                 2065 non-null object\n",
      "rating_numerator              2065 non-null int64\n",
      "rating_denominator            2065 non-null int64\n",
      "name                          2065 non-null object\n",
      "retweet_count                 2065 non-null int64\n",
      "favorite_count                2065 non-null int64\n",
      "stage                         2065 non-null category\n",
      "dtypes: category(1), datetime64[ns](1), float64(4), int64(5), object(5)\n",
      "memory usage: 260.3+ KB\n"
     ]
    }
   ],
   "source": [
    "archive_clean.info()"
   ]
  },
  {
   "cell_type": "markdown",
   "metadata": {},
   "source": [
    "> Tidiness Issue 3: The best dog breed prediction and associated confidence level can be combined with the archive table; these pieces of information provide additional data about the dog in the tweet based on the tweet's image.\n",
    "\n",
    "** We only want to keep tweets that have images.\n",
    "\n",
    "** This also solves Quality predictions issue, that there are fewer image predictions than tweets in the archive.\n",
    "\n",
    "\n",
    "> Clearning plan: This will be done in two steps:\n",
    "* first creating the columns in the predictions table\n",
    "\n",
    "* second merging to archive\n",
    "\n",
    "> Part 1: In this part, I will create additional columns called confidence and breed. I will use the highest confidence level into the breed column from (p1_dog, p2_dog, p3_dog). Then will copy the associated confidence level into the new confidence column.\n",
    "For cases where all 3 prediction flags are False (NOT a valid dog breed), will be setting the breed as 'none' and confidence to 0.\n",
    "\n",
    ">Part 2: Merge the new columns into the archive table with a join. we can fix the confidence column; round the values up to a whole number in percentage format."
   ]
  },
  {
   "cell_type": "code",
   "execution_count": 380,
   "metadata": {},
   "outputs": [],
   "source": [
    "#for part 1:\n",
    "\n",
    "# setup the conditions for selection\n",
    "conditions = [(predictions_clean['p1_dog'] == True),\n",
    "              (predictions_clean['p2_dog'] == True),\n",
    "              (predictions_clean['p3_dog'] == True)]\n",
    "\n",
    "# set the choice order based on the selection conditions for predicted breed\n",
    "choices_breed = [predictions_clean['p1'], \n",
    "                 predictions_clean['p2'],\n",
    "                 predictions_clean['p3']]\n",
    "\n",
    "# set the choice order for confidence level based on the selection conditions\n",
    "choices_confidence = [predictions_clean['p1_conf'], \n",
    "                      predictions_clean['p2_conf'], \n",
    "                      predictions_clean['p3_conf']]\n",
    "\n",
    "# select the predicted breed based on the first successful condition\n",
    "predictions_clean['breed'] = np.select(conditions, choices_breed, \n",
    "                                       default = 'none')\n",
    "\n",
    "# select the predicted confidence level based on the first successful condition\n",
    "predictions_clean['confidence'] = np.select(conditions, choices_confidence, \n",
    "                                            default = 0)"
   ]
  },
  {
   "cell_type": "code",
   "execution_count": 382,
   "metadata": {},
   "outputs": [
    {
     "data": {
      "text/html": [
       "<div>\n",
       "<style scoped>\n",
       "    .dataframe tbody tr th:only-of-type {\n",
       "        vertical-align: middle;\n",
       "    }\n",
       "\n",
       "    .dataframe tbody tr th {\n",
       "        vertical-align: top;\n",
       "    }\n",
       "\n",
       "    .dataframe thead th {\n",
       "        text-align: right;\n",
       "    }\n",
       "</style>\n",
       "<table border=\"1\" class=\"dataframe\">\n",
       "  <thead>\n",
       "    <tr style=\"text-align: right;\">\n",
       "      <th></th>\n",
       "      <th>tweet_id</th>\n",
       "      <th>jpg_url</th>\n",
       "      <th>img_num</th>\n",
       "      <th>p1</th>\n",
       "      <th>p1_conf</th>\n",
       "      <th>p1_dog</th>\n",
       "      <th>p2</th>\n",
       "      <th>p2_conf</th>\n",
       "      <th>p2_dog</th>\n",
       "      <th>p3</th>\n",
       "      <th>p3_conf</th>\n",
       "      <th>p3_dog</th>\n",
       "      <th>breed</th>\n",
       "      <th>confidence</th>\n",
       "    </tr>\n",
       "  </thead>\n",
       "  <tbody>\n",
       "    <tr>\n",
       "      <th>0</th>\n",
       "      <td>666020888022790149</td>\n",
       "      <td>https://pbs.twimg.com/media/CT4udn0WwAA0aMy.jpg</td>\n",
       "      <td>1</td>\n",
       "      <td>Welsh_springer_spaniel</td>\n",
       "      <td>0.465074</td>\n",
       "      <td>True</td>\n",
       "      <td>collie</td>\n",
       "      <td>0.156665</td>\n",
       "      <td>True</td>\n",
       "      <td>Shetland_sheepdog</td>\n",
       "      <td>0.061428</td>\n",
       "      <td>True</td>\n",
       "      <td>Welsh_springer_spaniel</td>\n",
       "      <td>0.465074</td>\n",
       "    </tr>\n",
       "    <tr>\n",
       "      <th>1</th>\n",
       "      <td>666029285002620928</td>\n",
       "      <td>https://pbs.twimg.com/media/CT42GRgUYAA5iDo.jpg</td>\n",
       "      <td>1</td>\n",
       "      <td>redbone</td>\n",
       "      <td>0.506826</td>\n",
       "      <td>True</td>\n",
       "      <td>miniature_pinscher</td>\n",
       "      <td>0.074192</td>\n",
       "      <td>True</td>\n",
       "      <td>Rhodesian_ridgeback</td>\n",
       "      <td>0.072010</td>\n",
       "      <td>True</td>\n",
       "      <td>redbone</td>\n",
       "      <td>0.506826</td>\n",
       "    </tr>\n",
       "    <tr>\n",
       "      <th>2</th>\n",
       "      <td>666033412701032449</td>\n",
       "      <td>https://pbs.twimg.com/media/CT4521TWwAEvMyu.jpg</td>\n",
       "      <td>1</td>\n",
       "      <td>German_shepherd</td>\n",
       "      <td>0.596461</td>\n",
       "      <td>True</td>\n",
       "      <td>malinois</td>\n",
       "      <td>0.138584</td>\n",
       "      <td>True</td>\n",
       "      <td>bloodhound</td>\n",
       "      <td>0.116197</td>\n",
       "      <td>True</td>\n",
       "      <td>German_shepherd</td>\n",
       "      <td>0.596461</td>\n",
       "    </tr>\n",
       "    <tr>\n",
       "      <th>3</th>\n",
       "      <td>666044226329800704</td>\n",
       "      <td>https://pbs.twimg.com/media/CT5Dr8HUEAA-lEu.jpg</td>\n",
       "      <td>1</td>\n",
       "      <td>Rhodesian_ridgeback</td>\n",
       "      <td>0.408143</td>\n",
       "      <td>True</td>\n",
       "      <td>redbone</td>\n",
       "      <td>0.360687</td>\n",
       "      <td>True</td>\n",
       "      <td>miniature_pinscher</td>\n",
       "      <td>0.222752</td>\n",
       "      <td>True</td>\n",
       "      <td>Rhodesian_ridgeback</td>\n",
       "      <td>0.408143</td>\n",
       "    </tr>\n",
       "    <tr>\n",
       "      <th>4</th>\n",
       "      <td>666049248165822465</td>\n",
       "      <td>https://pbs.twimg.com/media/CT5IQmsXIAAKY4A.jpg</td>\n",
       "      <td>1</td>\n",
       "      <td>miniature_pinscher</td>\n",
       "      <td>0.560311</td>\n",
       "      <td>True</td>\n",
       "      <td>Rottweiler</td>\n",
       "      <td>0.243682</td>\n",
       "      <td>True</td>\n",
       "      <td>Doberman</td>\n",
       "      <td>0.154629</td>\n",
       "      <td>True</td>\n",
       "      <td>miniature_pinscher</td>\n",
       "      <td>0.560311</td>\n",
       "    </tr>\n",
       "  </tbody>\n",
       "</table>\n",
       "</div>"
      ],
      "text/plain": [
       "             tweet_id                                          jpg_url  \\\n",
       "0  666020888022790149  https://pbs.twimg.com/media/CT4udn0WwAA0aMy.jpg   \n",
       "1  666029285002620928  https://pbs.twimg.com/media/CT42GRgUYAA5iDo.jpg   \n",
       "2  666033412701032449  https://pbs.twimg.com/media/CT4521TWwAEvMyu.jpg   \n",
       "3  666044226329800704  https://pbs.twimg.com/media/CT5Dr8HUEAA-lEu.jpg   \n",
       "4  666049248165822465  https://pbs.twimg.com/media/CT5IQmsXIAAKY4A.jpg   \n",
       "\n",
       "   img_num                      p1   p1_conf  p1_dog                  p2  \\\n",
       "0  1        Welsh_springer_spaniel  0.465074  True    collie               \n",
       "1  1        redbone                 0.506826  True    miniature_pinscher   \n",
       "2  1        German_shepherd         0.596461  True    malinois             \n",
       "3  1        Rhodesian_ridgeback     0.408143  True    redbone              \n",
       "4  1        miniature_pinscher      0.560311  True    Rottweiler           \n",
       "\n",
       "    p2_conf  p2_dog                   p3   p3_conf  p3_dog  \\\n",
       "0  0.156665  True    Shetland_sheepdog    0.061428  True     \n",
       "1  0.074192  True    Rhodesian_ridgeback  0.072010  True     \n",
       "2  0.138584  True    bloodhound           0.116197  True     \n",
       "3  0.360687  True    miniature_pinscher   0.222752  True     \n",
       "4  0.243682  True    Doberman             0.154629  True     \n",
       "\n",
       "                    breed  confidence  \n",
       "0  Welsh_springer_spaniel  0.465074    \n",
       "1  redbone                 0.506826    \n",
       "2  German_shepherd         0.596461    \n",
       "3  Rhodesian_ridgeback     0.408143    \n",
       "4  miniature_pinscher      0.560311    "
      ]
     },
     "execution_count": 382,
     "metadata": {},
     "output_type": "execute_result"
    }
   ],
   "source": [
    "#test part 1:\n",
    "predictions_clean.head(5)"
   ]
  },
  {
   "cell_type": "code",
   "execution_count": 383,
   "metadata": {},
   "outputs": [],
   "source": [
    "#for part 2:\n",
    "# merge the breed and confidence columns to archive\n",
    "mask_cols = ['tweet_id', 'breed', 'confidence']\n",
    "archive_clean = pd.merge(archive_clean, predictions_clean[mask_cols],\n",
    "                         on = 'tweet_id', how = 'inner')\n",
    "\n",
    "# change data type for the confidence interval to a rounded, whole integer (%)\n",
    "archive_clean.confidence = (archive_clean.confidence * 100).astype(int)\n",
    "\n",
    "# after the two columns are merged, we can drop them from the 'predictions' table\n",
    "predictions_clean.drop(['breed', 'confidence'], axis = 1, inplace = True)"
   ]
  },
  {
   "cell_type": "code",
   "execution_count": 391,
   "metadata": {},
   "outputs": [
    {
     "name": "stdout",
     "output_type": "stream",
     "text": [
      "<class 'pandas.core.frame.DataFrame'>\n",
      "Int64Index: 1942 entries, 0 to 1941\n",
      "Data columns (total 18 columns):\n",
      "tweet_id                      1942 non-null int64\n",
      "in_reply_to_status_id         0 non-null float64\n",
      "in_reply_to_user_id           0 non-null float64\n",
      "timestamp                     1942 non-null datetime64[ns]\n",
      "source                        0 non-null object\n",
      "text                          1942 non-null object\n",
      "retweeted_status_id           0 non-null float64\n",
      "retweeted_status_user_id      0 non-null float64\n",
      "retweeted_status_timestamp    0 non-null object\n",
      "expanded_urls                 1942 non-null object\n",
      "rating_numerator              1942 non-null int64\n",
      "rating_denominator            1942 non-null int64\n",
      "name                          1942 non-null object\n",
      "retweet_count                 1942 non-null int64\n",
      "favorite_count                1942 non-null int64\n",
      "stage                         1942 non-null category\n",
      "breed                         1942 non-null object\n",
      "confidence                    1942 non-null int64\n",
      "dtypes: category(1), datetime64[ns](1), float64(4), int64(6), object(6)\n",
      "memory usage: 275.2+ KB\n"
     ]
    }
   ],
   "source": [
    "archive_clean.info()"
   ]
  },
  {
   "cell_type": "markdown",
   "metadata": {},
   "source": [
    "> Tidiness issue 4: All values in rating_denominator column are 10, so we don't need this column any more, and the rating_numerator column can be renamed rating.\n",
    "\n",
    "> Cleaning plan:  Dropping the rating_denominator column, renaming the rating_numerator column to be rating.\n"
   ]
  },
  {
   "cell_type": "code",
   "execution_count": 392,
   "metadata": {},
   "outputs": [
    {
     "data": {
      "text/plain": [
       "10    1942\n",
       "Name: rating_denominator, dtype: int64"
      ]
     },
     "execution_count": 392,
     "metadata": {},
     "output_type": "execute_result"
    }
   ],
   "source": [
    "\n",
    "archive_clean.rating_denominator.value_counts()"
   ]
  },
  {
   "cell_type": "code",
   "execution_count": 393,
   "metadata": {},
   "outputs": [],
   "source": [
    "archive_clean.drop(['rating_denominator'], axis = 1, inplace = True)\n",
    "archive_clean.rename(index = str, columns = {'rating_numerator': 'rating'}, inplace = True)"
   ]
  },
  {
   "cell_type": "code",
   "execution_count": 403,
   "metadata": {},
   "outputs": [
    {
     "data": {
      "text/plain": [
       "['tweet_id',\n",
       " 'in_reply_to_status_id',\n",
       " 'in_reply_to_user_id',\n",
       " 'timestamp',\n",
       " 'source',\n",
       " 'text',\n",
       " 'retweeted_status_id',\n",
       " 'retweeted_status_user_id',\n",
       " 'retweeted_status_timestamp',\n",
       " 'expanded_urls',\n",
       " 'rating',\n",
       " 'name',\n",
       " 'retweet_count',\n",
       " 'favorite_count',\n",
       " 'stage',\n",
       " 'breed',\n",
       " 'confidence']"
      ]
     },
     "execution_count": 403,
     "metadata": {},
     "output_type": "execute_result"
    }
   ],
   "source": [
    "list(archive_clean)"
   ]
  },
  {
   "cell_type": "markdown",
   "metadata": {},
   "source": [
    "> Tidiness Issue 5: longer columns are to the left, and numerics are to the right. \n",
    "    \n",
    "> cleaning plan: re-ordering of the columns\n",
    "    "
   ]
  },
  {
   "cell_type": "code",
   "execution_count": 404,
   "metadata": {},
   "outputs": [
    {
     "name": "stdout",
     "output_type": "stream",
     "text": [
      "['tweet_id', 'in_reply_to_status_id', 'in_reply_to_user_id', 'timestamp', 'source', 'text', 'retweeted_status_id', 'retweeted_status_user_id', 'retweeted_status_timestamp', 'expanded_urls', 'rating', 'name', 'retweet_count', 'favorite_count', 'stage', 'breed', 'confidence']\n"
     ]
    }
   ],
   "source": [
    "col_list = list(archive_clean.columns)\n",
    "print(col_list)"
   ]
  },
  {
   "cell_type": "code",
   "execution_count": 451,
   "metadata": {},
   "outputs": [],
   "source": [
    "#new column order:\n",
    "col_list = ['tweet_id', 'timestamp', 'rating', 'retweet_count', 'favorite_count',\n",
    "            'breed', 'confidence', 'name', 'stage', 'source', 'text']\n",
    "\n",
    "archive_clean = archive_clean[col_list]"
   ]
  },
  {
   "cell_type": "code",
   "execution_count": 450,
   "metadata": {},
   "outputs": [
    {
     "data": {
      "text/html": [
       "<div>\n",
       "<style scoped>\n",
       "    .dataframe tbody tr th:only-of-type {\n",
       "        vertical-align: middle;\n",
       "    }\n",
       "\n",
       "    .dataframe tbody tr th {\n",
       "        vertical-align: top;\n",
       "    }\n",
       "\n",
       "    .dataframe thead th {\n",
       "        text-align: right;\n",
       "    }\n",
       "</style>\n",
       "<table border=\"1\" class=\"dataframe\">\n",
       "  <thead>\n",
       "    <tr style=\"text-align: right;\">\n",
       "      <th></th>\n",
       "      <th>tweet_id</th>\n",
       "      <th>timestamp</th>\n",
       "      <th>rating</th>\n",
       "      <th>retweet_count</th>\n",
       "      <th>favorite_count</th>\n",
       "      <th>breed</th>\n",
       "      <th>confidence</th>\n",
       "      <th>name</th>\n",
       "      <th>stage</th>\n",
       "      <th>source</th>\n",
       "      <th>text</th>\n",
       "    </tr>\n",
       "  </thead>\n",
       "  <tbody>\n",
       "    <tr>\n",
       "      <th>0</th>\n",
       "      <td>892420643555336193</td>\n",
       "      <td>2017-08-01 16:23:56</td>\n",
       "      <td>13</td>\n",
       "      <td>7861</td>\n",
       "      <td>36908</td>\n",
       "      <td>none</td>\n",
       "      <td>0</td>\n",
       "      <td>Phineas</td>\n",
       "      <td>none</td>\n",
       "      <td>NaN</td>\n",
       "      <td>This is Phineas. He's a mystical boy. Only ever appears in the hole of a donut. 13/10 https://t.co/MgUWQ76dJU</td>\n",
       "    </tr>\n",
       "    <tr>\n",
       "      <th>1</th>\n",
       "      <td>892177421306343426</td>\n",
       "      <td>2017-08-01 00:17:27</td>\n",
       "      <td>13</td>\n",
       "      <td>5834</td>\n",
       "      <td>31762</td>\n",
       "      <td>Chihuahua</td>\n",
       "      <td>32</td>\n",
       "      <td>Tilly</td>\n",
       "      <td>none</td>\n",
       "      <td>NaN</td>\n",
       "      <td>This is Tilly. She's just checking pup on you. Hopes you're doing ok. If not, she's available for pats, snugs, boops, the whole bit. 13/10 https://t.co/0Xxu71qeIV</td>\n",
       "    </tr>\n",
       "    <tr>\n",
       "      <th>2</th>\n",
       "      <td>891815181378084864</td>\n",
       "      <td>2017-07-31 00:18:03</td>\n",
       "      <td>12</td>\n",
       "      <td>3853</td>\n",
       "      <td>23932</td>\n",
       "      <td>Chihuahua</td>\n",
       "      <td>71</td>\n",
       "      <td>Archie</td>\n",
       "      <td>none</td>\n",
       "      <td>NaN</td>\n",
       "      <td>This is Archie. He is a rare Norwegian Pouncing Corgo. Lives in the tall grass. You never know when one may strike. 12/10 https://t.co/wUnZnhtVJB</td>\n",
       "    </tr>\n",
       "    <tr>\n",
       "      <th>3</th>\n",
       "      <td>891689557279858688</td>\n",
       "      <td>2017-07-30 15:58:51</td>\n",
       "      <td>13</td>\n",
       "      <td>8026</td>\n",
       "      <td>40224</td>\n",
       "      <td>Labrador_retriever</td>\n",
       "      <td>16</td>\n",
       "      <td>Darla</td>\n",
       "      <td>none</td>\n",
       "      <td>NaN</td>\n",
       "      <td>This is Darla. She commenced a snooze mid meal. 13/10 happens to the best of us https://t.co/tD36da7qLQ</td>\n",
       "    </tr>\n",
       "    <tr>\n",
       "      <th>4</th>\n",
       "      <td>891327558926688256</td>\n",
       "      <td>2017-07-29 16:00:24</td>\n",
       "      <td>12</td>\n",
       "      <td>8685</td>\n",
       "      <td>38421</td>\n",
       "      <td>basset</td>\n",
       "      <td>55</td>\n",
       "      <td>Franklin</td>\n",
       "      <td>none</td>\n",
       "      <td>NaN</td>\n",
       "      <td>This is Franklin. He would like you to stop calling him \"cute.\" He is a very fierce shark and should be respected as such. 12/10 #BarkWeek https://t.co/AtUZn91f7f</td>\n",
       "    </tr>\n",
       "  </tbody>\n",
       "</table>\n",
       "</div>"
      ],
      "text/plain": [
       "             tweet_id           timestamp  rating  retweet_count  \\\n",
       "0  892420643555336193 2017-08-01 16:23:56  13      7861            \n",
       "1  892177421306343426 2017-08-01 00:17:27  13      5834            \n",
       "2  891815181378084864 2017-07-31 00:18:03  12      3853            \n",
       "3  891689557279858688 2017-07-30 15:58:51  13      8026            \n",
       "4  891327558926688256 2017-07-29 16:00:24  12      8685            \n",
       "\n",
       "   favorite_count               breed  confidence      name stage source  \\\n",
       "0  36908           none                0           Phineas   none  NaN     \n",
       "1  31762           Chihuahua           32          Tilly     none  NaN     \n",
       "2  23932           Chihuahua           71          Archie    none  NaN     \n",
       "3  40224           Labrador_retriever  16          Darla     none  NaN     \n",
       "4  38421           basset              55          Franklin  none  NaN     \n",
       "\n",
       "                                                                                                                                                                 text  \n",
       "0  This is Phineas. He's a mystical boy. Only ever appears in the hole of a donut. 13/10 https://t.co/MgUWQ76dJU                                                       \n",
       "1  This is Tilly. She's just checking pup on you. Hopes you're doing ok. If not, she's available for pats, snugs, boops, the whole bit. 13/10 https://t.co/0Xxu71qeIV  \n",
       "2  This is Archie. He is a rare Norwegian Pouncing Corgo. Lives in the tall grass. You never know when one may strike. 12/10 https://t.co/wUnZnhtVJB                   \n",
       "3  This is Darla. She commenced a snooze mid meal. 13/10 happens to the best of us https://t.co/tD36da7qLQ                                                             \n",
       "4  This is Franklin. He would like you to stop calling him \"cute.\" He is a very fierce shark and should be respected as such. 12/10 #BarkWeek https://t.co/AtUZn91f7f  "
      ]
     },
     "execution_count": 450,
     "metadata": {},
     "output_type": "execute_result"
    }
   ],
   "source": [
    "archive_clean.head(5)"
   ]
  },
  {
   "cell_type": "markdown",
   "metadata": {},
   "source": [
    "#### Storing the clean data"
   ]
  },
  {
   "cell_type": "code",
   "execution_count": 407,
   "metadata": {},
   "outputs": [],
   "source": [
    "#saving the clean dataset:\n",
    "archive_clean.to_csv('twitter_archive_master.csv', index = False)"
   ]
  },
  {
   "cell_type": "markdown",
   "metadata": {},
   "source": [
    "# Data Analysis and Visualization\n",
    "<a id=\"data_analysis\"></a>"
   ]
  },
  {
   "cell_type": "markdown",
   "metadata": {},
   "source": [
    "The following analysis are created using the cleaned data from the previous section. At least three (3) insights and one (1) visualization must be produced.\n"
   ]
  },
  {
   "cell_type": "code",
   "execution_count": 468,
   "metadata": {},
   "outputs": [
    {
     "name": "stdout",
     "output_type": "stream",
     "text": [
      "<class 'pandas.core.frame.DataFrame'>\n",
      "Index: 1942 entries, 0 to 1941\n",
      "Data columns (total 11 columns):\n",
      "tweet_id          1942 non-null int64\n",
      "timestamp         1942 non-null datetime64[ns]\n",
      "rating            1942 non-null int64\n",
      "retweet_count     1942 non-null int64\n",
      "favorite_count    1942 non-null int64\n",
      "breed             1942 non-null object\n",
      "confidence        1942 non-null int64\n",
      "name              1942 non-null object\n",
      "stage             1942 non-null category\n",
      "source            0 non-null object\n",
      "text              1942 non-null object\n",
      "dtypes: category(1), datetime64[ns](1), int64(5), object(4)\n",
      "memory usage: 169.0+ KB\n"
     ]
    }
   ],
   "source": [
    "\n",
    "# make a copy of the archive master table for analysis\n",
    "df = archive_clean.copy()\n",
    "df.info()"
   ]
  },
  {
   "cell_type": "code",
   "execution_count": 469,
   "metadata": {},
   "outputs": [
    {
     "data": {
      "text/plain": [
       "(Timestamp('2015-11-15 22:32:08'), Timestamp('2017-08-01 16:23:56'))"
      ]
     },
     "execution_count": 469,
     "metadata": {},
     "output_type": "execute_result"
    }
   ],
   "source": [
    "# time range for tweets\n",
    "df.timestamp.min(), df.timestamp.max()"
   ]
  },
  {
   "cell_type": "code",
   "execution_count": 470,
   "metadata": {},
   "outputs": [],
   "source": [
    "# Set default display parameter for plots.\n",
    "#plt.rcParams['figure.figsize'] = (8, 5)"
   ]
  },
  {
   "cell_type": "code",
   "execution_count": 471,
   "metadata": {},
   "outputs": [
    {
     "data": {
      "text/html": [
       "<div>\n",
       "<style scoped>\n",
       "    .dataframe tbody tr th:only-of-type {\n",
       "        vertical-align: middle;\n",
       "    }\n",
       "\n",
       "    .dataframe tbody tr th {\n",
       "        vertical-align: top;\n",
       "    }\n",
       "\n",
       "    .dataframe thead th {\n",
       "        text-align: right;\n",
       "    }\n",
       "</style>\n",
       "<table border=\"1\" class=\"dataframe\">\n",
       "  <thead>\n",
       "    <tr style=\"text-align: right;\">\n",
       "      <th></th>\n",
       "      <th>rating</th>\n",
       "      <th>retweet_count</th>\n",
       "      <th>favorite_count</th>\n",
       "      <th>confidence</th>\n",
       "    </tr>\n",
       "  </thead>\n",
       "  <tbody>\n",
       "    <tr>\n",
       "      <th>count</th>\n",
       "      <td>1942.000000</td>\n",
       "      <td>1942.000000</td>\n",
       "      <td>1942.000000</td>\n",
       "      <td>1942.000000</td>\n",
       "    </tr>\n",
       "    <tr>\n",
       "      <th>mean</th>\n",
       "      <td>10.531926</td>\n",
       "      <td>2519.241504</td>\n",
       "      <td>8481.872812</td>\n",
       "      <td>46.008754</td>\n",
       "    </tr>\n",
       "    <tr>\n",
       "      <th>std</th>\n",
       "      <td>2.175163</td>\n",
       "      <td>4515.467441</td>\n",
       "      <td>12480.421068</td>\n",
       "      <td>33.820577</td>\n",
       "    </tr>\n",
       "    <tr>\n",
       "      <th>min</th>\n",
       "      <td>0.000000</td>\n",
       "      <td>11.000000</td>\n",
       "      <td>73.000000</td>\n",
       "      <td>0.000000</td>\n",
       "    </tr>\n",
       "    <tr>\n",
       "      <th>25%</th>\n",
       "      <td>10.000000</td>\n",
       "      <td>561.000000</td>\n",
       "      <td>1801.500000</td>\n",
       "      <td>13.250000</td>\n",
       "    </tr>\n",
       "    <tr>\n",
       "      <th>50%</th>\n",
       "      <td>11.000000</td>\n",
       "      <td>1214.000000</td>\n",
       "      <td>3822.000000</td>\n",
       "      <td>45.000000</td>\n",
       "    </tr>\n",
       "    <tr>\n",
       "      <th>75%</th>\n",
       "      <td>12.000000</td>\n",
       "      <td>2881.250000</td>\n",
       "      <td>10591.750000</td>\n",
       "      <td>77.000000</td>\n",
       "    </tr>\n",
       "    <tr>\n",
       "      <th>max</th>\n",
       "      <td>14.000000</td>\n",
       "      <td>79577.000000</td>\n",
       "      <td>159486.000000</td>\n",
       "      <td>99.000000</td>\n",
       "    </tr>\n",
       "  </tbody>\n",
       "</table>\n",
       "</div>"
      ],
      "text/plain": [
       "            rating  retweet_count  favorite_count   confidence\n",
       "count  1942.000000  1942.000000    1942.000000     1942.000000\n",
       "mean   10.531926    2519.241504    8481.872812     46.008754  \n",
       "std    2.175163     4515.467441    12480.421068    33.820577  \n",
       "min    0.000000     11.000000      73.000000       0.000000   \n",
       "25%    10.000000    561.000000     1801.500000     13.250000  \n",
       "50%    11.000000    1214.000000    3822.000000     45.000000  \n",
       "75%    12.000000    2881.250000    10591.750000    77.000000  \n",
       "max    14.000000    79577.000000   159486.000000   99.000000  "
      ]
     },
     "execution_count": 471,
     "metadata": {},
     "output_type": "execute_result"
    }
   ],
   "source": [
    "df[['rating', 'retweet_count', 'favorite_count', 'confidence']].describe()"
   ]
  },
  {
   "cell_type": "code",
   "execution_count": 412,
   "metadata": {},
   "outputs": [
    {
     "data": {
      "text/plain": [
       "0"
      ]
     },
     "execution_count": 412,
     "metadata": {},
     "output_type": "execute_result"
    }
   ],
   "source": [
    "\n",
    "# Is there any favorite count <= retweet count?\n",
    "sum(df.favorite_count <= df.retweet_count)"
   ]
  },
  {
   "cell_type": "code",
   "execution_count": 453,
   "metadata": {},
   "outputs": [
    {
     "data": {
      "text/html": [
       "<div>\n",
       "<style scoped>\n",
       "    .dataframe tbody tr th:only-of-type {\n",
       "        vertical-align: middle;\n",
       "    }\n",
       "\n",
       "    .dataframe tbody tr th {\n",
       "        vertical-align: top;\n",
       "    }\n",
       "\n",
       "    .dataframe thead th {\n",
       "        text-align: right;\n",
       "    }\n",
       "</style>\n",
       "<table border=\"1\" class=\"dataframe\">\n",
       "  <thead>\n",
       "    <tr style=\"text-align: right;\">\n",
       "      <th></th>\n",
       "      <th>tweet_id</th>\n",
       "      <th>timestamp</th>\n",
       "      <th>rating</th>\n",
       "      <th>retweet_count</th>\n",
       "      <th>favorite_count</th>\n",
       "      <th>breed</th>\n",
       "      <th>confidence</th>\n",
       "      <th>name</th>\n",
       "      <th>stage</th>\n",
       "      <th>source</th>\n",
       "      <th>text</th>\n",
       "    </tr>\n",
       "  </thead>\n",
       "  <tbody>\n",
       "    <tr>\n",
       "      <th>757</th>\n",
       "      <td>744234799360020481</td>\n",
       "      <td>2016-06-18 18:26:18</td>\n",
       "      <td>13</td>\n",
       "      <td>79577</td>\n",
       "      <td>159486</td>\n",
       "      <td>Labrador_retriever</td>\n",
       "      <td>82</td>\n",
       "      <td>None</td>\n",
       "      <td>doggo</td>\n",
       "      <td>NaN</td>\n",
       "      <td>Here's a doggo realizing you can stand in a pool. 13/10 enlightened af (vid by Tina Conrad) https://t.co/7wE9LTEXC4</td>\n",
       "    </tr>\n",
       "    <tr>\n",
       "      <th>302</th>\n",
       "      <td>822872901745569793</td>\n",
       "      <td>2017-01-21 18:26:02</td>\n",
       "      <td>13</td>\n",
       "      <td>44891</td>\n",
       "      <td>135936</td>\n",
       "      <td>Lakeland_terrier</td>\n",
       "      <td>19</td>\n",
       "      <td>None</td>\n",
       "      <td>puppo</td>\n",
       "      <td>NaN</td>\n",
       "      <td>Here's a super supportive puppo participating in the Toronto  #WomensMarch today. 13/10 https://t.co/nTz3FtorBc</td>\n",
       "    </tr>\n",
       "    <tr>\n",
       "      <th>391</th>\n",
       "      <td>807106840509214720</td>\n",
       "      <td>2016-12-09 06:17:20</td>\n",
       "      <td>13</td>\n",
       "      <td>58058</td>\n",
       "      <td>123159</td>\n",
       "      <td>Chihuahua</td>\n",
       "      <td>50</td>\n",
       "      <td>Stephan</td>\n",
       "      <td>none</td>\n",
       "      <td>NaN</td>\n",
       "      <td>This is Stephan. He just wants to help. 13/10 such a good boy https://t.co/DkBYaCAg2d</td>\n",
       "    </tr>\n",
       "  </tbody>\n",
       "</table>\n",
       "</div>"
      ],
      "text/plain": [
       "               tweet_id           timestamp  rating  retweet_count  \\\n",
       "757  744234799360020481 2016-06-18 18:26:18  13      79577           \n",
       "302  822872901745569793 2017-01-21 18:26:02  13      44891           \n",
       "391  807106840509214720 2016-12-09 06:17:20  13      58058           \n",
       "\n",
       "     favorite_count               breed  confidence     name  stage source  \\\n",
       "757  159486          Labrador_retriever  82          None     doggo  NaN     \n",
       "302  135936          Lakeland_terrier    19          None     puppo  NaN     \n",
       "391  123159          Chihuahua           50          Stephan  none   NaN     \n",
       "\n",
       "                                                                                                                    text  \n",
       "757  Here's a doggo realizing you can stand in a pool. 13/10 enlightened af (vid by Tina Conrad) https://t.co/7wE9LTEXC4  \n",
       "302  Here's a super supportive puppo participating in the Toronto  #WomensMarch today. 13/10 https://t.co/nTz3FtorBc      \n",
       "391  This is Stephan. He just wants to help. 13/10 such a good boy https://t.co/DkBYaCAg2d                                "
      ]
     },
     "execution_count": 453,
     "metadata": {},
     "output_type": "execute_result"
    }
   ],
   "source": [
    "#find top 3 tweets to see as a sample:\n",
    "\n",
    "df.sort_values(by = 'favorite_count', ascending = False).head(3)"
   ]
  },
  {
   "cell_type": "markdown",
   "metadata": {},
   "source": [
    "#### Distribution of Ratings:"
   ]
  },
  {
   "cell_type": "code",
   "execution_count": 472,
   "metadata": {},
   "outputs": [
    {
     "data": {
      "image/png": "[encoded data removed]",
      "text/plain": [
       "<Figure size 432x288 with 1 Axes>"
      ]
     },
     "metadata": {},
     "output_type": "display_data"
    }
   ],
   "source": [
    "\n",
    "df['rating'].plot(kind = 'hist', bins = 15, color='red')\n",
    "\n",
    "plt.xlim(0, 15)\n",
    "plt.title('Distribution of Ratings', fontsize = 16)\n",
    "plt.ylabel('Num of Tweets', fontsize = 14)\n",
    "plt.xlabel('Rating', fontsize = 14)\n",
    "\n",
    "plt.show();"
   ]
  },
  {
   "cell_type": "markdown",
   "metadata": {},
   "source": [
    "The histogram above demonstrates that the distribution of ratings is very skewed to the left. We see that 75% of all ratings are between 10 and 14 inclusive. \n",
    "* (the IQR is from 10 to 12)"
   ]
  },
  {
   "cell_type": "code",
   "execution_count": 462,
   "metadata": {},
   "outputs": [
    {
     "name": "stdout",
     "output_type": "stream",
     "text": [
      "Number of tweets with rating 10+:  1534\n",
      "Percentage of tweets:                79%\n"
     ]
    }
   ],
   "source": [
    "#What is the % of tweets with ratings of 10 and higher:\n",
    "\n",
    "rating_10up_total = sum(df.rating >= 10)\n",
    "rating_10up_perc = round(rating_10up_total * 100 / df.shape[0])\n",
    "print(\"Number of tweets with rating 10+:  {}\".format(rating_10up_total))\n",
    "print(\"Percentage of tweets:                {}%\".format(round(rating_10up_perc, 3)))"
   ]
  },
  {
   "cell_type": "markdown",
   "metadata": {},
   "source": [
    "#### Distribution of dog stages:"
   ]
  },
  {
   "cell_type": "code",
   "execution_count": 458,
   "metadata": {},
   "outputs": [
    {
     "data": {
      "text/plain": [
       "none       1641\n",
       "pupper     200 \n",
       "doggo      70  \n",
       "puppo      23  \n",
       "floofer    8   \n",
       "Name: stage, dtype: int64"
      ]
     },
     "execution_count": 458,
     "metadata": {},
     "output_type": "execute_result"
    }
   ],
   "source": [
    "#what stage is the most popular?\n",
    "\n",
    "\n",
    "df.stage.value_counts()"
   ]
  },
  {
   "cell_type": "code",
   "execution_count": 461,
   "metadata": {},
   "outputs": [
    {
     "data": {
      "text/plain": [
       "Text(0.5, 1.0, 'The Distribution of Dog Stages')"
      ]
     },
     "execution_count": 461,
     "metadata": {},
     "output_type": "execute_result"
    },
    {
     "data": {
      "image/png": "[encoded data removed]",
      "text/plain": [
       "<Figure size 432x288 with 1 Axes>"
      ]
     },
     "metadata": {},
     "output_type": "display_data"
    }
   ],
   "source": [
    "# including the none values, but it is best not to include that and only get the dog stages.\n",
    "sorted_stage = df['stage'].value_counts().head(3).index\n",
    "sb.set(style=\"whitegrid\")\n",
    "sb.countplot(data = df, x = 'stage', order = sorted_stage, orient = 'h')\n",
    "plt.xticks(rotation = 360)\n",
    "plt.xlabel('Count', fontsize=14)\n",
    "plt.ylabel('Dog Stages', fontsize=14)\n",
    "plt.title('The Distribution of Dog Stages',fontsize=16)"
   ]
  },
  {
   "cell_type": "code",
   "execution_count": 475,
   "metadata": {},
   "outputs": [
    {
     "name": "stdout",
     "output_type": "stream",
     "text": [
      "Number of tweets with 'none' predicted breed:  302 (16%)\n",
      "Number of distinct breeds:  113\n"
     ]
    }
   ],
   "source": [
    "#What are the 10 most common breeds of dogs tweeted about? (Excluding the category 'none':\n",
    "str = \"Number of tweets with 'none' predicted breed:  {} ({}%)\"\n",
    "none_count = sum(df.breed == 'none')\n",
    "none_perc = none_count * 100 / df.shape[0]\n",
    "print(str.format(none_count, round(none_perc)))\n",
    "\n",
    "str = \"Number of distinct breeds:  {}\"\n",
    "print(str.format(len(df.breed.unique())))"
   ]
  },
  {
   "cell_type": "markdown",
   "metadata": {},
   "source": [
    "#### Top 10 Dog Breeds by tweet numbers"
   ]
  },
  {
   "cell_type": "code",
   "execution_count": 428,
   "metadata": {},
   "outputs": [
    {
     "name": "stdout",
     "output_type": "stream",
     "text": [
      "Breed and number of tweets\n",
      "--------------------------\n",
      "golden_retriever      153\n",
      "Labrador_retriever    101\n",
      "Pembroke              94 \n",
      "Chihuahua             89 \n",
      "pug                   62 \n",
      "toy_poodle            49 \n",
      "chow                  47 \n",
      "Samoyed               41 \n",
      "Pomeranian            40 \n",
      "malamute              33 \n",
      "Name: breed, dtype: int64\n",
      "\n",
      "Top 10 dog breeds make up 37% of all tweets\n"
     ]
    },
    {
     "data": {
      "image/png": "[encoded data removed]",
      "text/plain": [
       "<Figure size 576x360 with 1 Axes>"
      ]
     },
     "metadata": {
      "needs_background": "light"
     },
     "output_type": "display_data"
    }
   ],
   "source": [
    "top10_breeds_count = \\\n",
    "df[df.breed != 'none'].breed.value_counts().head(10)\n",
    "print(\"Breed and number of tweets\")\n",
    "print(\"--------------------------\")\n",
    "print(top10_breeds_count)\n",
    "\n",
    "top10_per = round(sum(top10_breeds_count) * 100 / df.shape[0])\n",
    "print(\"\\nTop 10 dog breeds make up {}% of all tweets\".format(top10_per))\n",
    "plt.barh(top10_breeds_count.index, top10_breeds_count)\n",
    "\n",
    "plt.xlabel('Number of Tweets', fontsize = 14)\n",
    "# plt.ylabel('Dog Breed', fontsize = 14)\n",
    "plt.title('Top 10 Dog Breeds by Tweet Count', fontsize = 16)\n",
    "plt.gca().invert_yaxis()\n",
    "plt.show();"
   ]
  },
  {
   "cell_type": "markdown",
   "metadata": {},
   "source": [
    "#### Correlation map with rating:"
   ]
  },
  {
   "cell_type": "code",
   "execution_count": 454,
   "metadata": {},
   "outputs": [
    {
     "data": {
      "image/png": "[encoded data removed]",
      "text/plain": [
       "<Figure size 432x288 with 2 Axes>"
      ]
     },
     "metadata": {
      "needs_background": "light"
     },
     "output_type": "display_data"
    }
   ],
   "source": [
    "corr = df.corr()\n",
    "plt.title('Correlation heatmap')\n",
    "sb.heatmap(corr, \n",
    "            xticklabels=corr.columns.values,\n",
    "            yticklabels=corr.columns.values,\n",
    "           annot = True,\n",
    "           cmap='RdYlGn_r');"
   ]
  },
  {
   "cell_type": "markdown",
   "metadata": {},
   "source": [
    "From the above heatmap, we see a strong correlation between retweet_counts and favorite_counts, let's explore this further"
   ]
  },
  {
   "cell_type": "markdown",
   "metadata": {},
   "source": [
    "retween count and favorite count over time:"
   ]
  },
  {
   "cell_type": "code",
   "execution_count": 449,
   "metadata": {},
   "outputs": [
    {
     "data": {
      "image/png": "[encoded data removed]",
      "text/plain": [
       "<Figure size 576x432 with 1 Axes>"
      ]
     },
     "metadata": {
      "needs_background": "light"
     },
     "output_type": "display_data"
    }
   ],
   "source": [
    "\n",
    "df.plot.line(y =['retweet_count', 'favorite_count'], style = '.', alpha = .3, figsize=(8,6))\n",
    "\n",
    "plt.title('Retweet count and favorite count over Time', fontsize = 14)\n",
    "plt.xlabel('timestamp', fontsize = 14)\n",
    "plt.ylabel('Count', fontsize = 14);"
   ]
  },
  {
   "cell_type": "markdown",
   "metadata": {},
   "source": [
    "Retweent counts and favourite tweets relationship given the dog ratings as colour - a multivariate analysis\n"
   ]
  },
  {
   "cell_type": "code",
   "execution_count": 448,
   "metadata": {},
   "outputs": [
    {
     "data": {
      "image/png": "[encoded data removed]",
      "text/plain": [
       "<Figure size 864x720 with 2 Axes>"
      ]
     },
     "metadata": {
      "needs_background": "light"
     },
     "output_type": "display_data"
    }
   ],
   "source": [
    "#referencing https://matplotlib.org/3.1.1/api/cm_api.html &\n",
    "#referencing https://stackoverflow.com/questions/25741214/how-to-use-colormaps-to-color-plots-of-pandas-dataframes\n",
    "\n",
    "\n",
    "\n",
    "\n",
    "cmap = plt.cm.get_cmap('cool') # Colour map (there are many others)\n",
    "plt.figure(figsize = (12, 10))\n",
    "\n",
    "plt.xscale('log')\n",
    "plt.yscale('log')\n",
    "plt.xlim(df['favorite_count'].min() - 10, df['favorite_count'].max() + 100000)\n",
    "plt.ylim(10, df['retweet_count'].max() + 25000)\n",
    "colours = df['rating']\n",
    "markers = 25\n",
    "\n",
    "plt.scatter(df['favorite_count'], df['retweet_count'], \n",
    "            c = colours, s = markers, cmap = cmap, edgecolor = 'None', alpha = 0.6)\n",
    "\n",
    "# title and labels\n",
    "plt.suptitle('Favorite Count vs. Retweet Count (Log10 Scale)', fontsize = 16)\n",
    "plt.title('with Rating for colour of marker', fontsize = 14)\n",
    "plt.xlabel('Favorite Count (log10)', fontsize = 14)\n",
    "plt.ylabel('Retweet Count (log10)', fontsize = 14)\n",
    "\n",
    "# colour bar\n",
    "cbar = plt.colorbar()\n",
    "cbar.set_label('Rating')\n",
    "\n",
    "plt.show();"
   ]
  },
  {
   "cell_type": "markdown",
   "metadata": {},
   "source": [
    "In the above plot we can see a strong positive correlation between retweet counts and favorite counts. Align with this is that the high favorite counts and high retweets have higher dog ratings as well. \n",
    "\n"
   ]
  },
  {
   "cell_type": "markdown",
   "metadata": {},
   "source": [
    "# Insights:"
   ]
  },
  {
   "cell_type": "markdown",
   "metadata": {},
   "source": [
    "\n",
    "* Distribution of ratings is skewed to the the left, 75% of all ratings falls between 10-14\n",
    "* 79% of tweets has a rating of 10 or higher\n",
    "* Pupper has the highest dog stage distribution\n",
    "* There are 113 distinct breeds of dog and 302 unpredicted breeds in the data\n",
    "* Top 10 dog breeds are (golden_retriever, Labrador_retriever, Pembroke, Chihuahua, pug,toy_poodle, chow,Samoyed,Pomeranian,and malamute)              \n",
    "* Top 10 dog breeds take 37% of total tweets.\n",
    "* There is a strong correlation between re-tweet counts and favourite counts.\n",
    "* In the above plot we can see a strong positive correlation between retweet counts and favorite counts. Align with this is that the high favorite counts and high retweets have higher dog ratings as well."
   ]
  }
 ],
 "metadata": {
  "kernelspec": {
   "display_name": "Python 3",
   "language": "python",
   "name": "python3"
  },
  "language_info": {
   "codemirror_mode": {
    "name": "ipython",
    "version": 3
   },
   "file_extension": ".py",
   "mimetype": "text/x-python",
   "name": "python",
   "nbconvert_exporter": "python",
   "pygments_lexer": "ipython3",
   "version": "3.7.1"
  }
 },
 "nbformat": 4,
 "nbformat_minor": 2
}
